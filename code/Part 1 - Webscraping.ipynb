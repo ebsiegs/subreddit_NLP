{
 "cells": [
  {
   "cell_type": "markdown",
   "id": "2655278b",
   "metadata": {},
   "source": [
    "\n",
    "# Classifying Passive vs. Active Revenge in Related Subreddits using NLP"
   ]
  },
  {
   "cell_type": "markdown",
   "id": "f9cb6ecf",
   "metadata": {},
   "source": [
    "--- \n",
    "# Part 1: Web Scraping\n",
    "\n",
    "--- "
   ]
  },
  {
   "cell_type": "markdown",
   "id": "934f9d32",
   "metadata": {},
   "source": [
    "## Contents\n",
    "- [Initial Exploration of Using Pushshift on Chosen Subreddits](#Initial-Exploration-of-Using-Pushshift-on-Chosen-Subreddits)\n",
    "- [Slight Modification of Gwen's Script](#Slight-Modification-of-Gwen's-Script)\n",
    "- [Alternative Function I Reworked](#Alternative-Function-I-Reworked)"
   ]
  },
  {
   "cell_type": "markdown",
   "id": "9884f4cd",
   "metadata": {},
   "source": [
    "Using the Pushshift API, I was able to query and pull 550 days of submissions from 3 Reddit Subreddits. \n",
    "\n",
    "I was initially having trouble figuring out how to loop through and get the latest created_utc as the before parameter so I used Gwen's script modified slightly here in this notebook to at least get all my data collected. I then went back and worked with Devin and figured out how to get an alternative function working appropriately (did not repull all my data for time purposes). "
   ]
  },
  {
   "cell_type": "code",
   "execution_count": 1,
   "id": "38d9affd",
   "metadata": {},
   "outputs": [],
   "source": [
    "# Import libaries here\n",
    "\n",
    "import pandas as pd\n",
    "import requests\n",
    "import datetime as dt\n",
    "import time\n",
    "import sys\n",
    "import csv\n",
    "from datetime import datetime\n",
    "import tldextract"
   ]
  },
  {
   "cell_type": "markdown",
   "id": "a131c74b",
   "metadata": {},
   "source": [
    "## Initial Exploration of Using Pushshift on Chosen Subreddits"
   ]
  },
  {
   "cell_type": "code",
   "execution_count": 2,
   "id": "e6b43eeb",
   "metadata": {},
   "outputs": [],
   "source": [
    "# Subreddits I want to query\n",
    "\n",
    "url_1 = 'https://api.pushshift.io/reddit/search/submission?subreddit=MaliciousCompliance'\n",
    "url_2 = 'https://api.pushshift.io/reddit/search/submission?subreddit=ProRevenge'\n",
    "url_3 = 'https://api.pushshift.io/reddit/search/submission?subreddit=pettyrevenge'"
   ]
  },
  {
   "cell_type": "code",
   "execution_count": 3,
   "id": "12bf99a6",
   "metadata": {},
   "outputs": [],
   "source": [
    "params1 = {'subreddit': 'MaliciousCompliance',\n",
    "           'size':'100',\n",
    "           'before': 1627207406}\n",
    "\n",
    "params2 = {'subreddit': 'ProRevenge',\n",
    "           'size':'100'}"
   ]
  },
  {
   "cell_type": "code",
   "execution_count": 4,
   "id": "ae305aff",
   "metadata": {},
   "outputs": [
    {
     "data": {
      "text/plain": [
       "200"
      ]
     },
     "execution_count": 4,
     "metadata": {},
     "output_type": "execute_result"
    }
   ],
   "source": [
    "res_1 = requests.get(url_1, params1)\n",
    "res_1.status_code"
   ]
  },
  {
   "cell_type": "code",
   "execution_count": 5,
   "id": "c562d5ef",
   "metadata": {},
   "outputs": [
    {
     "data": {
      "text/plain": [
       "200"
      ]
     },
     "execution_count": 5,
     "metadata": {},
     "output_type": "execute_result"
    }
   ],
   "source": [
    "res_2 = requests.get(url_2, params2)\n",
    "res_2.status_code"
   ]
  },
  {
   "cell_type": "code",
   "execution_count": 6,
   "id": "c14e6ff2",
   "metadata": {},
   "outputs": [
    {
     "data": {
      "text/plain": [
       "200"
      ]
     },
     "execution_count": 6,
     "metadata": {},
     "output_type": "execute_result"
    }
   ],
   "source": [
    "res_3 = requests.get(url_3)\n",
    "res_3.status_code"
   ]
  },
  {
   "cell_type": "code",
   "execution_count": 7,
   "id": "116c45ff",
   "metadata": {},
   "outputs": [],
   "source": [
    "json_1 = res_1.json()\n",
    "#json_1"
   ]
  },
  {
   "cell_type": "code",
   "execution_count": 8,
   "id": "dc641835",
   "metadata": {},
   "outputs": [],
   "source": [
    "json_2 = res_2.json()\n",
    "#json_2"
   ]
  },
  {
   "cell_type": "code",
   "execution_count": 9,
   "id": "eb5ffb74",
   "metadata": {},
   "outputs": [
    {
     "data": {
      "text/plain": [
       "1626858928"
      ]
     },
     "execution_count": 9,
     "metadata": {},
     "output_type": "execute_result"
    }
   ],
   "source": [
    "json_1['data'][-1]['created_utc']"
   ]
  },
  {
   "cell_type": "code",
   "execution_count": 11,
   "id": "bb6c8624",
   "metadata": {
    "scrolled": true
   },
   "outputs": [],
   "source": [
    "# Checking to see what features I want to keep and also the UTC timestamp to use - COMMENTING OUT FOR SPACE\n",
    "#json_1['data'][:-1]"
   ]
  },
  {
   "cell_type": "code",
   "execution_count": 12,
   "id": "0f6959b6",
   "metadata": {
    "scrolled": true
   },
   "outputs": [],
   "source": [
    "#json_2['data'][:-1] - COMMENTING OUT FOR SPACE"
   ]
  },
  {
   "cell_type": "markdown",
   "id": "7cfdea19",
   "metadata": {},
   "source": [
    "## Slight Modification of Gwen's Script"
   ]
  },
  {
   "cell_type": "code",
   "execution_count": 2,
   "id": "b621ebac",
   "metadata": {},
   "outputs": [
    {
     "name": "stdout",
     "output_type": "stream",
     "text": [
      "Please enter the number of days: 550\n",
      "Querying MaliciousCompliance...\n",
      "100 of 550 requests completed\n",
      "200 of 550 requests completed\n",
      "300 of 550 requests completed\n",
      "400 of 550 requests completed\n",
      "500 of 550 requests completed\n",
      "Querying pettyrevenge...\n",
      "100 of 550 requests completed\n",
      "200 of 550 requests completed\n",
      "300 of 550 requests completed\n",
      "400 of 550 requests completed\n",
      "500 of 550 requests completed\n",
      "Querying ProRevenge...\n",
      "100 of 550 requests completed\n",
      "200 of 550 requests completed\n",
      "300 of 550 requests completed\n",
      "400 of 550 requests completed\n",
      "500 of 550 requests completed\n"
     ]
    }
   ],
   "source": [
    "#REFERENCE: Gwen's script\n",
    "\n",
    "subs = ['MaliciousCompliance', 'pettyrevenge', 'ProRevenge']\n",
    "\n",
    "\n",
    "# Set number of days of data to gather\n",
    "try:\n",
    "    days = int(sys.argv[1])\n",
    "except:\n",
    "    days = int(input('Please enter the number of days: '))\n",
    "    \n",
    "base_url =  'https://api.pushshift.io/reddit/'\n",
    "\n",
    "# Function to make an individual Pushshift API request\n",
    "# Returns dictionary of the .json API response\n",
    "def request_posts(subreddit, days_ago, base_url=base_url, \n",
    "                  endpoint='search/submission/', is_video='is_video=false'):\n",
    "    try:    \n",
    "        response = requests.get(f'{base_url}{endpoint}?subreddit={subreddit}&{is_video}&before={days_ago}d&after={days_ago+1}d&size=100')\n",
    "        assert response.status_code == 200\n",
    "    except:\n",
    "        pass\n",
    "    \n",
    "    return response\n",
    "\n",
    "# Function to make n requests of 100 posts from n days\n",
    "# Returns dataframe of API responses from a subreddit\n",
    "def make_requests(subreddit, days_of_data):\n",
    "    all_results = []\n",
    "    \n",
    "    for i in range(1, days_of_data):\n",
    "        try:\n",
    "            entry = request_posts(subreddit,i)\n",
    "            all_results.append(pd.DataFrame(entry.json()['data']))\n",
    "        except:\n",
    "            pass\n",
    "        if i % 100 == 0:\n",
    "            print(f'{i} of {days_of_data} requests completed')\n",
    "        time.sleep(1.5)\n",
    "        \n",
    "    return pd.concat(all_results)\n",
    "\n",
    "# Function to make n requests of 100 posts from n days over m subreddits\n",
    "# Returns dataframe of API responses from all subreddits\n",
    "def request_all_subs(list_of_subreddits, days_of_data):\n",
    "    all_results = []\n",
    "    for sub in list_of_subreddits:\n",
    "        print(f'Querying {sub}...')\n",
    "        sub_df = make_requests(sub,days_of_data)\n",
    "        all_results.append(sub_df)\n",
    "    return pd.concat(all_results)\n",
    "\n",
    "# Executes all requests for n days of data across the subreddits list and writes results to a .csv\n",
    "def main(days=days):\n",
    "    df = request_all_subs(subs,days)\n",
    "    df.to_csv('../data/subreddit_data.csv', index=False)\n",
    "\n",
    "if __name__ == \"__main__\":\n",
    "    main()"
   ]
  },
  {
   "cell_type": "markdown",
   "id": "2c9fe36e",
   "metadata": {},
   "source": [
    "## Alternative Function I Reworked"
   ]
  },
  {
   "cell_type": "code",
   "execution_count": 6,
   "id": "5c11a806",
   "metadata": {},
   "outputs": [],
   "source": [
    "#REFERENCES: pushshift_demo lesson, help from Devin Fay\n",
    "\n",
    "def query_pushshift(subreddit):\n",
    "    SUBFIELDS = ['title', 'selftext', 'subreddit', 'created_utc', 'author', 'num_comments', 'score', 'is_self']\n",
    "    \n",
    "    # establish base url and stem\n",
    "    BASE_URL = f\"https://api.pushshift.io/reddit/search/submission\"\n",
    "    \n",
    "    #params to pass to url\n",
    "    params = {'subreddit': subreddit,\n",
    "             'size': 100\n",
    "             }\n",
    "    \n",
    "    # instantiate empty list for temp storage\n",
    "    posts = []\n",
    "    \n",
    "    # implement for loop with time.sleep\n",
    "    for i in range(1, 3):\n",
    "        response = requests.get(BASE_URL, params) #added params to url request\n",
    "        assert response.status_code == 200\n",
    "        mine = response.json()['data']\n",
    "        df = pd.DataFrame.from_dict(mine)\n",
    "        params['before'] = df[\"created_utc\"].min()  #setting the before param to min of last scrape instance\n",
    "        posts.append(df)\n",
    "        time.sleep(1.5)\n",
    "    \n",
    "    # pd.concat storage list\n",
    "    full = pd.concat(posts, sort=False)\n",
    "    \n",
    "    # select desired columns\n",
    "    full = full[SUBFIELDS]\n",
    "    # drop duplicates\n",
    "    full.drop_duplicates(inplace = True)\n",
    "    # select `is_self` == True\n",
    "    full = full.loc[full['is_self'] == True]\n",
    "\n",
    "    # create `timestamp` column\n",
    "    full['timestamp'] = full[\"created_utc\"].map(dt.date.fromtimestamp)\n",
    "    \n",
    "    print(\"Query Complete!\")    \n",
    "    return full "
   ]
  },
  {
   "cell_type": "code",
   "execution_count": 7,
   "id": "71424c8e",
   "metadata": {
    "scrolled": false
   },
   "outputs": [
    {
     "name": "stdout",
     "output_type": "stream",
     "text": [
      "Query Complete!\n"
     ]
    },
    {
     "data": {
      "text/html": [
       "<div>\n",
       "<style scoped>\n",
       "    .dataframe tbody tr th:only-of-type {\n",
       "        vertical-align: middle;\n",
       "    }\n",
       "\n",
       "    .dataframe tbody tr th {\n",
       "        vertical-align: top;\n",
       "    }\n",
       "\n",
       "    .dataframe thead th {\n",
       "        text-align: right;\n",
       "    }\n",
       "</style>\n",
       "<table border=\"1\" class=\"dataframe\">\n",
       "  <thead>\n",
       "    <tr style=\"text-align: right;\">\n",
       "      <th></th>\n",
       "      <th>title</th>\n",
       "      <th>selftext</th>\n",
       "      <th>subreddit</th>\n",
       "      <th>created_utc</th>\n",
       "      <th>author</th>\n",
       "      <th>num_comments</th>\n",
       "      <th>score</th>\n",
       "      <th>is_self</th>\n",
       "      <th>timestamp</th>\n",
       "    </tr>\n",
       "  </thead>\n",
       "  <tbody>\n",
       "    <tr>\n",
       "      <th>0</th>\n",
       "      <td>Manager forces me to get a doctor's note despi...</td>\n",
       "      <td>I posted this but it got removed and I think i...</td>\n",
       "      <td>MaliciousCompliance</td>\n",
       "      <td>1627928961</td>\n",
       "      <td>kathjoy</td>\n",
       "      <td>0</td>\n",
       "      <td>1</td>\n",
       "      <td>True</td>\n",
       "      <td>2021-08-02</td>\n",
       "    </tr>\n",
       "    <tr>\n",
       "      <th>1</th>\n",
       "      <td>Not mine, reposted from Quora</td>\n",
       "      <td>[removed]</td>\n",
       "      <td>MaliciousCompliance</td>\n",
       "      <td>1627921742</td>\n",
       "      <td>ericherde</td>\n",
       "      <td>0</td>\n",
       "      <td>1</td>\n",
       "      <td>True</td>\n",
       "      <td>2021-08-02</td>\n",
       "    </tr>\n",
       "    <tr>\n",
       "      <th>2</th>\n",
       "      <td>What pool?</td>\n",
       "      <td>Obligatory reminded of this by another post/wa...</td>\n",
       "      <td>MaliciousCompliance</td>\n",
       "      <td>1627919788</td>\n",
       "      <td>robbie5643</td>\n",
       "      <td>0</td>\n",
       "      <td>1</td>\n",
       "      <td>True</td>\n",
       "      <td>2021-08-02</td>\n",
       "    </tr>\n",
       "    <tr>\n",
       "      <th>3</th>\n",
       "      <td>Put your jammies in the laundry hamper</td>\n",
       "      <td>I had the laundry hamper on the floor waiting ...</td>\n",
       "      <td>MaliciousCompliance</td>\n",
       "      <td>1627917011</td>\n",
       "      <td>exhaustedmommyof2</td>\n",
       "      <td>0</td>\n",
       "      <td>1</td>\n",
       "      <td>True</td>\n",
       "      <td>2021-08-02</td>\n",
       "    </tr>\n",
       "    <tr>\n",
       "      <th>4</th>\n",
       "      <td>Make Money Online Free Sign up</td>\n",
       "      <td>[removed]</td>\n",
       "      <td>MaliciousCompliance</td>\n",
       "      <td>1627915625</td>\n",
       "      <td>zqw004</td>\n",
       "      <td>0</td>\n",
       "      <td>1</td>\n",
       "      <td>True</td>\n",
       "      <td>2021-08-02</td>\n",
       "    </tr>\n",
       "    <tr>\n",
       "      <th>...</th>\n",
       "      <td>...</td>\n",
       "      <td>...</td>\n",
       "      <td>...</td>\n",
       "      <td>...</td>\n",
       "      <td>...</td>\n",
       "      <td>...</td>\n",
       "      <td>...</td>\n",
       "      <td>...</td>\n",
       "      <td>...</td>\n",
       "    </tr>\n",
       "    <tr>\n",
       "      <th>95</th>\n",
       "      <td>Go home and iron my trousers? Okay</td>\n",
       "      <td>Short but sweet MC.\\n\\nI used to work in a fac...</td>\n",
       "      <td>MaliciousCompliance</td>\n",
       "      <td>1627069084</td>\n",
       "      <td>annieseesyou</td>\n",
       "      <td>49</td>\n",
       "      <td>1</td>\n",
       "      <td>True</td>\n",
       "      <td>2021-07-23</td>\n",
       "    </tr>\n",
       "    <tr>\n",
       "      <th>96</th>\n",
       "      <td>Using the \"training purposes\" recording agains...</td>\n",
       "      <td>[removed]</td>\n",
       "      <td>MaliciousCompliance</td>\n",
       "      <td>1627063206</td>\n",
       "      <td>RepresentativeFit527</td>\n",
       "      <td>0</td>\n",
       "      <td>1</td>\n",
       "      <td>True</td>\n",
       "      <td>2021-07-23</td>\n",
       "    </tr>\n",
       "    <tr>\n",
       "      <th>97</th>\n",
       "      <td>Ignorant manager wanted me to build a training...</td>\n",
       "      <td>So this has been a little while coming and not...</td>\n",
       "      <td>MaliciousCompliance</td>\n",
       "      <td>1627063054</td>\n",
       "      <td>ex-turpi-causa</td>\n",
       "      <td>82</td>\n",
       "      <td>1</td>\n",
       "      <td>True</td>\n",
       "      <td>2021-07-23</td>\n",
       "    </tr>\n",
       "    <tr>\n",
       "      <th>98</th>\n",
       "      <td>Can't wear swimming trunks to the pool? Fine I...</td>\n",
       "      <td>Few years back I was on a camping with some fr...</td>\n",
       "      <td>MaliciousCompliance</td>\n",
       "      <td>1627062948</td>\n",
       "      <td>StunkRebel</td>\n",
       "      <td>23</td>\n",
       "      <td>1</td>\n",
       "      <td>True</td>\n",
       "      <td>2021-07-23</td>\n",
       "    </tr>\n",
       "    <tr>\n",
       "      <th>99</th>\n",
       "      <td>The future's so bright I gotta wear shades</td>\n",
       "      <td>I posted this a while ago and it was removed f...</td>\n",
       "      <td>MaliciousCompliance</td>\n",
       "      <td>1627060788</td>\n",
       "      <td>RecommendationNo191</td>\n",
       "      <td>34</td>\n",
       "      <td>1</td>\n",
       "      <td>True</td>\n",
       "      <td>2021-07-23</td>\n",
       "    </tr>\n",
       "  </tbody>\n",
       "</table>\n",
       "<p>197 rows × 9 columns</p>\n",
       "</div>"
      ],
      "text/plain": [
       "                                                title  \\\n",
       "0   Manager forces me to get a doctor's note despi...   \n",
       "1                       Not mine, reposted from Quora   \n",
       "2                                          What pool?   \n",
       "3              Put your jammies in the laundry hamper   \n",
       "4                      Make Money Online Free Sign up   \n",
       "..                                                ...   \n",
       "95                 Go home and iron my trousers? Okay   \n",
       "96  Using the \"training purposes\" recording agains...   \n",
       "97  Ignorant manager wanted me to build a training...   \n",
       "98  Can't wear swimming trunks to the pool? Fine I...   \n",
       "99         The future's so bright I gotta wear shades   \n",
       "\n",
       "                                             selftext            subreddit  \\\n",
       "0   I posted this but it got removed and I think i...  MaliciousCompliance   \n",
       "1                                           [removed]  MaliciousCompliance   \n",
       "2   Obligatory reminded of this by another post/wa...  MaliciousCompliance   \n",
       "3   I had the laundry hamper on the floor waiting ...  MaliciousCompliance   \n",
       "4                                           [removed]  MaliciousCompliance   \n",
       "..                                                ...                  ...   \n",
       "95  Short but sweet MC.\\n\\nI used to work in a fac...  MaliciousCompliance   \n",
       "96                                          [removed]  MaliciousCompliance   \n",
       "97  So this has been a little while coming and not...  MaliciousCompliance   \n",
       "98  Few years back I was on a camping with some fr...  MaliciousCompliance   \n",
       "99  I posted this a while ago and it was removed f...  MaliciousCompliance   \n",
       "\n",
       "    created_utc                author  num_comments  score  is_self  \\\n",
       "0    1627928961               kathjoy             0      1     True   \n",
       "1    1627921742             ericherde             0      1     True   \n",
       "2    1627919788            robbie5643             0      1     True   \n",
       "3    1627917011     exhaustedmommyof2             0      1     True   \n",
       "4    1627915625                zqw004             0      1     True   \n",
       "..          ...                   ...           ...    ...      ...   \n",
       "95   1627069084          annieseesyou            49      1     True   \n",
       "96   1627063206  RepresentativeFit527             0      1     True   \n",
       "97   1627063054        ex-turpi-causa            82      1     True   \n",
       "98   1627062948            StunkRebel            23      1     True   \n",
       "99   1627060788   RecommendationNo191            34      1     True   \n",
       "\n",
       "     timestamp  \n",
       "0   2021-08-02  \n",
       "1   2021-08-02  \n",
       "2   2021-08-02  \n",
       "3   2021-08-02  \n",
       "4   2021-08-02  \n",
       "..         ...  \n",
       "95  2021-07-23  \n",
       "96  2021-07-23  \n",
       "97  2021-07-23  \n",
       "98  2021-07-23  \n",
       "99  2021-07-23  \n",
       "\n",
       "[197 rows x 9 columns]"
      ]
     },
     "execution_count": 7,
     "metadata": {},
     "output_type": "execute_result"
    }
   ],
   "source": [
    "# Testing to make sure it worked\n",
    "malicious = query_pushshift('MaliciousCompliance')"
   ]
  },
  {
   "cell_type": "code",
   "execution_count": null,
   "id": "bff53d29",
   "metadata": {},
   "outputs": [],
   "source": [
    "# Save data to CSVs\n",
    "\n",
    "malicious.to_csv('../data/malicious_pushshift.csv')\n",
    "petty.to_csv('../data/petty_pushshift.csv')\n",
    "pro.to_csv('../data/pro_pushshift.csv')"
   ]
  }
 ],
 "metadata": {
  "kernelspec": {
   "display_name": "Python 3",
   "language": "python",
   "name": "python3"
  },
  "language_info": {
   "codemirror_mode": {
    "name": "ipython",
    "version": 3
   },
   "file_extension": ".py",
   "mimetype": "text/x-python",
   "name": "python",
   "nbconvert_exporter": "python",
   "pygments_lexer": "ipython3",
   "version": "3.8.8"
  }
 },
 "nbformat": 4,
 "nbformat_minor": 5
}
