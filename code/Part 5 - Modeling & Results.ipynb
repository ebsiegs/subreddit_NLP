{
 "cells": [
  {
   "cell_type": "markdown",
   "id": "6b2774a3",
   "metadata": {},
   "source": [
    "\n",
    "# Classifying Passive vs. Active Revenge in Related Subreddits using NLP"
   ]
  },
  {
   "cell_type": "markdown",
   "id": "76fa062f",
   "metadata": {},
   "source": [
    "## Contents\n",
    "- [Baseline Classifier](#Baseline-Classifier)\n",
    "- [Logistic Regression](#Logistic-Regression)\n",
    "- [Lasso Logistic Regression](#Lasso-Logistic-Regression)\n",
    "- [Random Forest](#Random-Forest)\n",
    "- [Multinomial Naïve Bayes](#Multinomial-Naïve-Bayes)\n",
    "- [Model Evaluation](#Model-Evaluation)\n",
    "- [Conclusions & Recommendations](#Conclusions-&-Recommendations)"
   ]
  },
  {
   "cell_type": "markdown",
   "id": "42b9620e",
   "metadata": {},
   "source": [
    "--- \n",
    "# Part 5 : Modeling & Results\n",
    "\n",
    "--- "
   ]
  },
  {
   "cell_type": "markdown",
   "id": "25ba8977",
   "metadata": {},
   "source": [
    "Now that our data has been scraped, cleaned, lemmatized, vectorized and visualized (EDA), we will now attempt several machine learning classification models in order to find which one performs best on our subreddit data. \n",
    "\n",
    "The following models were used:\n",
    "\n",
    "* Baseline Classifier\n",
    "* Logistic Regression\n",
    "* Lasso Logistic Regression\n",
    "* Random Forest\n",
    "* Multinomial Naïve Bayes\n",
    "\n",
    "\n",
    "Methodology for training each model:\n",
    "\n",
    "- Choose hyperparameters we want to tune.\n",
    "- Decide what model performance metrics to use - I use Accuracy as the main metric.\n",
    "- Use TfidVectorizer to prepare our text for modeling with Pipelines & Randomized Search Cross Validation in order to find the best hyperparameters that balance bias and variance.\n",
    "- Compare model performance of each model and determine which is best for as our production model."
   ]
  },
  {
   "cell_type": "code",
   "execution_count": 5,
   "id": "6a0dd043",
   "metadata": {},
   "outputs": [],
   "source": [
    "import pandas as pd\n",
    "import numpy as np\n",
    "import matplotlib.pyplot as plt\n",
    "import seaborn as sns\n",
    "import json\n",
    "from sklearn.model_selection import GridSearchCV, RandomizedSearchCV, train_test_split\n",
    "from sklearn.pipeline import Pipeline\n",
    "from sklearn.feature_extraction.text import CountVectorizer, TfidfVectorizer\n",
    "from sklearn.preprocessing import StandardScaler\n",
    "from sklearn.linear_model import LogisticRegression\n",
    "from sklearn.ensemble import RandomForestClassifier\n",
    "from sklearn.naive_bayes import MultinomialNB\n",
    "from sklearn.metrics import confusion_matrix, plot_confusion_matrix, accuracy_score\n",
    "from scipy.stats import uniform, loguniform\n",
    "\n",
    "# Set display options\n",
    "pd.set_option('display.max_columns', 100)\n",
    "pd.set_option('display.max_rows', 100)"
   ]
  },
  {
   "cell_type": "code",
   "execution_count": 7,
   "id": "6769918a",
   "metadata": {},
   "outputs": [],
   "source": [
    "# Read in cleaned and preprocessed csv file & create df\n",
    "\n",
    "df = pd.read_csv('../data/preprocessed_cleaned_subreddit_data.csv')"
   ]
  },
  {
   "cell_type": "code",
   "execution_count": 8,
   "id": "15414303",
   "metadata": {},
   "outputs": [],
   "source": [
    "#Reference: https://stackoverflow.com/questions/21104592/json-to-pandas-dataframe\n",
    "# Reading in our custom stop words json file we created\n",
    "\n",
    "with open('../data/more_stopwords.json', 'r') as infile:\n",
    "    more_stopwords = json.load(infile)\n",
    "more_stopwords = more_stopwords['words']"
   ]
  },
  {
   "cell_type": "code",
   "execution_count": 4,
   "id": "21120216",
   "metadata": {},
   "outputs": [
    {
     "data": {
      "text/html": [
       "<div>\n",
       "<style scoped>\n",
       "    .dataframe tbody tr th:only-of-type {\n",
       "        vertical-align: middle;\n",
       "    }\n",
       "\n",
       "    .dataframe tbody tr th {\n",
       "        vertical-align: top;\n",
       "    }\n",
       "\n",
       "    .dataframe thead th {\n",
       "        text-align: right;\n",
       "    }\n",
       "</style>\n",
       "<table border=\"1\" class=\"dataframe\">\n",
       "  <thead>\n",
       "    <tr style=\"text-align: right;\">\n",
       "      <th></th>\n",
       "      <th>author</th>\n",
       "      <th>num_comments</th>\n",
       "      <th>score</th>\n",
       "      <th>subreddit</th>\n",
       "      <th>timestamp</th>\n",
       "      <th>all_text</th>\n",
       "      <th>lems</th>\n",
       "    </tr>\n",
       "  </thead>\n",
       "  <tbody>\n",
       "    <tr>\n",
       "      <th>0</th>\n",
       "      <td>Erahth</td>\n",
       "      <td>12</td>\n",
       "      <td>1</td>\n",
       "      <td>MaliciousCompliance</td>\n",
       "      <td>2021-08-01 00:11:01</td>\n",
       "      <td>one more sip so this just happened my 3 5yo so...</td>\n",
       "      <td>one more sip so this just happened my 3 5yo so...</td>\n",
       "    </tr>\n",
       "    <tr>\n",
       "      <th>1</th>\n",
       "      <td>MorrisonsLament</td>\n",
       "      <td>39</td>\n",
       "      <td>1</td>\n",
       "      <td>MaliciousCompliance</td>\n",
       "      <td>2021-08-01 00:12:45</td>\n",
       "      <td>you can t fire me but you can make me stop wo...</td>\n",
       "      <td>you can t fire me but you can make me stop wo...</td>\n",
       "    </tr>\n",
       "    <tr>\n",
       "      <th>2</th>\n",
       "      <td>infiniteknights</td>\n",
       "      <td>215</td>\n",
       "      <td>1</td>\n",
       "      <td>MaliciousCompliance</td>\n",
       "      <td>2021-08-01 00:21:24</td>\n",
       "      <td>personal responsibility ok i ve been doing al...</td>\n",
       "      <td>personal responsibility ok i ve been doing al...</td>\n",
       "    </tr>\n",
       "    <tr>\n",
       "      <th>3</th>\n",
       "      <td>SimRayB</td>\n",
       "      <td>19</td>\n",
       "      <td>1</td>\n",
       "      <td>MaliciousCompliance</td>\n",
       "      <td>2021-08-01 00:42:46</td>\n",
       "      <td>you put all of those in your mouth or you can ...</td>\n",
       "      <td>you put all of those in your mouth or you can ...</td>\n",
       "    </tr>\n",
       "    <tr>\n",
       "      <th>4</th>\n",
       "      <td>CSPhCT</td>\n",
       "      <td>28</td>\n",
       "      <td>1</td>\n",
       "      <td>MaliciousCompliance</td>\n",
       "      <td>2021-08-01 06:01:07</td>\n",
       "      <td>patient wants what he wants so i just need to ...</td>\n",
       "      <td>patient want what he want so i just need to sh...</td>\n",
       "    </tr>\n",
       "  </tbody>\n",
       "</table>\n",
       "</div>"
      ],
      "text/plain": [
       "            author  num_comments  score            subreddit  \\\n",
       "0           Erahth            12      1  MaliciousCompliance   \n",
       "1  MorrisonsLament            39      1  MaliciousCompliance   \n",
       "2  infiniteknights           215      1  MaliciousCompliance   \n",
       "3          SimRayB            19      1  MaliciousCompliance   \n",
       "4           CSPhCT            28      1  MaliciousCompliance   \n",
       "\n",
       "             timestamp                                           all_text  \\\n",
       "0  2021-08-01 00:11:01  one more sip so this just happened my 3 5yo so...   \n",
       "1  2021-08-01 00:12:45   you can t fire me but you can make me stop wo...   \n",
       "2  2021-08-01 00:21:24   personal responsibility ok i ve been doing al...   \n",
       "3  2021-08-01 00:42:46  you put all of those in your mouth or you can ...   \n",
       "4  2021-08-01 06:01:07  patient wants what he wants so i just need to ...   \n",
       "\n",
       "                                                lems  \n",
       "0  one more sip so this just happened my 3 5yo so...  \n",
       "1   you can t fire me but you can make me stop wo...  \n",
       "2   personal responsibility ok i ve been doing al...  \n",
       "3  you put all of those in your mouth or you can ...  \n",
       "4  patient want what he want so i just need to sh...  "
      ]
     },
     "execution_count": 4,
     "metadata": {},
     "output_type": "execute_result"
    }
   ],
   "source": [
    "df.head()"
   ]
  },
  {
   "cell_type": "code",
   "execution_count": 5,
   "id": "61968124",
   "metadata": {},
   "outputs": [
    {
     "name": "stdout",
     "output_type": "stream",
     "text": [
      "<class 'pandas.core.frame.DataFrame'>\n",
      "RangeIndex: 11189 entries, 0 to 11188\n",
      "Data columns (total 7 columns):\n",
      " #   Column        Non-Null Count  Dtype \n",
      "---  ------        --------------  ----- \n",
      " 0   author        11189 non-null  object\n",
      " 1   num_comments  11189 non-null  int64 \n",
      " 2   score         11189 non-null  int64 \n",
      " 3   subreddit     11189 non-null  object\n",
      " 4   timestamp     11189 non-null  object\n",
      " 5   all_text      11189 non-null  object\n",
      " 6   lems          11189 non-null  object\n",
      "dtypes: int64(2), object(5)\n",
      "memory usage: 612.0+ KB\n"
     ]
    }
   ],
   "source": [
    "df.info()"
   ]
  },
  {
   "cell_type": "code",
   "execution_count": 9,
   "id": "d75cfda7",
   "metadata": {},
   "outputs": [],
   "source": [
    "# Combine pettyrevenge and ProRevenge for the target column and reclassify each class as active or passive\n",
    "\n",
    "subs = {\n",
    "    'MaliciousCompliance': 'passive',\n",
    "    'pettyrevenge': 'active',\n",
    "    'ProRevenge': 'active',\n",
    "}\n",
    "\n",
    "df['subreddits'] = df['subreddit']\n",
    "df = df.replace({'subreddits':subs})"
   ]
  },
  {
   "cell_type": "markdown",
   "id": "b52e76e5",
   "metadata": {},
   "source": [
    "### Helper Function "
   ]
  },
  {
   "cell_type": "code",
   "execution_count": 4,
   "id": "3919b251",
   "metadata": {},
   "outputs": [],
   "source": [
    "# Table of Train and Test Accuracy\n",
    "# REFERENCE: Once again THANK YOU GWEN\n",
    "model_accuracy = pd.DataFrame()\n",
    "\n",
    "def add_accuracy(model, title):\n",
    "    model_accuracy.loc[title, 'Train Accuracy'] = model.best_estimator_.score(\n",
    "        X_train, y_train)\n",
    "    model_accuracy.loc[title, 'Test Accuracy'] = model.best_estimator_.score(\n",
    "        X_test, y_test)\n",
    "    model_accuracy.loc[title, 'Variance'] = round(model.best_estimator_.score(\n",
    "        X_train, y_train) - model.best_estimator_.score(X_test, y_test), 4)\n",
    "    model_accuracy.loc[title, 'Best Params'] = str(model.best_params_)"
   ]
  },
  {
   "cell_type": "markdown",
   "id": "0301f625",
   "metadata": {},
   "source": [
    "## Baseline Classifier"
   ]
  },
  {
   "cell_type": "markdown",
   "id": "7253a595",
   "metadata": {},
   "source": [
    "We are going use the combined Active Revenge subreddits so that is our majority class. It represents 52.6% of the whole dataset as our baseline classifier. "
   ]
  },
  {
   "cell_type": "code",
   "execution_count": 7,
   "id": "869a334d",
   "metadata": {},
   "outputs": [
    {
     "data": {
      "text/plain": [
       "MaliciousCompliance    0.473948\n",
       "pettyrevenge           0.300295\n",
       "ProRevenge             0.225757\n",
       "Name: subreddit, dtype: float64"
      ]
     },
     "execution_count": 7,
     "metadata": {},
     "output_type": "execute_result"
    }
   ],
   "source": [
    "# Baseline with all 3\n",
    "df['subreddit'].value_counts(normalize = True)"
   ]
  },
  {
   "cell_type": "code",
   "execution_count": 8,
   "id": "76bb1c3a",
   "metadata": {},
   "outputs": [
    {
     "data": {
      "text/plain": [
       "active     0.526052\n",
       "passive    0.473948\n",
       "Name: subreddits, dtype: float64"
      ]
     },
     "execution_count": 8,
     "metadata": {},
     "output_type": "execute_result"
    }
   ],
   "source": [
    "# Baseline with active vs passive - I will stick with this to have a \n",
    "df['subreddits'].value_counts(normalize = True)"
   ]
  },
  {
   "cell_type": "markdown",
   "id": "68cf707f",
   "metadata": {},
   "source": [
    "## Setting up our Data for Modeling"
   ]
  },
  {
   "cell_type": "code",
   "execution_count": 10,
   "id": "6761f577",
   "metadata": {},
   "outputs": [],
   "source": [
    "# Using perviously lemmatized column as our features\n",
    "X = df['lems']\n",
    "y = df['subreddits']\n",
    "\n",
    "# Setting up our train test split\n",
    "X_train, X_test, y_train, y_test = train_test_split(X, y, stratify = y, random_state = 42, test_size=0.33)"
   ]
  },
  {
   "cell_type": "code",
   "execution_count": 19,
   "id": "6ee4f7f0",
   "metadata": {},
   "outputs": [
    {
     "name": "stdout",
     "output_type": "stream",
     "text": [
      "(7496, 5000)\n",
      "(3693, 5000)\n"
     ]
    }
   ],
   "source": [
    "# Using TF-IDF Vectors for features (this is just an initial run for a base logistic regression model)\n",
    "tfidf = TfidfVectorizer(ngram_range=(1,2),\n",
    "                        stop_words=more_stopwords,\n",
    "                        max_features=5000)\n",
    "                        \n",
    "features_train = tfidf.fit_transform(X_train).toarray()\n",
    "labels_train = y_train\n",
    "print(features_train.shape)\n",
    "\n",
    "features_test = tfidf.transform(X_test).toarray()\n",
    "labels_test = y_test\n",
    "print(features_test.shape)"
   ]
  },
  {
   "cell_type": "markdown",
   "id": "cae7dba5",
   "metadata": {},
   "source": [
    "## Logistic Regression"
   ]
  },
  {
   "cell_type": "code",
   "execution_count": 92,
   "id": "8c63a158",
   "metadata": {},
   "outputs": [
    {
     "data": {
      "text/plain": [
       "LogisticRegression(max_iter=3000, penalty='none')"
      ]
     },
     "execution_count": 92,
     "metadata": {},
     "output_type": "execute_result"
    }
   ],
   "source": [
    "#Instantiate model using TF-IDF features created above\n",
    "logreg = LogisticRegression(penalty='none', solver='lbfgs', max_iter=3000)\n",
    "\n",
    "# Fit the random search model\n",
    "logreg.fit(features_train, labels_train)"
   ]
  },
  {
   "cell_type": "code",
   "execution_count": 93,
   "id": "83c2ed89",
   "metadata": {},
   "outputs": [
    {
     "data": {
      "text/plain": [
       "(0.999332977588047, 0.7330083942594097)"
      ]
     },
     "execution_count": 93,
     "metadata": {},
     "output_type": "execute_result"
    }
   ],
   "source": [
    "logreg.score(features_train, labels_train), logreg.score(features_test, labels_test)"
   ]
  },
  {
   "cell_type": "code",
   "execution_count": 130,
   "id": "c73e6248",
   "metadata": {},
   "outputs": [
    {
     "data": {
      "image/png": "[encoded data removed]",
      "text/plain": [
       "<Figure size 576x576 with 2 Axes>"
      ]
     },
     "metadata": {
      "needs_background": "light"
     },
     "output_type": "display_data"
    }
   ],
   "source": [
    "# Plot confusion matrix\n",
    "\n",
    "fig, ax = plt.subplots(figsize=(8, 8))\n",
    "plot_confusion_matrix(logreg, features_test, labels_test,values_format='d', cmap='YlGnBu', ax=ax)\n",
    "plt.title('Confusion Matrix for Logistic Regression');"
   ]
  },
  {
   "cell_type": "code",
   "execution_count": 165,
   "id": "3eb76c91",
   "metadata": {},
   "outputs": [
    {
     "data": {
      "text/html": [
       "<div>\n",
       "<style scoped>\n",
       "    .dataframe tbody tr th:only-of-type {\n",
       "        vertical-align: middle;\n",
       "    }\n",
       "\n",
       "    .dataframe tbody tr th {\n",
       "        vertical-align: top;\n",
       "    }\n",
       "\n",
       "    .dataframe thead th {\n",
       "        text-align: right;\n",
       "    }\n",
       "</style>\n",
       "<table border=\"1\" class=\"dataframe\">\n",
       "  <thead>\n",
       "    <tr style=\"text-align: right;\">\n",
       "      <th></th>\n",
       "      <th>Train Accuracy</th>\n",
       "      <th>Test Accuracy</th>\n",
       "      <th>Variance</th>\n",
       "    </tr>\n",
       "  </thead>\n",
       "  <tbody>\n",
       "    <tr>\n",
       "      <th>Logistic Regression</th>\n",
       "      <td>0.999333</td>\n",
       "      <td>0.733008</td>\n",
       "      <td>0.2663</td>\n",
       "    </tr>\n",
       "  </tbody>\n",
       "</table>\n",
       "</div>"
      ],
      "text/plain": [
       "                     Train Accuracy  Test Accuracy  Variance\n",
       "Logistic Regression        0.999333       0.733008    0.2663"
      ]
     },
     "execution_count": 165,
     "metadata": {},
     "output_type": "execute_result"
    }
   ],
   "source": [
    "model_accuracy.loc['Logistic Regression','Train Accuracy'] = logreg.score(features_train, labels_train)\n",
    "\n",
    "model_accuracy.loc['Logistic Regression','Test Accuracy'] = logreg.score(features_test, labels_test)\n",
    "\n",
    "model_accuracy.loc['Logistic Regression', 'Variance'] = round(\n",
    "    logreg.score(features_train, labels_train) - logreg.score(features_test, labels_test), 4)\n",
    "\n",
    "model_accuracy"
   ]
  },
  {
   "cell_type": "markdown",
   "id": "6c16c921",
   "metadata": {},
   "source": [
    "Terribly overfit first pass. We can do better. "
   ]
  },
  {
   "cell_type": "markdown",
   "id": "f330dfd6",
   "metadata": {},
   "source": [
    "## Lasso Logistic Regression"
   ]
  },
  {
   "cell_type": "code",
   "execution_count": 18,
   "id": "a40af6d0",
   "metadata": {},
   "outputs": [],
   "source": [
    "# Set a pipeline\n",
    "pipe = Pipeline([\n",
    "    ('tfidf', TfidfVectorizer(stop_words = more_stopwords) ),\n",
    "    ('ss', StandardScaler(with_mean=False) ),\n",
    "    ('lr', LogisticRegression(penalty='l1', solver='liblinear', max_iter = 3000, random_state=42, verbose=0))\n",
    "])\n",
    "\n",
    "# Search over the following values of hyperparameters:\n",
    "pipe_params = {\n",
    "    'tfidf__max_features': [3000, 4000, 5000],\n",
    "    'tfidf__min_df': [0.75, ],\n",
    "    'tfidf__max_df': [0.01, 0.1, 0.5],\n",
    "    'tfidf__ngram_range': [(1,1), (1,2)],\n",
    "    'lr__C': [np.linspace(0.1, 1, 10)]\n",
    "}\n",
    "\n",
    "\n",
    "#np.linspace(0.1,1,5)\n",
    "# Instantiate RandomizedSearchCV\n",
    "rs2 = RandomizedSearchCV(estimator=pipe, \n",
    "                        param_distributions = pipe_params,\n",
    "                        scoring='accuracy',\n",
    "                        random_state=42,\n",
    "                        cv=5)"
   ]
  },
  {
   "cell_type": "code",
   "execution_count": 19,
   "id": "2a83555a",
   "metadata": {},
   "outputs": [
    {
     "data": {
      "text/plain": [
       "RandomizedSearchCV(cv=5,\n",
       "                   estimator=Pipeline(steps=[('tfidf',\n",
       "                                              TfidfVectorizer(stop_words=['ten',\n",
       "                                                                          'formerly',\n",
       "                                                                          'finally',\n",
       "                                                                          'help',\n",
       "                                                                          'bill',\n",
       "                                                                          'themselves',\n",
       "                                                                          'sometime',\n",
       "                                                                          'this',\n",
       "                                                                          'third',\n",
       "                                                                          'therefore',\n",
       "                                                                          'petty',\n",
       "                                                                          'that',\n",
       "                                                                          'twelve',\n",
       "                                                                          'so',\n",
       "                                                                          'any',\n",
       "                                                                          'those',\n",
       "                                                                          'former',\n",
       "                                                                          'between',\n",
       "                                                                          'with',\n",
       "                                                                          'need',\n",
       "                                                                          'dad',\n",
       "                                                                          'needed',\n",
       "                                                                          'boss',\n",
       "                                                                          'these',\n",
       "                                                                          'ply',\n",
       "                                                                          'from',\n",
       "                                                                          'last',\n",
       "                                                                          'times',\n",
       "                                                                          'latterly',\n",
       "                                                                          'however', ...])),\n",
       "                                             ('ss',\n",
       "                                              Sta...\n",
       "                                              LogisticRegression(max_iter=3000,\n",
       "                                                                 penalty='l1',\n",
       "                                                                 random_state=42,\n",
       "                                                                 solver='liblinear'))]),\n",
       "                   param_distributions={'lr__C': [0.1, 0.2, 0.30000000000000004,\n",
       "                                                  0.4, 0.5, 0.6,\n",
       "                                                  0.7000000000000001, 0.8, 0.9,\n",
       "                                                  1.0],\n",
       "                                        'tfidf__max_df': [0.8, 0.9],\n",
       "                                        'tfidf__max_features': [2000, 3000,\n",
       "                                                                4000, 5000],\n",
       "                                        'tfidf__min_df': [2, 4],\n",
       "                                        'tfidf__ngram_range': [(1, 1), (1, 2)]},\n",
       "                   random_state=42, scoring='accuracy')"
      ]
     },
     "execution_count": 19,
     "metadata": {},
     "output_type": "execute_result"
    }
   ],
   "source": [
    "# Fit RandomizedSearchCV to training data\n",
    "\n",
    "rs2.fit(X_train, y_train)"
   ]
  },
  {
   "cell_type": "code",
   "execution_count": 20,
   "id": "9a9ba512",
   "metadata": {},
   "outputs": [
    {
     "data": {
      "text/plain": [
       "(0.9685165421558164, 0.7682101272678039)"
      ]
     },
     "execution_count": 20,
     "metadata": {},
     "output_type": "execute_result"
    }
   ],
   "source": [
    "# What's the best score?\n",
    "\n",
    "rs2.score(X_train, y_train), rs2.score(X_test, y_test)"
   ]
  },
  {
   "cell_type": "code",
   "execution_count": 21,
   "id": "6c10aef6",
   "metadata": {},
   "outputs": [
    {
     "data": {
      "text/plain": [
       "{'tfidf__ngram_range': (1, 2),\n",
       " 'tfidf__min_df': 2,\n",
       " 'tfidf__max_features': 4000,\n",
       " 'tfidf__max_df': 0.9,\n",
       " 'lr__C': 0.1}"
      ]
     },
     "execution_count": 21,
     "metadata": {},
     "output_type": "execute_result"
    }
   ],
   "source": [
    "rs2.best_params_"
   ]
  },
  {
   "cell_type": "code",
   "execution_count": 127,
   "id": "0b76a2bb",
   "metadata": {},
   "outputs": [
    {
     "data": {
      "image/png": "[encoded data removed]",
      "text/plain": [
       "<Figure size 576x576 with 2 Axes>"
      ]
     },
     "metadata": {
      "needs_background": "light"
     },
     "output_type": "display_data"
    }
   ],
   "source": [
    "# Plot confusion matrix\n",
    "\n",
    "fig, ax = plt.subplots(figsize=(8, 8))\n",
    "plot_confusion_matrix(rs2, X_test, y_test,values_format='d', cmap='YlGnBu', ax=ax)\n",
    "plt.title('Confusion Matrix for Lasso Logistic Regression');"
   ]
  },
  {
   "cell_type": "code",
   "execution_count": 166,
   "id": "0039e791",
   "metadata": {},
   "outputs": [
    {
     "data": {
      "text/html": [
       "<div>\n",
       "<style scoped>\n",
       "    .dataframe tbody tr th:only-of-type {\n",
       "        vertical-align: middle;\n",
       "    }\n",
       "\n",
       "    .dataframe tbody tr th {\n",
       "        vertical-align: top;\n",
       "    }\n",
       "\n",
       "    .dataframe thead th {\n",
       "        text-align: right;\n",
       "    }\n",
       "</style>\n",
       "<table border=\"1\" class=\"dataframe\">\n",
       "  <thead>\n",
       "    <tr style=\"text-align: right;\">\n",
       "      <th></th>\n",
       "      <th>Train Accuracy</th>\n",
       "      <th>Test Accuracy</th>\n",
       "      <th>Variance</th>\n",
       "    </tr>\n",
       "  </thead>\n",
       "  <tbody>\n",
       "    <tr>\n",
       "      <th>Logistic Regression</th>\n",
       "      <td>0.999333</td>\n",
       "      <td>0.733008</td>\n",
       "      <td>0.2663</td>\n",
       "    </tr>\n",
       "    <tr>\n",
       "      <th>Lasso Logistic Regression</th>\n",
       "      <td>0.968517</td>\n",
       "      <td>0.768210</td>\n",
       "      <td>0.2003</td>\n",
       "    </tr>\n",
       "  </tbody>\n",
       "</table>\n",
       "</div>"
      ],
      "text/plain": [
       "                           Train Accuracy  Test Accuracy  Variance\n",
       "Logistic Regression              0.999333       0.733008    0.2663\n",
       "Lasso Logistic Regression        0.968517       0.768210    0.2003"
      ]
     },
     "execution_count": 166,
     "metadata": {},
     "output_type": "execute_result"
    }
   ],
   "source": [
    "model_accuracy.loc['Lasso Logistic Regression','Train Accuracy'] = rs2.score(X_train, y_train)\n",
    "\n",
    "model_accuracy.loc['Lasso Logistic Regression','Test Accuracy'] = rs2.score(X_test, y_test)\n",
    "\n",
    "model_accuracy.loc['Lasso Logistic Regression', 'Variance'] = round(\n",
    "    rs2.score(X_train, y_train) - rs2.score(X_test, y_test), 4)\n",
    "\n",
    "model_accuracy"
   ]
  },
  {
   "cell_type": "markdown",
   "id": "0dd2d446",
   "metadata": {},
   "source": [
    "Model is still very overfit but slightly better."
   ]
  },
  {
   "cell_type": "markdown",
   "id": "52e30112",
   "metadata": {},
   "source": [
    "## Random Forest"
   ]
  },
  {
   "cell_type": "code",
   "execution_count": 55,
   "id": "11499cd4",
   "metadata": {},
   "outputs": [],
   "source": [
    "# Set a pipeline\n",
    "pipe = Pipeline([\n",
    "    ('tfidf', TfidfVectorizer(stop_words = more_stopwords, ngram_range=(1,2), max_df=.75, min_df=0.01)),\n",
    "    ('rf', RandomForestClassifier(random_state = 42))\n",
    "])\n",
    "\n",
    "# Search over the following values of hyperparameters:\n",
    "pipe_params = {'tfidf__max_features': [4000, 5000, 6000], \n",
    "          'rf__n_estimators': [100,200,300,400,500],\n",
    "          'rf__max_depth': [10,20,30,40,50],\n",
    "          'rf__min_samples_split': [20,30,40,50, 60],\n",
    "          'rf__min_samples_leaf': [1,2,4,5,10,20],\n",
    "          'rf__max_features': ['auto', 'sqrt']\n",
    "              }\n",
    "\n",
    "# Instantiate RandomizedSearchCV\n",
    "rsrf = RandomizedSearchCV(estimator=pipe, \n",
    "                        param_distributions = pipe_params,\n",
    "                        random_state=42,\n",
    "                        cv=5)"
   ]
  },
  {
   "cell_type": "code",
   "execution_count": 56,
   "id": "8ea83f05",
   "metadata": {},
   "outputs": [
    {
     "data": {
      "text/plain": [
       "RandomizedSearchCV(cv=5,\n",
       "                   estimator=Pipeline(steps=[('tfidf',\n",
       "                                              TfidfVectorizer(max_df=0.75,\n",
       "                                                              min_df=0.01,\n",
       "                                                              ngram_range=(1,\n",
       "                                                                           2),\n",
       "                                                              stop_words=['ten',\n",
       "                                                                          'formerly',\n",
       "                                                                          'finally',\n",
       "                                                                          'help',\n",
       "                                                                          'bill',\n",
       "                                                                          'themselves',\n",
       "                                                                          'sometime',\n",
       "                                                                          'this',\n",
       "                                                                          'third',\n",
       "                                                                          'therefore',\n",
       "                                                                          'petty',\n",
       "                                                                          'that',\n",
       "                                                                          'twelve',\n",
       "                                                                          'so',\n",
       "                                                                          'any',\n",
       "                                                                          'those',\n",
       "                                                                          'former',\n",
       "                                                                          'between',\n",
       "                                                                          'with',\n",
       "                                                                          'need',\n",
       "                                                                          'dad',\n",
       "                                                                          'needed',\n",
       "                                                                          'boss',\n",
       "                                                                          'these',\n",
       "                                                                          'ply',\n",
       "                                                                          'from',\n",
       "                                                                          'last',\n",
       "                                                                          'times',\n",
       "                                                                          'latterly',\n",
       "                                                                          'however', ...])),\n",
       "                                             ('rf',\n",
       "                                              RandomForestClassifier(random_state=42))]),\n",
       "                   param_distributions={'rf__max_depth': [10, 20, 30, 40, 50],\n",
       "                                        'rf__max_features': ['auto', 'sqrt'],\n",
       "                                        'rf__min_samples_leaf': [1, 2, 4, 5, 10,\n",
       "                                                                 20],\n",
       "                                        'rf__min_samples_split': [20, 30, 40,\n",
       "                                                                  50, 60],\n",
       "                                        'rf__n_estimators': [100, 200, 300, 400,\n",
       "                                                             500],\n",
       "                                        'tfidf__max_features': [4000, 5000,\n",
       "                                                                6000]},\n",
       "                   random_state=42)"
      ]
     },
     "execution_count": 56,
     "metadata": {},
     "output_type": "execute_result"
    }
   ],
   "source": [
    "# Fit RandomizedSearchCV to training data\n",
    "\n",
    "rsrf.fit(X_train, y_train)"
   ]
  },
  {
   "cell_type": "code",
   "execution_count": 59,
   "id": "903089fc",
   "metadata": {},
   "outputs": [
    {
     "data": {
      "text/plain": [
       "0.7850834778741385"
      ]
     },
     "execution_count": 59,
     "metadata": {},
     "output_type": "execute_result"
    }
   ],
   "source": [
    "rsrf.best_score_"
   ]
  },
  {
   "cell_type": "code",
   "execution_count": 60,
   "id": "04d4dc0e",
   "metadata": {},
   "outputs": [
    {
     "data": {
      "text/plain": [
       "{'tfidf__max_features': 4000,\n",
       " 'rf__n_estimators': 300,\n",
       " 'rf__min_samples_split': 30,\n",
       " 'rf__min_samples_leaf': 1,\n",
       " 'rf__max_features': 'sqrt',\n",
       " 'rf__max_depth': 40}"
      ]
     },
     "execution_count": 60,
     "metadata": {},
     "output_type": "execute_result"
    }
   ],
   "source": [
    "rsrf.best_params_"
   ]
  },
  {
   "cell_type": "code",
   "execution_count": 62,
   "id": "5f36996c",
   "metadata": {},
   "outputs": [
    {
     "data": {
      "text/plain": [
       "(0.9789220917822838, 0.7806661251015434)"
      ]
     },
     "execution_count": 62,
     "metadata": {},
     "output_type": "execute_result"
    }
   ],
   "source": [
    "rsrf.score(X_train, y_train), rsrf.score(X_test, y_test)"
   ]
  },
  {
   "cell_type": "code",
   "execution_count": 126,
   "id": "3d240778",
   "metadata": {},
   "outputs": [
    {
     "data": {
      "image/png": "[encoded data removed]",
      "text/plain": [
       "<Figure size 576x576 with 2 Axes>"
      ]
     },
     "metadata": {
      "needs_background": "light"
     },
     "output_type": "display_data"
    }
   ],
   "source": [
    "fig, ax = plt.subplots(figsize=(8, 8))\n",
    "plot_confusion_matrix(rsrf, X_test, y_test, values_format='d', cmap='YlGnBu', ax=ax)\n",
    "plt.title('Confusion Matrix for Random Forest');"
   ]
  },
  {
   "cell_type": "code",
   "execution_count": 167,
   "id": "f3826711",
   "metadata": {},
   "outputs": [
    {
     "data": {
      "text/html": [
       "<div>\n",
       "<style scoped>\n",
       "    .dataframe tbody tr th:only-of-type {\n",
       "        vertical-align: middle;\n",
       "    }\n",
       "\n",
       "    .dataframe tbody tr th {\n",
       "        vertical-align: top;\n",
       "    }\n",
       "\n",
       "    .dataframe thead th {\n",
       "        text-align: right;\n",
       "    }\n",
       "</style>\n",
       "<table border=\"1\" class=\"dataframe\">\n",
       "  <thead>\n",
       "    <tr style=\"text-align: right;\">\n",
       "      <th></th>\n",
       "      <th>Train Accuracy</th>\n",
       "      <th>Test Accuracy</th>\n",
       "      <th>Variance</th>\n",
       "    </tr>\n",
       "  </thead>\n",
       "  <tbody>\n",
       "    <tr>\n",
       "      <th>Logistic Regression</th>\n",
       "      <td>0.999333</td>\n",
       "      <td>0.733008</td>\n",
       "      <td>0.2663</td>\n",
       "    </tr>\n",
       "    <tr>\n",
       "      <th>Lasso Logistic Regression</th>\n",
       "      <td>0.968517</td>\n",
       "      <td>0.768210</td>\n",
       "      <td>0.2003</td>\n",
       "    </tr>\n",
       "    <tr>\n",
       "      <th>Random Forest</th>\n",
       "      <td>0.978922</td>\n",
       "      <td>0.780666</td>\n",
       "      <td>0.1983</td>\n",
       "    </tr>\n",
       "  </tbody>\n",
       "</table>\n",
       "</div>"
      ],
      "text/plain": [
       "                           Train Accuracy  Test Accuracy  Variance\n",
       "Logistic Regression              0.999333       0.733008    0.2663\n",
       "Lasso Logistic Regression        0.968517       0.768210    0.2003\n",
       "Random Forest                    0.978922       0.780666    0.1983"
      ]
     },
     "execution_count": 167,
     "metadata": {},
     "output_type": "execute_result"
    }
   ],
   "source": [
    "model_accuracy.loc['Random Forest','Train Accuracy'] = rsrf.score(X_train, y_train)\n",
    "\n",
    "model_accuracy.loc['Random Forest','Test Accuracy'] = rsrf.score(X_test, y_test)\n",
    "\n",
    "model_accuracy.loc['Random Forest', 'Variance'] = round(\n",
    "    rsrf.score(X_train, y_train) - rsrf.score(X_test, y_test), 4)\n",
    "\n",
    "model_accuracy"
   ]
  },
  {
   "cell_type": "markdown",
   "id": "95455cf4",
   "metadata": {},
   "source": [
    "Random Forest model still overfitting... can look into adjusting some hyperparameters or even maybe bootstrapping in future iterations."
   ]
  },
  {
   "cell_type": "markdown",
   "id": "4dd08956",
   "metadata": {},
   "source": [
    "## Multinomial Naïve Bayes"
   ]
  },
  {
   "cell_type": "code",
   "execution_count": 65,
   "id": "31297147",
   "metadata": {},
   "outputs": [],
   "source": [
    "# Set a pipeline\n",
    "pipe = Pipeline([\n",
    "    ('tfidf', TfidfVectorizer(stop_words = more_stopwords, ngram_range=(1,2), max_df=.75, min_df=0.01)),\n",
    "    ('nb', MultinomialNB())\n",
    "])\n",
    "\n",
    "# Search over the following values of hyperparameters:\n",
    "pipe_params = {'tfidf__max_features': [4000, 5000, 6000],\n",
    "               'nb__alpha': loguniform(1, 10)\n",
    "              }\n",
    "\n",
    "# Instantiate RandomizedSearchCV\n",
    "rsnb = RandomizedSearchCV(estimator=pipe, \n",
    "                        param_distributions = pipe_params,\n",
    "                        random_state=42,\n",
    "                        cv=5)"
   ]
  },
  {
   "cell_type": "code",
   "execution_count": 66,
   "id": "4c5eccad",
   "metadata": {},
   "outputs": [
    {
     "data": {
      "text/plain": [
       "RandomizedSearchCV(cv=5,\n",
       "                   estimator=Pipeline(steps=[('tfidf',\n",
       "                                              TfidfVectorizer(max_df=0.75,\n",
       "                                                              min_df=0.01,\n",
       "                                                              ngram_range=(1,\n",
       "                                                                           2),\n",
       "                                                              stop_words=['ten',\n",
       "                                                                          'formerly',\n",
       "                                                                          'finally',\n",
       "                                                                          'help',\n",
       "                                                                          'bill',\n",
       "                                                                          'themselves',\n",
       "                                                                          'sometime',\n",
       "                                                                          'this',\n",
       "                                                                          'third',\n",
       "                                                                          'therefore',\n",
       "                                                                          'petty',\n",
       "                                                                          'that',\n",
       "                                                                          'twelve',\n",
       "                                                                          'so',\n",
       "                                                                          'any',\n",
       "                                                                          'those',\n",
       "                                                                          'former',\n",
       "                                                                          'between',\n",
       "                                                                          'with',\n",
       "                                                                          'need',\n",
       "                                                                          'dad',\n",
       "                                                                          'needed',\n",
       "                                                                          'boss',\n",
       "                                                                          'these',\n",
       "                                                                          'ply',\n",
       "                                                                          'from',\n",
       "                                                                          'last',\n",
       "                                                                          'times',\n",
       "                                                                          'latterly',\n",
       "                                                                          'however', ...])),\n",
       "                                             ('nb', MultinomialNB())]),\n",
       "                   param_distributions={'nb__alpha': <scipy.stats._distn_infrastructure.rv_frozen object at 0x7ff9542d17f0>,\n",
       "                                        'tfidf__max_features': [4000, 5000,\n",
       "                                                                6000]},\n",
       "                   random_state=42)"
      ]
     },
     "execution_count": 66,
     "metadata": {},
     "output_type": "execute_result"
    }
   ],
   "source": [
    "# Fit RandomizedSearchCV to training data\n",
    "\n",
    "rsnb.fit(X_train, y_train)"
   ]
  },
  {
   "cell_type": "code",
   "execution_count": 70,
   "id": "741b38ce",
   "metadata": {},
   "outputs": [
    {
     "data": {
      "text/plain": [
       "0.7558673782521682"
      ]
     },
     "execution_count": 70,
     "metadata": {},
     "output_type": "execute_result"
    }
   ],
   "source": [
    "rsnb.best_score_"
   ]
  },
  {
   "cell_type": "code",
   "execution_count": 71,
   "id": "fb6f54ec",
   "metadata": {},
   "outputs": [
    {
     "data": {
      "text/plain": [
       "{'nb__alpha': 1.0485387725194617, 'tfidf__max_features': 5000}"
      ]
     },
     "execution_count": 71,
     "metadata": {},
     "output_type": "execute_result"
    }
   ],
   "source": [
    "rsnb.best_params_"
   ]
  },
  {
   "cell_type": "code",
   "execution_count": 72,
   "id": "85b543b9",
   "metadata": {},
   "outputs": [
    {
     "data": {
      "text/plain": [
       "(0.7789487726787621, 0.7625236934741403)"
      ]
     },
     "execution_count": 72,
     "metadata": {},
     "output_type": "execute_result"
    }
   ],
   "source": [
    "rsnb.score(X_train, y_train), rsnb.score(X_test, y_test)"
   ]
  },
  {
   "cell_type": "code",
   "execution_count": 125,
   "id": "9c42dbf6",
   "metadata": {},
   "outputs": [
    {
     "data": {
      "image/png": "[encoded data removed]",
      "text/plain": [
       "<Figure size 576x576 with 2 Axes>"
      ]
     },
     "metadata": {
      "needs_background": "light"
     },
     "output_type": "display_data"
    }
   ],
   "source": [
    "fig, ax = plt.subplots(figsize=(8, 8))\n",
    "plot_confusion_matrix(rsrf, X_test, y_test, values_format='d', cmap='YlGnBu', ax=ax)\n",
    "\n",
    "plt.title('Confusion Matrix for Naïve Bayes');"
   ]
  },
  {
   "cell_type": "markdown",
   "id": "6316fce3",
   "metadata": {},
   "source": [
    "BEST model yet. Lower over accuracy but a much better balance of  bias and variance! Negative feature words indicate they’re better at detecting our Passive Revenge class."
   ]
  },
  {
   "cell_type": "markdown",
   "id": "a88ccead",
   "metadata": {},
   "source": [
    "## Model Evaluation"
   ]
  },
  {
   "cell_type": "markdown",
   "id": "767c32a2",
   "metadata": {},
   "source": [
    "The Naïve Bayes model is a great balance of bias and variance and a decent accuracy. It's a probabilistic classifier and there's a strong assumption that features are independent. Negative feature words indicate they’re better at detecting our Passive Revenge class. \n",
    "\n",
    "While my Random Forest model may have had higher train and test accuracies, the large variance was too much to ignore in terms of the model overfitting and not responding as well to data it hasn't seen before. "
   ]
  },
  {
   "cell_type": "markdown",
   "id": "f4618c66",
   "metadata": {},
   "source": [
    "### Comparison of All Models"
   ]
  },
  {
   "cell_type": "code",
   "execution_count": 168,
   "id": "f785f376",
   "metadata": {},
   "outputs": [],
   "source": [
    "model_accuracy.loc['Naïve Bayes','Train Accuracy'] = rsnb.score(X_train, y_train)\n",
    "\n",
    "model_accuracy.loc['Naïve Bayes','Test Accuracy'] = rsnb.score(X_test, y_test)\n",
    "\n",
    "model_accuracy.loc['Naïve Bayes', 'Variance'] = round(\n",
    "    rsnb.score(X_train, y_train) - rsnb.score(X_test, y_test), 4)"
   ]
  },
  {
   "cell_type": "code",
   "execution_count": 169,
   "id": "67059dca",
   "metadata": {},
   "outputs": [
    {
     "data": {
      "text/html": [
       "<div>\n",
       "<style scoped>\n",
       "    .dataframe tbody tr th:only-of-type {\n",
       "        vertical-align: middle;\n",
       "    }\n",
       "\n",
       "    .dataframe tbody tr th {\n",
       "        vertical-align: top;\n",
       "    }\n",
       "\n",
       "    .dataframe thead th {\n",
       "        text-align: right;\n",
       "    }\n",
       "</style>\n",
       "<table border=\"1\" class=\"dataframe\">\n",
       "  <thead>\n",
       "    <tr style=\"text-align: right;\">\n",
       "      <th></th>\n",
       "      <th>Train Accuracy</th>\n",
       "      <th>Test Accuracy</th>\n",
       "      <th>Variance</th>\n",
       "    </tr>\n",
       "  </thead>\n",
       "  <tbody>\n",
       "    <tr>\n",
       "      <th>Logistic Regression</th>\n",
       "      <td>0.999333</td>\n",
       "      <td>0.733008</td>\n",
       "      <td>0.2663</td>\n",
       "    </tr>\n",
       "    <tr>\n",
       "      <th>Lasso Logistic Regression</th>\n",
       "      <td>0.968517</td>\n",
       "      <td>0.768210</td>\n",
       "      <td>0.2003</td>\n",
       "    </tr>\n",
       "    <tr>\n",
       "      <th>Random Forest</th>\n",
       "      <td>0.978922</td>\n",
       "      <td>0.780666</td>\n",
       "      <td>0.1983</td>\n",
       "    </tr>\n",
       "    <tr>\n",
       "      <th>Naïve Bayes</th>\n",
       "      <td>0.778949</td>\n",
       "      <td>0.762524</td>\n",
       "      <td>0.0164</td>\n",
       "    </tr>\n",
       "  </tbody>\n",
       "</table>\n",
       "</div>"
      ],
      "text/plain": [
       "                           Train Accuracy  Test Accuracy  Variance\n",
       "Logistic Regression              0.999333       0.733008    0.2663\n",
       "Lasso Logistic Regression        0.968517       0.768210    0.2003\n",
       "Random Forest                    0.978922       0.780666    0.1983\n",
       "Naïve Bayes                      0.778949       0.762524    0.0164"
      ]
     },
     "execution_count": 169,
     "metadata": {},
     "output_type": "execute_result"
    }
   ],
   "source": [
    "model_accuracy"
   ]
  },
  {
   "cell_type": "code",
   "execution_count": 163,
   "id": "979ed03d",
   "metadata": {},
   "outputs": [
    {
     "data": {
      "image/png": "[encoded data removed]",
      "text/plain": [
       "<Figure size 864x504 with 1 Axes>"
      ]
     },
     "metadata": {
      "needs_background": "light"
     },
     "output_type": "display_data"
    }
   ],
   "source": [
    "plt.figure(figsize=(12, 7))\n",
    "sns.barplot(x=model_accuracy.sort_values('Overfitting', ascending=False).index,\n",
    "            y=model_accuracy.sort_values('Overfitting', ascending=False)['Overfitting'], ec='k', \n",
    "            linewidth=1, palette='YlGnBu')\n",
    "plt.xticks(rotation=15, fontsize=16)\n",
    "plt.title('Model Variance', fontsize=22)\n",
    "plt.ylim(0, 0.5)\n",
    "plt.ylabel('Variance', fontsize=20)\n",
    "plt.xlabel('Model', fontsize=20)\n",
    "\n",
    "plt.savefig('./images/models_overfitting.png')"
   ]
  },
  {
   "cell_type": "markdown",
   "id": "2fd0f1e3",
   "metadata": {},
   "source": [
    "### Feature Importance"
   ]
  },
  {
   "cell_type": "code",
   "execution_count": 80,
   "id": "f46cd56e",
   "metadata": {},
   "outputs": [
    {
     "data": {
      "text/html": [
       "<div>\n",
       "<style scoped>\n",
       "    .dataframe tbody tr th:only-of-type {\n",
       "        vertical-align: middle;\n",
       "    }\n",
       "\n",
       "    .dataframe tbody tr th {\n",
       "        vertical-align: top;\n",
       "    }\n",
       "\n",
       "    .dataframe thead th {\n",
       "        text-align: right;\n",
       "    }\n",
       "</style>\n",
       "<table border=\"1\" class=\"dataframe\">\n",
       "  <thead>\n",
       "    <tr style=\"text-align: right;\">\n",
       "      <th></th>\n",
       "      <th>importance</th>\n",
       "    </tr>\n",
       "    <tr>\n",
       "      <th>top_words</th>\n",
       "      <th></th>\n",
       "    </tr>\n",
       "  </thead>\n",
       "  <tbody>\n",
       "    <tr>\n",
       "      <th>bos</th>\n",
       "      <td>-5.588541</td>\n",
       "    </tr>\n",
       "    <tr>\n",
       "      <th>hour</th>\n",
       "      <td>-5.621607</td>\n",
       "    </tr>\n",
       "    <tr>\n",
       "      <th>customer</th>\n",
       "      <td>-5.726134</td>\n",
       "    </tr>\n",
       "    <tr>\n",
       "      <th>minute</th>\n",
       "      <td>-5.878138</td>\n",
       "    </tr>\n",
       "    <tr>\n",
       "      <th>shift</th>\n",
       "      <td>-5.917564</td>\n",
       "    </tr>\n",
       "  </tbody>\n",
       "</table>\n",
       "</div>"
      ],
      "text/plain": [
       "           importance\n",
       "top_words            \n",
       "bos         -5.588541\n",
       "hour        -5.621607\n",
       "customer    -5.726134\n",
       "minute      -5.878138\n",
       "shift       -5.917564"
      ]
     },
     "execution_count": 80,
     "metadata": {},
     "output_type": "execute_result"
    }
   ],
   "source": [
    "vocab = rsnb.best_estimator_.named_steps['tfidf'].get_feature_names()\n",
    "coef = list(rsnb.best_estimator_.named_steps['nb'].coef_[0])\n",
    "feature_df = pd.DataFrame( {'top_words': vocab, 'importance': coef })\n",
    "feature_df = feature_df.set_index('top_words')\n",
    "feature_df = feature_df.sort_values('importance',ascending = False)\n",
    "feature_df.head(5)"
   ]
  },
  {
   "cell_type": "code",
   "execution_count": 113,
   "id": "02f72f99",
   "metadata": {},
   "outputs": [
    {
     "data": {
      "image/png": "[encoded data removed]",
      "text/plain": [
       "<Figure size 1440x720 with 1 Axes>"
      ]
     },
     "metadata": {
      "needs_background": "light"
     },
     "output_type": "display_data"
    }
   ],
   "source": [
    "weights = feature_df['importance'].head(20).sort_values()\n",
    "labels = weights.index\n",
    "\n",
    "plt.figure(figsize=(20,10))\n",
    "plt.barh(labels, weights, color = 'teal')\n",
    "plt.yticks(fontsize=20)\n",
    "plt.xticks(fontsize=20)\n",
    "plt.xlabel('Feature Weights', fontsize=30)\n",
    "plt.title(f'Top 20 Features - Naïve Bayes', fontsize=42)\n",
    "\n",
    "plt.savefig('./images/top_feature_NB_pres.png')"
   ]
  },
  {
   "cell_type": "markdown",
   "id": "b4b269e3",
   "metadata": {},
   "source": [
    "### Misclassifications\n",
    "\n",
    "A little more likely to predict Active when its really Passive revenge. This is one of the main reasons why I would not use this model to auto-remove submissions as you don't want to remove ones that really might belong. We made an assumption at the beginning that the submissions we pulled have already been moderated by the r/MaliciousCompliance mods and that our dataset is correctly labeled. If I was re-pulling the data right now, I think I would actually avoid using the most recent submissions scraped to make sure the submissions have all already been removed from the subreddit if they did not belong so as not to introduce 'mislabeled' data into our trained model."
   ]
  },
  {
   "cell_type": "code",
   "execution_count": 125,
   "id": "d6a0af8a",
   "metadata": {},
   "outputs": [
    {
     "data": {
      "image/png": "[encoded data removed]",
      "text/plain": [
       "<Figure size 576x576 with 2 Axes>"
      ]
     },
     "metadata": {
      "needs_background": "light"
     },
     "output_type": "display_data"
    }
   ],
   "source": [
    "#Replotting Confusion Matrix for Naïve Bayes\n",
    "fig, ax = plt.subplots(figsize=(8, 8))\n",
    "plot_confusion_matrix(rsrf, X_test, y_test, values_format='d', cmap='YlGnBu', ax=ax)\n",
    "\n",
    "plt.title('Confusion Matrix for Naïve Bayes');"
   ]
  },
  {
   "cell_type": "markdown",
   "id": "e3904fc2",
   "metadata": {},
   "source": [
    "## Conclusions & Recommendations"
   ]
  },
  {
   "cell_type": "markdown",
   "id": "bbeec7f9",
   "metadata": {},
   "source": [
    "- Beat Baseline of 52.6%\n",
    "- Production model has an accuracy of 76%\n",
    "- Overfitting was the largest hurdle in most models.\n",
    "- Naïve Bayes may not be the best model I've ever seen in regards to its accuracy, but it is the least worst model built for this data. I think it actually would be a great tool for the r/MaliciousCompliance moderators to use as a general filter to highlight submissions that may be a better fit for other subreddits like r/pettyrevenge or r/ProRevenge. I would not use to fully auto-moderate and auto-remove submissions.\n",
    "- Future improvements to this project would be spending more time tuning hyperparamters especially on my Random Forest model. I would also like to try a few other classification models like Support Vector Machine, ADA Boost or Gradient Boost.\n",
    "- Another potential way to slightly improve this model would be to avoid using the most recent submissions scraped to make sure the submissions have all already been removed from the subreddit if they did not belong so as not to introduce 'mislabeled' data into our trained model."
   ]
  }
 ],
 "metadata": {
  "kernelspec": {
   "display_name": "Python 3",
   "language": "python",
   "name": "python3"
  },
  "language_info": {
   "codemirror_mode": {
    "name": "ipython",
    "version": 3
   },
   "file_extension": ".py",
   "mimetype": "text/x-python",
   "name": "python",
   "nbconvert_exporter": "python",
   "pygments_lexer": "ipython3",
   "version": "3.8.8"
  }
 },
 "nbformat": 4,
 "nbformat_minor": 5
}
