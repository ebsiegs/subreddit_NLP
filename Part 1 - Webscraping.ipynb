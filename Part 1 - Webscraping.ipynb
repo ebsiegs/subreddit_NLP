{
 "cells": [
  {
   "cell_type": "markdown",
   "id": "f9cb6ecf",
   "metadata": {},
   "source": [
    "# Project 1"
   ]
  },
  {
   "cell_type": "code",
   "execution_count": 49,
   "id": "38d9affd",
   "metadata": {},
   "outputs": [],
   "source": [
    "# Import libaries here\n",
    "\n",
    "import pandas as pd\n",
    "import requests\n",
    "import datetime as dt\n",
    "import time\n",
    "from bs4 import BeautifulSoup"
   ]
  },
  {
   "cell_type": "code",
   "execution_count": 27,
   "id": "e6b43eeb",
   "metadata": {},
   "outputs": [],
   "source": [
    "url_1 = 'https://api.pushshift.io/reddit/search/submission?subreddit=MaliciousCompliance'\n",
    "url_2 = 'https://api.pushshift.io/reddit/search/submission?subreddit=ProRevenge'"
   ]
  },
  {
   "cell_type": "code",
   "execution_count": 28,
   "id": "ae305aff",
   "metadata": {},
   "outputs": [
    {
     "data": {
      "text/plain": [
       "200"
      ]
     },
     "execution_count": 28,
     "metadata": {},
     "output_type": "execute_result"
    }
   ],
   "source": [
    "res_1 = requests.get(url_1)\n",
    "res_1.status_code"
   ]
  },
  {
   "cell_type": "code",
   "execution_count": 30,
   "id": "c562d5ef",
   "metadata": {},
   "outputs": [
    {
     "data": {
      "text/plain": [
       "200"
      ]
     },
     "execution_count": 30,
     "metadata": {},
     "output_type": "execute_result"
    }
   ],
   "source": [
    "res_2 = requests.get(url_2)\n",
    "res_2.status_code"
   ]
  },
  {
   "cell_type": "code",
   "execution_count": 32,
   "id": "116c45ff",
   "metadata": {},
   "outputs": [],
   "source": [
    "json_1 = res_1.json()\n",
    "#json_1"
   ]
  },
  {
   "cell_type": "code",
   "execution_count": 34,
   "id": "dc641835",
   "metadata": {},
   "outputs": [],
   "source": [
    "json_2 = res_2.json()\n",
    "#json_2"
   ]
  },
  {
   "cell_type": "code",
   "execution_count": 35,
   "id": "bb6c8624",
   "metadata": {
    "scrolled": true
   },
   "outputs": [
    {
     "data": {
      "text/plain": [
       "{'all_awardings': [],\n",
       " 'allow_live_comments': False,\n",
       " 'author': 'Phatferd',\n",
       " 'author_flair_css_class': None,\n",
       " 'author_flair_richtext': [],\n",
       " 'author_flair_text': None,\n",
       " 'author_flair_type': 'text',\n",
       " 'author_fullname': 't2_54hdd',\n",
       " 'author_is_blocked': False,\n",
       " 'author_patreon_flair': False,\n",
       " 'author_premium': False,\n",
       " 'awarders': [],\n",
       " 'can_mod_post': False,\n",
       " 'contest_mode': False,\n",
       " 'created_utc': 1627597770,\n",
       " 'domain': 'self.MaliciousCompliance',\n",
       " 'full_link': 'https://www.reddit.com/r/MaliciousCompliance/comments/ou7wra/how_i_got_out_of_apartments_lease/',\n",
       " 'gildings': {},\n",
       " 'id': 'ou7wra',\n",
       " 'is_created_from_ads_ui': False,\n",
       " 'is_crosspostable': True,\n",
       " 'is_meta': False,\n",
       " 'is_original_content': True,\n",
       " 'is_reddit_media_domain': False,\n",
       " 'is_robot_indexable': True,\n",
       " 'is_self': True,\n",
       " 'is_video': False,\n",
       " 'link_flair_background_color': '#373c3f',\n",
       " 'link_flair_css_class': 'sf',\n",
       " 'link_flair_richtext': [],\n",
       " 'link_flair_template_id': '8d5a9196-07ff-11e7-96b0-0e3f84158fec',\n",
       " 'link_flair_text': 'S',\n",
       " 'link_flair_text_color': 'light',\n",
       " 'link_flair_type': 'text',\n",
       " 'locked': False,\n",
       " 'media_only': False,\n",
       " 'no_follow': True,\n",
       " 'num_comments': 0,\n",
       " 'num_crossposts': 0,\n",
       " 'over_18': False,\n",
       " 'parent_whitelist_status': 'all_ads',\n",
       " 'permalink': '/r/MaliciousCompliance/comments/ou7wra/how_i_got_out_of_apartments_lease/',\n",
       " 'pinned': False,\n",
       " 'pwls': 6,\n",
       " 'retrieved_on': 1627597781,\n",
       " 'score': 1,\n",
       " 'selftext': 'This is actually my friends story, but I couldn\\'t not post it here.\\n\\nMy friend had lived in his apartment complex for a few years and his fiancé and him were in the market of buying a house.  Well, the time came and an opportunity came and they put an offer on a house.  They still had 6 months on their lease and asked the management what their options were.\\n\\nManagement told them, they would have to pay a months rent to break the lease.  He agreed and assumed it would be on his final statement (the following month).  The final statement comes and it\\'s for the remainder of the lease ($10k +).  He told them what he was told and of course \"that isn\\'t their policy so they aren\\'t sure why he would have been told this and he was on the hook for the remainder of the lease.\"\\n\\nHe remembered seeing advertisements from his community about a 30 day grace period of backing out a new rental agreement (prior to actually moving in and just securing your spot).  He then asked if the unit got rented out before the end of his old lease if he would still be on the hook.  They told him once it\\'s rented out they will release the charges and he will only be on the hook for one month of rent.\\n\\nHe then asked them for an application and applied to rent the exact same unit, waited for the charge to drop from his balance and cancelled his application.',\n",
       " 'send_replies': True,\n",
       " 'spoiler': False,\n",
       " 'stickied': False,\n",
       " 'subreddit': 'MaliciousCompliance',\n",
       " 'subreddit_id': 't5_3boqz',\n",
       " 'subreddit_subscribers': 1618828,\n",
       " 'subreddit_type': 'public',\n",
       " 'thumbnail': 'self',\n",
       " 'title': \"How I got out of apartment's lease\",\n",
       " 'total_awards_received': 0,\n",
       " 'treatment_tags': [],\n",
       " 'upvote_ratio': 1.0,\n",
       " 'url': 'https://www.reddit.com/r/MaliciousCompliance/comments/ou7wra/how_i_got_out_of_apartments_lease/',\n",
       " 'whitelist_status': 'all_ads',\n",
       " 'wls': 6}"
      ]
     },
     "execution_count": 35,
     "metadata": {},
     "output_type": "execute_result"
    }
   ],
   "source": [
    "# Checking parameters in 1 post to see what features I want to keep\n",
    "json_1['data'][0]"
   ]
  },
  {
   "cell_type": "code",
   "execution_count": 71,
   "id": "988fdccd",
   "metadata": {},
   "outputs": [],
   "source": [
    "#REFERENCE: pushshift_demo lesson\n",
    "\n",
    "def query_pushshift(subreddit, kind = 'submission', day_window = 30, n = 60):\n",
    "    SUBFIELDS = ['title', 'selftext', 'subreddit', 'created_utc', 'author', 'num_comments', 'score', 'is_self']\n",
    "    \n",
    "    # establish base url and stem\n",
    "    BASE_URL = f\"https://api.pushshift.io/reddit/search/{kind}\" # also known as the \"API endpoint\" \n",
    "    stem = f\"{BASE_URL}?subreddit={subreddit}&size=500\" # always pulling max of 500\n",
    "    \n",
    "    # instantiate empty list for temp storage\n",
    "    posts = []\n",
    "    \n",
    "    # implement for loop with `time.sleep(2)`\n",
    "    for i in range(1, n + 1):\n",
    "        URL = \"{}&after={}d\".format(stem, day_window * i)\n",
    "        print(\"Querying from: \" + URL)\n",
    "        response = requests.get(URL)\n",
    "        assert response.status_code == 200\n",
    "        mine = response.json()['data']\n",
    "        df = pd.DataFrame.from_dict(mine)\n",
    "        posts.append(df)\n",
    "        time.sleep(2)\n",
    "    \n",
    "    # pd.concat storage list\n",
    "    full = pd.concat(posts, sort=False)\n",
    "    \n",
    "    # if submission\n",
    "    if kind == \"submission\":\n",
    "        # select desired columns\n",
    "        full = full[SUBFIELDS]\n",
    "        # drop duplicates\n",
    "        full.drop_duplicates(inplace = True)\n",
    "        # select `is_self` == True\n",
    "        full = full.loc[full['is_self'] == True]\n",
    "\n",
    "    # create `timestamp` column\n",
    "    full['timestamp'] = full[\"created_utc\"].map(dt.date.fromtimestamp)\n",
    "    \n",
    "    print(\"Query Complete!\")    \n",
    "    return full "
   ]
  },
  {
   "cell_type": "code",
   "execution_count": 74,
   "id": "41e9434b",
   "metadata": {},
   "outputs": [
    {
     "name": "stdout",
     "output_type": "stream",
     "text": [
      "Querying from: https://api.pushshift.io/reddit/search/submission?subreddit=MaliciousCompliance&size=500&after=30d\n",
      "Querying from: https://api.pushshift.io/reddit/search/submission?subreddit=MaliciousCompliance&size=500&after=60d\n",
      "Querying from: https://api.pushshift.io/reddit/search/submission?subreddit=MaliciousCompliance&size=500&after=90d\n",
      "Querying from: https://api.pushshift.io/reddit/search/submission?subreddit=MaliciousCompliance&size=500&after=120d\n",
      "Querying from: https://api.pushshift.io/reddit/search/submission?subreddit=MaliciousCompliance&size=500&after=150d\n",
      "Querying from: https://api.pushshift.io/reddit/search/submission?subreddit=MaliciousCompliance&size=500&after=180d\n",
      "Querying from: https://api.pushshift.io/reddit/search/submission?subreddit=MaliciousCompliance&size=500&after=210d\n",
      "Querying from: https://api.pushshift.io/reddit/search/submission?subreddit=MaliciousCompliance&size=500&after=240d\n",
      "Querying from: https://api.pushshift.io/reddit/search/submission?subreddit=MaliciousCompliance&size=500&after=270d\n",
      "Querying from: https://api.pushshift.io/reddit/search/submission?subreddit=MaliciousCompliance&size=500&after=300d\n",
      "Querying from: https://api.pushshift.io/reddit/search/submission?subreddit=MaliciousCompliance&size=500&after=330d\n",
      "Querying from: https://api.pushshift.io/reddit/search/submission?subreddit=MaliciousCompliance&size=500&after=360d\n",
      "Querying from: https://api.pushshift.io/reddit/search/submission?subreddit=MaliciousCompliance&size=500&after=390d\n",
      "Querying from: https://api.pushshift.io/reddit/search/submission?subreddit=MaliciousCompliance&size=500&after=420d\n",
      "Querying from: https://api.pushshift.io/reddit/search/submission?subreddit=MaliciousCompliance&size=500&after=450d\n",
      "Querying from: https://api.pushshift.io/reddit/search/submission?subreddit=MaliciousCompliance&size=500&after=480d\n",
      "Querying from: https://api.pushshift.io/reddit/search/submission?subreddit=MaliciousCompliance&size=500&after=510d\n",
      "Querying from: https://api.pushshift.io/reddit/search/submission?subreddit=MaliciousCompliance&size=500&after=540d\n",
      "Querying from: https://api.pushshift.io/reddit/search/submission?subreddit=MaliciousCompliance&size=500&after=570d\n",
      "Querying from: https://api.pushshift.io/reddit/search/submission?subreddit=MaliciousCompliance&size=500&after=600d\n",
      "Querying from: https://api.pushshift.io/reddit/search/submission?subreddit=MaliciousCompliance&size=500&after=630d\n",
      "Querying from: https://api.pushshift.io/reddit/search/submission?subreddit=MaliciousCompliance&size=500&after=660d\n",
      "Querying from: https://api.pushshift.io/reddit/search/submission?subreddit=MaliciousCompliance&size=500&after=690d\n",
      "Querying from: https://api.pushshift.io/reddit/search/submission?subreddit=MaliciousCompliance&size=500&after=720d\n",
      "Querying from: https://api.pushshift.io/reddit/search/submission?subreddit=MaliciousCompliance&size=500&after=750d\n",
      "Querying from: https://api.pushshift.io/reddit/search/submission?subreddit=MaliciousCompliance&size=500&after=780d\n",
      "Querying from: https://api.pushshift.io/reddit/search/submission?subreddit=MaliciousCompliance&size=500&after=810d\n",
      "Querying from: https://api.pushshift.io/reddit/search/submission?subreddit=MaliciousCompliance&size=500&after=840d\n",
      "Querying from: https://api.pushshift.io/reddit/search/submission?subreddit=MaliciousCompliance&size=500&after=870d\n",
      "Querying from: https://api.pushshift.io/reddit/search/submission?subreddit=MaliciousCompliance&size=500&after=900d\n",
      "Querying from: https://api.pushshift.io/reddit/search/submission?subreddit=MaliciousCompliance&size=500&after=930d\n",
      "Querying from: https://api.pushshift.io/reddit/search/submission?subreddit=MaliciousCompliance&size=500&after=960d\n",
      "Querying from: https://api.pushshift.io/reddit/search/submission?subreddit=MaliciousCompliance&size=500&after=990d\n",
      "Querying from: https://api.pushshift.io/reddit/search/submission?subreddit=MaliciousCompliance&size=500&after=1020d\n",
      "Querying from: https://api.pushshift.io/reddit/search/submission?subreddit=MaliciousCompliance&size=500&after=1050d\n",
      "Querying from: https://api.pushshift.io/reddit/search/submission?subreddit=MaliciousCompliance&size=500&after=1080d\n",
      "Querying from: https://api.pushshift.io/reddit/search/submission?subreddit=MaliciousCompliance&size=500&after=1110d\n",
      "Querying from: https://api.pushshift.io/reddit/search/submission?subreddit=MaliciousCompliance&size=500&after=1140d\n",
      "Querying from: https://api.pushshift.io/reddit/search/submission?subreddit=MaliciousCompliance&size=500&after=1170d\n",
      "Querying from: https://api.pushshift.io/reddit/search/submission?subreddit=MaliciousCompliance&size=500&after=1200d\n",
      "Querying from: https://api.pushshift.io/reddit/search/submission?subreddit=MaliciousCompliance&size=500&after=1230d\n",
      "Querying from: https://api.pushshift.io/reddit/search/submission?subreddit=MaliciousCompliance&size=500&after=1260d\n",
      "Querying from: https://api.pushshift.io/reddit/search/submission?subreddit=MaliciousCompliance&size=500&after=1290d\n",
      "Querying from: https://api.pushshift.io/reddit/search/submission?subreddit=MaliciousCompliance&size=500&after=1320d\n",
      "Querying from: https://api.pushshift.io/reddit/search/submission?subreddit=MaliciousCompliance&size=500&after=1350d\n",
      "Querying from: https://api.pushshift.io/reddit/search/submission?subreddit=MaliciousCompliance&size=500&after=1380d\n",
      "Querying from: https://api.pushshift.io/reddit/search/submission?subreddit=MaliciousCompliance&size=500&after=1410d\n",
      "Querying from: https://api.pushshift.io/reddit/search/submission?subreddit=MaliciousCompliance&size=500&after=1440d\n",
      "Querying from: https://api.pushshift.io/reddit/search/submission?subreddit=MaliciousCompliance&size=500&after=1470d\n",
      "Querying from: https://api.pushshift.io/reddit/search/submission?subreddit=MaliciousCompliance&size=500&after=1500d\n",
      "Querying from: https://api.pushshift.io/reddit/search/submission?subreddit=MaliciousCompliance&size=500&after=1530d\n",
      "Querying from: https://api.pushshift.io/reddit/search/submission?subreddit=MaliciousCompliance&size=500&after=1560d\n",
      "Querying from: https://api.pushshift.io/reddit/search/submission?subreddit=MaliciousCompliance&size=500&after=1590d\n",
      "Querying from: https://api.pushshift.io/reddit/search/submission?subreddit=MaliciousCompliance&size=500&after=1620d\n",
      "Querying from: https://api.pushshift.io/reddit/search/submission?subreddit=MaliciousCompliance&size=500&after=1650d\n",
      "Querying from: https://api.pushshift.io/reddit/search/submission?subreddit=MaliciousCompliance&size=500&after=1680d\n",
      "Querying from: https://api.pushshift.io/reddit/search/submission?subreddit=MaliciousCompliance&size=500&after=1710d\n",
      "Querying from: https://api.pushshift.io/reddit/search/submission?subreddit=MaliciousCompliance&size=500&after=1740d\n",
      "Querying from: https://api.pushshift.io/reddit/search/submission?subreddit=MaliciousCompliance&size=500&after=1770d\n",
      "Querying from: https://api.pushshift.io/reddit/search/submission?subreddit=MaliciousCompliance&size=500&after=1800d\n",
      "Query Complete!\n"
     ]
    }
   ],
   "source": [
    "results1 = query_pushshift('MaliciousCompliance')"
   ]
  },
  {
   "cell_type": "code",
   "execution_count": 72,
   "id": "7ffd8747",
   "metadata": {},
   "outputs": [
    {
     "name": "stdout",
     "output_type": "stream",
     "text": [
      "Querying from: https://api.pushshift.io/reddit/search/submission?subreddit=ProRevenge&size=500&after=30d\n",
      "Querying from: https://api.pushshift.io/reddit/search/submission?subreddit=ProRevenge&size=500&after=60d\n",
      "Querying from: https://api.pushshift.io/reddit/search/submission?subreddit=ProRevenge&size=500&after=90d\n",
      "Querying from: https://api.pushshift.io/reddit/search/submission?subreddit=ProRevenge&size=500&after=120d\n",
      "Querying from: https://api.pushshift.io/reddit/search/submission?subreddit=ProRevenge&size=500&after=150d\n",
      "Querying from: https://api.pushshift.io/reddit/search/submission?subreddit=ProRevenge&size=500&after=180d\n",
      "Querying from: https://api.pushshift.io/reddit/search/submission?subreddit=ProRevenge&size=500&after=210d\n",
      "Querying from: https://api.pushshift.io/reddit/search/submission?subreddit=ProRevenge&size=500&after=240d\n",
      "Querying from: https://api.pushshift.io/reddit/search/submission?subreddit=ProRevenge&size=500&after=270d\n",
      "Querying from: https://api.pushshift.io/reddit/search/submission?subreddit=ProRevenge&size=500&after=300d\n",
      "Querying from: https://api.pushshift.io/reddit/search/submission?subreddit=ProRevenge&size=500&after=330d\n",
      "Querying from: https://api.pushshift.io/reddit/search/submission?subreddit=ProRevenge&size=500&after=360d\n",
      "Querying from: https://api.pushshift.io/reddit/search/submission?subreddit=ProRevenge&size=500&after=390d\n",
      "Querying from: https://api.pushshift.io/reddit/search/submission?subreddit=ProRevenge&size=500&after=420d\n",
      "Querying from: https://api.pushshift.io/reddit/search/submission?subreddit=ProRevenge&size=500&after=450d\n",
      "Querying from: https://api.pushshift.io/reddit/search/submission?subreddit=ProRevenge&size=500&after=480d\n",
      "Querying from: https://api.pushshift.io/reddit/search/submission?subreddit=ProRevenge&size=500&after=510d\n",
      "Querying from: https://api.pushshift.io/reddit/search/submission?subreddit=ProRevenge&size=500&after=540d\n",
      "Querying from: https://api.pushshift.io/reddit/search/submission?subreddit=ProRevenge&size=500&after=570d\n",
      "Querying from: https://api.pushshift.io/reddit/search/submission?subreddit=ProRevenge&size=500&after=600d\n",
      "Querying from: https://api.pushshift.io/reddit/search/submission?subreddit=ProRevenge&size=500&after=630d\n",
      "Querying from: https://api.pushshift.io/reddit/search/submission?subreddit=ProRevenge&size=500&after=660d\n",
      "Querying from: https://api.pushshift.io/reddit/search/submission?subreddit=ProRevenge&size=500&after=690d\n",
      "Querying from: https://api.pushshift.io/reddit/search/submission?subreddit=ProRevenge&size=500&after=720d\n",
      "Querying from: https://api.pushshift.io/reddit/search/submission?subreddit=ProRevenge&size=500&after=750d\n",
      "Querying from: https://api.pushshift.io/reddit/search/submission?subreddit=ProRevenge&size=500&after=780d\n",
      "Querying from: https://api.pushshift.io/reddit/search/submission?subreddit=ProRevenge&size=500&after=810d\n",
      "Querying from: https://api.pushshift.io/reddit/search/submission?subreddit=ProRevenge&size=500&after=840d\n",
      "Querying from: https://api.pushshift.io/reddit/search/submission?subreddit=ProRevenge&size=500&after=870d\n",
      "Querying from: https://api.pushshift.io/reddit/search/submission?subreddit=ProRevenge&size=500&after=900d\n",
      "Querying from: https://api.pushshift.io/reddit/search/submission?subreddit=ProRevenge&size=500&after=930d\n",
      "Querying from: https://api.pushshift.io/reddit/search/submission?subreddit=ProRevenge&size=500&after=960d\n",
      "Querying from: https://api.pushshift.io/reddit/search/submission?subreddit=ProRevenge&size=500&after=990d\n",
      "Querying from: https://api.pushshift.io/reddit/search/submission?subreddit=ProRevenge&size=500&after=1020d\n",
      "Querying from: https://api.pushshift.io/reddit/search/submission?subreddit=ProRevenge&size=500&after=1050d\n",
      "Querying from: https://api.pushshift.io/reddit/search/submission?subreddit=ProRevenge&size=500&after=1080d\n",
      "Querying from: https://api.pushshift.io/reddit/search/submission?subreddit=ProRevenge&size=500&after=1110d\n",
      "Querying from: https://api.pushshift.io/reddit/search/submission?subreddit=ProRevenge&size=500&after=1140d\n",
      "Querying from: https://api.pushshift.io/reddit/search/submission?subreddit=ProRevenge&size=500&after=1170d\n",
      "Querying from: https://api.pushshift.io/reddit/search/submission?subreddit=ProRevenge&size=500&after=1200d\n",
      "Querying from: https://api.pushshift.io/reddit/search/submission?subreddit=ProRevenge&size=500&after=1230d\n",
      "Querying from: https://api.pushshift.io/reddit/search/submission?subreddit=ProRevenge&size=500&after=1260d\n",
      "Querying from: https://api.pushshift.io/reddit/search/submission?subreddit=ProRevenge&size=500&after=1290d\n",
      "Querying from: https://api.pushshift.io/reddit/search/submission?subreddit=ProRevenge&size=500&after=1320d\n",
      "Querying from: https://api.pushshift.io/reddit/search/submission?subreddit=ProRevenge&size=500&after=1350d\n",
      "Querying from: https://api.pushshift.io/reddit/search/submission?subreddit=ProRevenge&size=500&after=1380d\n",
      "Querying from: https://api.pushshift.io/reddit/search/submission?subreddit=ProRevenge&size=500&after=1410d\n",
      "Querying from: https://api.pushshift.io/reddit/search/submission?subreddit=ProRevenge&size=500&after=1440d\n",
      "Querying from: https://api.pushshift.io/reddit/search/submission?subreddit=ProRevenge&size=500&after=1470d\n",
      "Querying from: https://api.pushshift.io/reddit/search/submission?subreddit=ProRevenge&size=500&after=1500d\n",
      "Querying from: https://api.pushshift.io/reddit/search/submission?subreddit=ProRevenge&size=500&after=1530d\n",
      "Querying from: https://api.pushshift.io/reddit/search/submission?subreddit=ProRevenge&size=500&after=1560d\n",
      "Querying from: https://api.pushshift.io/reddit/search/submission?subreddit=ProRevenge&size=500&after=1590d\n",
      "Querying from: https://api.pushshift.io/reddit/search/submission?subreddit=ProRevenge&size=500&after=1620d\n",
      "Querying from: https://api.pushshift.io/reddit/search/submission?subreddit=ProRevenge&size=500&after=1650d\n",
      "Querying from: https://api.pushshift.io/reddit/search/submission?subreddit=ProRevenge&size=500&after=1680d\n",
      "Querying from: https://api.pushshift.io/reddit/search/submission?subreddit=ProRevenge&size=500&after=1710d\n",
      "Querying from: https://api.pushshift.io/reddit/search/submission?subreddit=ProRevenge&size=500&after=1740d\n",
      "Querying from: https://api.pushshift.io/reddit/search/submission?subreddit=ProRevenge&size=500&after=1770d\n",
      "Querying from: https://api.pushshift.io/reddit/search/submission?subreddit=ProRevenge&size=500&after=1800d\n",
      "Query Complete!\n"
     ]
    }
   ],
   "source": [
    "results2 = query_pushshift('ProRevenge')"
   ]
  },
  {
   "cell_type": "code",
   "execution_count": 80,
   "id": "07bc32ef",
   "metadata": {},
   "outputs": [
    {
     "data": {
      "text/plain": [
       "((4309, 9), (5914, 9))"
      ]
     },
     "execution_count": 80,
     "metadata": {},
     "output_type": "execute_result"
    }
   ],
   "source": [
    "results1.shape, results2.shape"
   ]
  },
  {
   "cell_type": "code",
   "execution_count": 78,
   "id": "d8419355",
   "metadata": {},
   "outputs": [
    {
     "data": {
      "text/html": [
       "<div>\n",
       "<style scoped>\n",
       "    .dataframe tbody tr th:only-of-type {\n",
       "        vertical-align: middle;\n",
       "    }\n",
       "\n",
       "    .dataframe tbody tr th {\n",
       "        vertical-align: top;\n",
       "    }\n",
       "\n",
       "    .dataframe thead th {\n",
       "        text-align: right;\n",
       "    }\n",
       "</style>\n",
       "<table border=\"1\" class=\"dataframe\">\n",
       "  <thead>\n",
       "    <tr style=\"text-align: right;\">\n",
       "      <th></th>\n",
       "      <th>title</th>\n",
       "      <th>selftext</th>\n",
       "      <th>subreddit</th>\n",
       "      <th>created_utc</th>\n",
       "      <th>author</th>\n",
       "      <th>num_comments</th>\n",
       "      <th>score</th>\n",
       "      <th>is_self</th>\n",
       "      <th>timestamp</th>\n",
       "    </tr>\n",
       "  </thead>\n",
       "  <tbody>\n",
       "    <tr>\n",
       "      <th>11</th>\n",
       "      <td>the more I deal with the phone company, the mo...</td>\n",
       "      <td>I used to know someone who had that on a butto...</td>\n",
       "      <td>MaliciousCompliance</td>\n",
       "      <td>1474237291</td>\n",
       "      <td>MKEgal</td>\n",
       "      <td>25</td>\n",
       "      <td>240</td>\n",
       "      <td>True</td>\n",
       "      <td>2016-09-18</td>\n",
       "    </tr>\n",
       "    <tr>\n",
       "      <th>12</th>\n",
       "      <td>[NSFW] Dumbarse of the Day - Me</td>\n",
       "      <td>[removed]</td>\n",
       "      <td>MaliciousCompliance</td>\n",
       "      <td>1474287658</td>\n",
       "      <td>MexicanSpaceProgram</td>\n",
       "      <td>29</td>\n",
       "      <td>36</td>\n",
       "      <td>True</td>\n",
       "      <td>2016-09-19</td>\n",
       "    </tr>\n",
       "    <tr>\n",
       "      <th>13</th>\n",
       "      <td>Of course I can explain it to you</td>\n",
       "      <td>There's an old saying in the military, \"If you...</td>\n",
       "      <td>MaliciousCompliance</td>\n",
       "      <td>1474397336</td>\n",
       "      <td>FishinMike</td>\n",
       "      <td>85</td>\n",
       "      <td>988</td>\n",
       "      <td>True</td>\n",
       "      <td>2016-09-20</td>\n",
       "    </tr>\n",
       "    <tr>\n",
       "      <th>14</th>\n",
       "      <td>If you insist...</td>\n",
       "      <td>So... $firm has a huge contract with $institut...</td>\n",
       "      <td>MaliciousCompliance</td>\n",
       "      <td>1474432195</td>\n",
       "      <td>an-3</td>\n",
       "      <td>72</td>\n",
       "      <td>292</td>\n",
       "      <td>True</td>\n",
       "      <td>2016-09-20</td>\n",
       "    </tr>\n",
       "    <tr>\n",
       "      <th>15</th>\n",
       "      <td>[NSFW] Fuck you, post office</td>\n",
       "      <td>While I have a level of contempt for the knuck...</td>\n",
       "      <td>MaliciousCompliance</td>\n",
       "      <td>1474442176</td>\n",
       "      <td>MexicanSpaceProgram</td>\n",
       "      <td>45</td>\n",
       "      <td>97</td>\n",
       "      <td>True</td>\n",
       "      <td>2016-09-21</td>\n",
       "    </tr>\n",
       "  </tbody>\n",
       "</table>\n",
       "</div>"
      ],
      "text/plain": [
       "                                                title  \\\n",
       "11  the more I deal with the phone company, the mo...   \n",
       "12                    [NSFW] Dumbarse of the Day - Me   \n",
       "13                  Of course I can explain it to you   \n",
       "14                                   If you insist...   \n",
       "15                       [NSFW] Fuck you, post office   \n",
       "\n",
       "                                             selftext            subreddit  \\\n",
       "11  I used to know someone who had that on a butto...  MaliciousCompliance   \n",
       "12                                          [removed]  MaliciousCompliance   \n",
       "13  There's an old saying in the military, \"If you...  MaliciousCompliance   \n",
       "14  So... $firm has a huge contract with $institut...  MaliciousCompliance   \n",
       "15  While I have a level of contempt for the knuck...  MaliciousCompliance   \n",
       "\n",
       "    created_utc               author  num_comments  score  is_self   timestamp  \n",
       "11   1474237291               MKEgal            25    240     True  2016-09-18  \n",
       "12   1474287658  MexicanSpaceProgram            29     36     True  2016-09-19  \n",
       "13   1474397336           FishinMike            85    988     True  2016-09-20  \n",
       "14   1474432195                 an-3            72    292     True  2016-09-20  \n",
       "15   1474442176  MexicanSpaceProgram            45     97     True  2016-09-21  "
      ]
     },
     "execution_count": 78,
     "metadata": {},
     "output_type": "execute_result"
    }
   ],
   "source": [
    "results1.tail()"
   ]
  },
  {
   "cell_type": "code",
   "execution_count": 79,
   "id": "8cfac63a",
   "metadata": {},
   "outputs": [
    {
     "data": {
      "text/html": [
       "<div>\n",
       "<style scoped>\n",
       "    .dataframe tbody tr th:only-of-type {\n",
       "        vertical-align: middle;\n",
       "    }\n",
       "\n",
       "    .dataframe tbody tr th {\n",
       "        vertical-align: top;\n",
       "    }\n",
       "\n",
       "    .dataframe thead th {\n",
       "        text-align: right;\n",
       "    }\n",
       "</style>\n",
       "<table border=\"1\" class=\"dataframe\">\n",
       "  <thead>\n",
       "    <tr style=\"text-align: right;\">\n",
       "      <th></th>\n",
       "      <th>title</th>\n",
       "      <th>selftext</th>\n",
       "      <th>subreddit</th>\n",
       "      <th>created_utc</th>\n",
       "      <th>author</th>\n",
       "      <th>num_comments</th>\n",
       "      <th>score</th>\n",
       "      <th>is_self</th>\n",
       "      <th>timestamp</th>\n",
       "    </tr>\n",
       "  </thead>\n",
       "  <tbody>\n",
       "    <tr>\n",
       "      <th>91</th>\n",
       "      <td>[Unexpected Update] Revenge is a dish best ser...</td>\n",
       "      <td>So, after [this post,](https://www.reddit.com/...</td>\n",
       "      <td>ProRevenge</td>\n",
       "      <td>1474479776</td>\n",
       "      <td>batkevn</td>\n",
       "      <td>37</td>\n",
       "      <td>579</td>\n",
       "      <td>True</td>\n",
       "      <td>2016-09-21</td>\n",
       "    </tr>\n",
       "    <tr>\n",
       "      <th>92</th>\n",
       "      <td>Comcast ripped me off so I developed a 0-day X...</td>\n",
       "      <td>[removed]</td>\n",
       "      <td>ProRevenge</td>\n",
       "      <td>1474532022</td>\n",
       "      <td>zr0day</td>\n",
       "      <td>0</td>\n",
       "      <td>0</td>\n",
       "      <td>True</td>\n",
       "      <td>2016-09-22</td>\n",
       "    </tr>\n",
       "    <tr>\n",
       "      <th>93</th>\n",
       "      <td>The Last Straw</td>\n",
       "      <td>[removed]</td>\n",
       "      <td>ProRevenge</td>\n",
       "      <td>1474586673</td>\n",
       "      <td>[deleted]</td>\n",
       "      <td>6</td>\n",
       "      <td>0</td>\n",
       "      <td>True</td>\n",
       "      <td>2016-09-22</td>\n",
       "    </tr>\n",
       "    <tr>\n",
       "      <th>94</th>\n",
       "      <td>(Acne I guess ? ) anyone who can help please</td>\n",
       "      <td>[deleted]</td>\n",
       "      <td>ProRevenge</td>\n",
       "      <td>1474593774</td>\n",
       "      <td>[deleted]</td>\n",
       "      <td>0</td>\n",
       "      <td>1</td>\n",
       "      <td>True</td>\n",
       "      <td>2016-09-22</td>\n",
       "    </tr>\n",
       "    <tr>\n",
       "      <th>95</th>\n",
       "      <td>Deface my property, I'll go Ezekiel 25:17 on y...</td>\n",
       "      <td>I'll start off by saying that high school was ...</td>\n",
       "      <td>ProRevenge</td>\n",
       "      <td>1474600389</td>\n",
       "      <td>crookshanks777</td>\n",
       "      <td>203</td>\n",
       "      <td>1708</td>\n",
       "      <td>True</td>\n",
       "      <td>2016-09-22</td>\n",
       "    </tr>\n",
       "  </tbody>\n",
       "</table>\n",
       "</div>"
      ],
      "text/plain": [
       "                                                title  \\\n",
       "91  [Unexpected Update] Revenge is a dish best ser...   \n",
       "92  Comcast ripped me off so I developed a 0-day X...   \n",
       "93                                     The Last Straw   \n",
       "94       (Acne I guess ? ) anyone who can help please   \n",
       "95  Deface my property, I'll go Ezekiel 25:17 on y...   \n",
       "\n",
       "                                             selftext   subreddit  \\\n",
       "91  So, after [this post,](https://www.reddit.com/...  ProRevenge   \n",
       "92                                          [removed]  ProRevenge   \n",
       "93                                          [removed]  ProRevenge   \n",
       "94                                          [deleted]  ProRevenge   \n",
       "95  I'll start off by saying that high school was ...  ProRevenge   \n",
       "\n",
       "    created_utc          author  num_comments  score  is_self   timestamp  \n",
       "91   1474479776         batkevn            37    579     True  2016-09-21  \n",
       "92   1474532022          zr0day             0      0     True  2016-09-22  \n",
       "93   1474586673       [deleted]             6      0     True  2016-09-22  \n",
       "94   1474593774       [deleted]             0      1     True  2016-09-22  \n",
       "95   1474600389  crookshanks777           203   1708     True  2016-09-22  "
      ]
     },
     "execution_count": 79,
     "metadata": {},
     "output_type": "execute_result"
    }
   ],
   "source": [
    "results2.tail()"
   ]
  },
  {
   "cell_type": "code",
   "execution_count": 81,
   "id": "4abb4bd1",
   "metadata": {},
   "outputs": [
    {
     "data": {
      "text/plain": [
       "title            0\n",
       "selftext        40\n",
       "subreddit        0\n",
       "created_utc      0\n",
       "author           0\n",
       "num_comments     0\n",
       "score            0\n",
       "is_self          0\n",
       "timestamp        0\n",
       "dtype: int64"
      ]
     },
     "execution_count": 81,
     "metadata": {},
     "output_type": "execute_result"
    }
   ],
   "source": [
    "results1.isnull().sum()"
   ]
  },
  {
   "cell_type": "code",
   "execution_count": 82,
   "id": "565e0a64",
   "metadata": {},
   "outputs": [
    {
     "data": {
      "text/plain": [
       "title             0\n",
       "selftext        127\n",
       "subreddit         0\n",
       "created_utc       0\n",
       "author            0\n",
       "num_comments      0\n",
       "score             0\n",
       "is_self           0\n",
       "timestamp         0\n",
       "dtype: int64"
      ]
     },
     "execution_count": 82,
     "metadata": {},
     "output_type": "execute_result"
    }
   ],
   "source": [
    "results2.isnull().sum()"
   ]
  },
  {
   "cell_type": "code",
   "execution_count": 85,
   "id": "b73490d5",
   "metadata": {},
   "outputs": [],
   "source": [
    "# Nulls are where the posts may only have a title and no body text - I don't want to delete since titles are useful\n",
    "# Fill NaNs with 'none'\n",
    "\n",
    "results1['selftext'] = results1['selftext'].fillna('none')\n",
    "results2['selftext'] = results2['selftext'].fillna('none')"
   ]
  },
  {
   "cell_type": "code",
   "execution_count": null,
   "id": "bff53d29",
   "metadata": {},
   "outputs": [],
   "source": []
  }
 ],
 "metadata": {
  "kernelspec": {
   "display_name": "Python 3",
   "language": "python",
   "name": "python3"
  },
  "language_info": {
   "codemirror_mode": {
    "name": "ipython",
    "version": 3
   },
   "file_extension": ".py",
   "mimetype": "text/x-python",
   "name": "python",
   "nbconvert_exporter": "python",
   "pygments_lexer": "ipython3",
   "version": "3.8.8"
  }
 },
 "nbformat": 4,
 "nbformat_minor": 5
}
