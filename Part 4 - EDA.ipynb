{
 "cells": [
  {
   "cell_type": "markdown",
   "id": "9aaa1780",
   "metadata": {},
   "source": [
    "<img src=\"http://imgur.com/1ZcRyrc.png\" style=\"float: left; margin: 20px; height: 55px\">\n",
    "\n",
    "# Project 3: Web APIs & NLP"
   ]
  },
  {
   "cell_type": "markdown",
   "id": "d247606c",
   "metadata": {},
   "source": [
    "## Contents\n",
    "- [Exploratory Data Analysis](#Part-3:-Exploratory-Data-Analysis)\n",
    "- [Tokenizing](#Tokenizing)"
   ]
  },
  {
   "cell_type": "markdown",
   "id": "fd98694e",
   "metadata": {},
   "source": [
    "--- \n",
    "# Part 4 : EDA\n",
    "\n",
    "--- "
   ]
  },
  {
   "cell_type": "code",
   "execution_count": 2,
   "id": "3d743150",
   "metadata": {},
   "outputs": [],
   "source": [
    "import pandas as pd\n",
    "import numpy as np\n",
    "import seaborn as sns\n",
    "import matplotlib.pyplot as plt\n",
    "import requests\n",
    "import datetime as dt\n",
    "from datetime import datetime\n",
    "import time\n",
    "import sys\n",
    "import string\n",
    "import re\n",
    "from bs4 import BeautifulSoup\n",
    "from sklearn.feature_extraction import text\n",
    "from nltk.tokenize import word_tokenize, sent_tokenize\n",
    "from nltk.corpus import stopwords\n",
    "from nltk.stem import WordNetLemmatizer\n",
    "from nltk.stem.porter import PorterStemmer\n",
    "from sklearn.feature_extraction.text import CountVectorizer, TfidfVectorizer\n",
    "from sklearn.model_selection import train_test_split"
   ]
  },
  {
   "cell_type": "code",
   "execution_count": 4,
   "id": "56c8cbb6",
   "metadata": {},
   "outputs": [],
   "source": [
    "# Read in CSV & create df\n",
    "\n",
    "df = pd.read_csv('./data/cleaned_subreddit_data.csv')"
   ]
  },
  {
   "cell_type": "code",
   "execution_count": 5,
   "id": "6085ad1e",
   "metadata": {},
   "outputs": [
    {
     "data": {
      "text/html": [
       "<div>\n",
       "<style scoped>\n",
       "    .dataframe tbody tr th:only-of-type {\n",
       "        vertical-align: middle;\n",
       "    }\n",
       "\n",
       "    .dataframe tbody tr th {\n",
       "        vertical-align: top;\n",
       "    }\n",
       "\n",
       "    .dataframe thead th {\n",
       "        text-align: right;\n",
       "    }\n",
       "</style>\n",
       "<table border=\"1\" class=\"dataframe\">\n",
       "  <thead>\n",
       "    <tr style=\"text-align: right;\">\n",
       "      <th></th>\n",
       "      <th>author</th>\n",
       "      <th>num_comments</th>\n",
       "      <th>score</th>\n",
       "      <th>selftext</th>\n",
       "      <th>subreddit</th>\n",
       "      <th>title</th>\n",
       "      <th>timestamp</th>\n",
       "      <th>all_text</th>\n",
       "    </tr>\n",
       "  </thead>\n",
       "  <tbody>\n",
       "    <tr>\n",
       "      <th>0</th>\n",
       "      <td>Erahth</td>\n",
       "      <td>12</td>\n",
       "      <td>1</td>\n",
       "      <td>So, this just happened. My 3.5yo son is showin...</td>\n",
       "      <td>MaliciousCompliance</td>\n",
       "      <td>One more sip…</td>\n",
       "      <td>2021-08-01 00:11:01</td>\n",
       "      <td>One more sip… So, this just happened. My 3.5yo...</td>\n",
       "    </tr>\n",
       "    <tr>\n",
       "      <th>1</th>\n",
       "      <td>MorrisonsLament</td>\n",
       "      <td>39</td>\n",
       "      <td>1</td>\n",
       "      <td>Many years ago I was working for a fairly larg...</td>\n",
       "      <td>MaliciousCompliance</td>\n",
       "      <td>\"You can't fire me. But you can make me stop w...</td>\n",
       "      <td>2021-08-01 00:12:45</td>\n",
       "      <td>\"You can't fire me. But you can make me stop w...</td>\n",
       "    </tr>\n",
       "    <tr>\n",
       "      <th>2</th>\n",
       "      <td>infiniteknights</td>\n",
       "      <td>215</td>\n",
       "      <td>1</td>\n",
       "      <td>I've been doing all my shopping online, from g...</td>\n",
       "      <td>MaliciousCompliance</td>\n",
       "      <td>\"Personal responsibility\"? Ok!</td>\n",
       "      <td>2021-08-01 00:21:24</td>\n",
       "      <td>\"Personal responsibility\"? Ok! I've been doing...</td>\n",
       "    </tr>\n",
       "    <tr>\n",
       "      <th>3</th>\n",
       "      <td>SimRayB</td>\n",
       "      <td>19</td>\n",
       "      <td>1</td>\n",
       "      <td>According to my Mother, this happened when I w...</td>\n",
       "      <td>MaliciousCompliance</td>\n",
       "      <td>You put all of those in your mouth or you can’...</td>\n",
       "      <td>2021-08-01 00:42:46</td>\n",
       "      <td>You put all of those in your mouth or you can’...</td>\n",
       "    </tr>\n",
       "    <tr>\n",
       "      <th>4</th>\n",
       "      <td>CSPhCT</td>\n",
       "      <td>28</td>\n",
       "      <td>1</td>\n",
       "      <td>Patient comes into my pharmacy. “I’m here for ...</td>\n",
       "      <td>MaliciousCompliance</td>\n",
       "      <td>Patient wants what he wants so I just need to ...</td>\n",
       "      <td>2021-08-01 06:01:07</td>\n",
       "      <td>Patient wants what he wants so I just need to ...</td>\n",
       "    </tr>\n",
       "  </tbody>\n",
       "</table>\n",
       "</div>"
      ],
      "text/plain": [
       "            author  num_comments  score  \\\n",
       "0           Erahth            12      1   \n",
       "1  MorrisonsLament            39      1   \n",
       "2  infiniteknights           215      1   \n",
       "3          SimRayB            19      1   \n",
       "4           CSPhCT            28      1   \n",
       "\n",
       "                                            selftext            subreddit  \\\n",
       "0  So, this just happened. My 3.5yo son is showin...  MaliciousCompliance   \n",
       "1  Many years ago I was working for a fairly larg...  MaliciousCompliance   \n",
       "2  I've been doing all my shopping online, from g...  MaliciousCompliance   \n",
       "3  According to my Mother, this happened when I w...  MaliciousCompliance   \n",
       "4  Patient comes into my pharmacy. “I’m here for ...  MaliciousCompliance   \n",
       "\n",
       "                                               title            timestamp  \\\n",
       "0                                      One more sip…  2021-08-01 00:11:01   \n",
       "1  \"You can't fire me. But you can make me stop w...  2021-08-01 00:12:45   \n",
       "2                     \"Personal responsibility\"? Ok!  2021-08-01 00:21:24   \n",
       "3  You put all of those in your mouth or you can’...  2021-08-01 00:42:46   \n",
       "4  Patient wants what he wants so I just need to ...  2021-08-01 06:01:07   \n",
       "\n",
       "                                            all_text  \n",
       "0  One more sip… So, this just happened. My 3.5yo...  \n",
       "1  \"You can't fire me. But you can make me stop w...  \n",
       "2  \"Personal responsibility\"? Ok! I've been doing...  \n",
       "3  You put all of those in your mouth or you can’...  \n",
       "4  Patient wants what he wants so I just need to ...  "
      ]
     },
     "execution_count": 5,
     "metadata": {},
     "output_type": "execute_result"
    }
   ],
   "source": [
    "df.head()"
   ]
  },
  {
   "cell_type": "code",
   "execution_count": 6,
   "id": "523c222a",
   "metadata": {},
   "outputs": [],
   "source": [
    "malicious = df[df['subreddit']=='MaliciousCompliance']\n",
    "petty = df[df['subreddit']=='pettyrevenge']\n",
    "pro = df[df['subreddit']=='ProRevenge']"
   ]
  },
  {
   "cell_type": "markdown",
   "id": "9ca48657",
   "metadata": {},
   "source": [
    "### Most Common Words in all 3 Subreddits"
   ]
  },
  {
   "cell_type": "code",
   "execution_count": 7,
   "id": "7941224e",
   "metadata": {},
   "outputs": [],
   "source": [
    "# Vectorize\n",
    "X = df['all_text']"
   ]
  },
  {
   "cell_type": "code",
   "execution_count": 8,
   "id": "97fe6341",
   "metadata": {},
   "outputs": [
    {
     "data": {
      "text/plain": [
       "MaliciousCompliance    0.473948\n",
       "pettyrevenge           0.300295\n",
       "ProRevenge             0.225757\n",
       "Name: subreddit, dtype: float64"
      ]
     },
     "execution_count": 8,
     "metadata": {},
     "output_type": "execute_result"
    }
   ],
   "source": [
    "# Baseline\n",
    "df['subreddit'].value_counts(normalize=True)"
   ]
  },
  {
   "cell_type": "code",
   "execution_count": 9,
   "id": "168ace61",
   "metadata": {},
   "outputs": [],
   "source": [
    "# Instantiate a CountVectorizer\n",
    "cvec = CountVectorizer(max_features = 1000,\n",
    "                      #min_df=2,\n",
    "                      stop_words = 'english'\n",
    "                      )"
   ]
  },
  {
   "cell_type": "code",
   "execution_count": 10,
   "id": "7ec3883e",
   "metadata": {},
   "outputs": [],
   "source": [
    "# Fit & transform the vectorizer\n",
    "vec_df= pd.DataFrame(cvec.fit_transform(X).todense(), columns=cvec.get_feature_names())"
   ]
  },
  {
   "cell_type": "code",
   "execution_count": null,
   "id": "e6eafd67",
   "metadata": {},
   "outputs": [],
   "source": [
    "# Checking list of words to see if i need to do any more cleaning - commenting out for space\n",
    "#cvec.get_feature_names()"
   ]
  },
  {
   "cell_type": "code",
   "execution_count": 11,
   "id": "af437116",
   "metadata": {},
   "outputs": [
    {
     "data": {
      "image/png": "[encoded data removed]",
      "text/plain": [
       "<Figure size 576x432 with 1 Axes>"
      ]
     },
     "metadata": {
      "needs_background": "light"
     },
     "output_type": "display_data"
    }
   ],
   "source": [
    "vec_df.sum().sort_values(ascending = False).head(30).plot(kind='barh', figsize=(8, 6))\n",
    "plt.xlabel(\"Count\", labelpad=14)\n",
    "plt.ylabel(\"Words (not incl. StopWords)\", labelpad=14)\n",
    "plt.title(\"30 Most Frequently Occurring Words in all 3 Subreddits\");"
   ]
  },
  {
   "cell_type": "markdown",
   "id": "fdac3433",
   "metadata": {},
   "source": [
    "### Most Common Words by Subreddit"
   ]
  },
  {
   "cell_type": "code",
   "execution_count": 12,
   "id": "361fe2e9",
   "metadata": {},
   "outputs": [],
   "source": [
    "# Vectorizing for each sub\n",
    "X1 = malicious['all_text']\n",
    "X2 = petty['all_text']\n",
    "X3 = pro['all_text']\n",
    "\n",
    "vec_mal= pd.DataFrame(cvec.fit_transform(X1).todense(), columns=cvec.get_feature_names())\n",
    "vec_petty= pd.DataFrame(cvec.fit_transform(X2).todense(), columns=cvec.get_feature_names())\n",
    "vec_pro= pd.DataFrame(cvec.fit_transform(X3).todense(), columns=cvec.get_feature_names())"
   ]
  },
  {
   "cell_type": "code",
   "execution_count": 13,
   "id": "d92eb57c",
   "metadata": {},
   "outputs": [
    {
     "data": {
      "image/png": "[encoded data removed]",
      "text/plain": [
       "<Figure size 576x432 with 1 Axes>"
      ]
     },
     "metadata": {
      "needs_background": "light"
     },
     "output_type": "display_data"
    }
   ],
   "source": [
    "vec_mal.sum().sort_values(ascending = False).head(15).plot(kind='barh', figsize=(8, 6), color = 'green')\n",
    "plt.xlabel(\"Count\", labelpad=14)\n",
    "plt.ylabel(\"Words (not incl. StopWords)\")\n",
    "plt.title(\"15 Most Frequently Occurring Words in r/MaliciousCompliance\");"
   ]
  },
  {
   "cell_type": "code",
   "execution_count": 14,
   "id": "3e3508ef",
   "metadata": {},
   "outputs": [
    {
     "data": {
      "image/png": "[encoded data removed]",
      "text/plain": [
       "<Figure size 576x432 with 1 Axes>"
      ]
     },
     "metadata": {
      "needs_background": "light"
     },
     "output_type": "display_data"
    }
   ],
   "source": [
    "vec_petty.sum().sort_values(ascending = False).head(15).plot(kind='barh', figsize=(8, 6), color = 'orange')\n",
    "plt.xlabel(\"Count\", labelpad=14)\n",
    "plt.ylabel(\"Words (not incl. StopWords)\")\n",
    "plt.title(\"15 Most Frequently Occurring Words in r/pettyrevenge\");"
   ]
  },
  {
   "cell_type": "code",
   "execution_count": 15,
   "id": "03cf1d8b",
   "metadata": {},
   "outputs": [
    {
     "data": {
      "image/png": "[encoded data removed]",
      "text/plain": [
       "<Figure size 576x432 with 1 Axes>"
      ]
     },
     "metadata": {
      "needs_background": "light"
     },
     "output_type": "display_data"
    }
   ],
   "source": [
    "vec_pro.sum().sort_values(ascending = False).head(15).plot(kind='barh', figsize=(8, 6), color = 'purple')\n",
    "plt.xlabel(\"Count\", labelpad=14)\n",
    "plt.ylabel(\"Words (not incl. StopWords)\")\n",
    "plt.title(\"15 Most Frequently Occurring Words in r/ProRevenge\");"
   ]
  },
  {
   "cell_type": "markdown",
   "id": "f6c2e8ec",
   "metadata": {},
   "source": [
    "### Removing Additional Stopwords\n",
    "There's a lot of overlap in word frequency between the 3 subreddits\n",
    "* 'just', 'time', 'like', 'did', 'didn', 'told', 'day', 'work', 'said'"
   ]
  },
  {
   "cell_type": "code",
   "execution_count": null,
   "id": "c1d8a242",
   "metadata": {},
   "outputs": [],
   "source": [
    "# Remove more stop words\n",
    "\n",
    "my_stops = stopwords.words('english')\n",
    "my_stops.extend(['none','\\n', 'www', 'reddit', 'com', 'comment', 'http', '00', '000','10','100','11','12','15','16',\n",
    "                 '18','20','25','30','40','45','50','op', 'just', 'time', 'like', 'did', 'didn', 'told', 'day', \n",
    "                 'know', 'said'])\n",
    "my_stops = set(my_stops)\n",
    "\n",
    "\n",
    "meaningful_words = [w for w in words if not w in my_stops]\n",
    "    \n",
    "# lemmatizer the words.\n",
    "lemmatizer = WordNetLemmatizer()\n",
    "tokens_lem = [lemmatizer.lemmatize(i) for i in meaningful_words]\n",
    "    \n",
    "# Join the words back into one string\n",
    "' '.join(tokens_lem)"
   ]
  },
  {
   "cell_type": "code",
   "execution_count": null,
   "id": "9ee8b488",
   "metadata": {},
   "outputs": [],
   "source": [
    "def tokenize(column):\n",
    "    raw[column] = [word_tokenize(str(text)) for text in word[column]]\n",
    "    return raw[column]\n",
    "\n",
    "def lemmatize(tokenized_column):\n",
    "    lemmatizer = WordNetLemmatizer()\n",
    "    raw[tokenized_column] = [' '.join([lemmatizer.lemmatize(word) for word in text]) for text in raw[tokenized_column]]\n",
    "    return raw[tokenized_column]"
   ]
  },
  {
   "cell_type": "code",
   "execution_count": null,
   "id": "9fb4d2ae",
   "metadata": {},
   "outputs": [],
   "source": []
  },
  {
   "cell_type": "code",
   "execution_count": null,
   "id": "c44594a6",
   "metadata": {},
   "outputs": [],
   "source": []
  },
  {
   "cell_type": "code",
   "execution_count": null,
   "id": "b9d8863c",
   "metadata": {},
   "outputs": [],
   "source": []
  }
 ],
 "metadata": {
  "kernelspec": {
   "display_name": "Python 3",
   "language": "python",
   "name": "python3"
  },
  "language_info": {
   "codemirror_mode": {
    "name": "ipython",
    "version": 3
   },
   "file_extension": ".py",
   "mimetype": "text/x-python",
   "name": "python",
   "nbconvert_exporter": "python",
   "pygments_lexer": "ipython3",
   "version": "3.8.8"
  }
 },
 "nbformat": 4,
 "nbformat_minor": 5
}
