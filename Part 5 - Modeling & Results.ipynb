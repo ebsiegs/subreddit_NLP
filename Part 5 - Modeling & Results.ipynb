{
 "cells": [
  {
   "cell_type": "markdown",
   "id": "6b2774a3",
   "metadata": {},
   "source": [
    "<img src=\"http://imgur.com/1ZcRyrc.png\" style=\"float: left; margin: 20px; height: 55px\">\n",
    "\n",
    "# Project 3: Web APIs & NLP"
   ]
  },
  {
   "cell_type": "markdown",
   "id": "76fa062f",
   "metadata": {},
   "source": [
    "## Contents\n",
    "- [Exploratory Data Analysis](#Part-3:-Exploratory-Data-Analysis)\n",
    "- [Feature Engineering](#Feature-Engineering)\n",
    "- [Data Dictionary](#Data-Dictionary)"
   ]
  },
  {
   "cell_type": "markdown",
   "id": "42b9620e",
   "metadata": {},
   "source": [
    "--- \n",
    "# Part 5 : Modeling & Results\n",
    "\n",
    "--- "
   ]
  },
  {
   "cell_type": "code",
   "execution_count": null,
   "id": "945e361f",
   "metadata": {},
   "outputs": [],
   "source": []
  },
  {
   "cell_type": "code",
   "execution_count": null,
   "id": "0a17d09c",
   "metadata": {},
   "outputs": [],
   "source": []
  },
  {
   "cell_type": "code",
   "execution_count": null,
   "id": "bb987e46",
   "metadata": {},
   "outputs": [],
   "source": []
  }
 ],
 "metadata": {
  "kernelspec": {
   "display_name": "Python 3",
   "language": "python",
   "name": "python3"
  },
  "language_info": {
   "codemirror_mode": {
    "name": "ipython",
    "version": 3
   },
   "file_extension": ".py",
   "mimetype": "text/x-python",
   "name": "python",
   "nbconvert_exporter": "python",
   "pygments_lexer": "ipython3",
   "version": "3.8.8"
  }
 },
 "nbformat": 4,
 "nbformat_minor": 5
}
