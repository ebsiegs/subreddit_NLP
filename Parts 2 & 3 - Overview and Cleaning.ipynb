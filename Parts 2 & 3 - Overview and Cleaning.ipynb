{
 "cells": [
  {
   "cell_type": "markdown",
   "id": "ab08ed6f",
   "metadata": {},
   "source": [
    "<img src=\"http://imgur.com/1ZcRyrc.png\" style=\"float: left; margin: 20px; height: 55px\">\n",
    "\n",
    "# Project 3: Web APIs & NLP \n",
    "\n",
    "# Classifying Active vs. Passive Revenge in Subreddits"
   ]
  },
  {
   "cell_type": "markdown",
   "id": "0d0b9932",
   "metadata": {},
   "source": [
    "--- \n",
    "# Part 2: Overview\n",
    "\n",
    "--- \n",
    "\n",
    "## Problem Statement\n",
    "\n",
    "Can we distinguish the difference between active vs. passive revenge in the subreddits r/MaliciousCompliance, r/pettyrevenge, and r/ProRevenge. r/MaliciousCompliance is more passive unplanned revenge and the other 2 subreddits are more active planned revenge. This model can be used by the moderators for r/MaliciousCompliance if it can detect predictive features that distinguish it from the other 2 subreddits. "
   ]
  },
  {
   "cell_type": "markdown",
   "id": "10b535fd",
   "metadata": {},
   "source": [
    "## Contents\n",
    "- [Background on Subreddits Chosen](#Background-on-Subreddits-Chosen)\n",
    "- [References](#References)\n",
    "- [Data Cleaning](#Part-3-:-Data-Cleaning)\n",
    "- [Data Dictionary](#Data-Dictionary)"
   ]
  },
  {
   "cell_type": "markdown",
   "id": "8c2a0945",
   "metadata": {},
   "source": [
    "## Overview\n",
    "\n",
    "Numerous studies about aggression and revenge have been undertaken by the Psychology community. One paper I perused [Source: https://doi.org/10.1093/scan/nsv082] found evidence to suggest that areas of the brain that control aggression were more activated and preceded by instances of provocation. While this may provide pleasure and reward of retaliatory aggression if acted upon, the paper came to the conclusion that this effect cannot be fully separated from the possible significance of the person just simply observing someone be punished for their wrongdoing. This distinction between active and passive revenge is really interesting to explore and attempt to classify. \n",
    "\n",
    "According to Wikipedia, Malicious Compliance is the passive-aggressive \"behaviour of intentionally inflicting harm by strictly following the orders of a superior while knowing or intending that compliance with the orders will have an unintended or negative result.\" This differs from acts of revenge in that they are unplanned but intentional and simply following orders. In contrast, revenge is a planned act or instance of retaliating in order to get even. \n",
    "\n",
    "A big part of getting reddit submission data ready for modeling is cleaning and removing any artifacts of remanants from html, punctuation, characters like emojis, etc. Removed or deleted submissions were dropped. The particular subreddits I chose did not appear to have any moderator bot messages that needed to be removed. After cleaning, there were 11,189 subreddit submissions total, with r/MaliciousCompliance having 5,303, r/pettyrevenge with 3,360, and r/ProRevenge with 2,526. Words were lemmatized and stop words were removed. Preliminary EDA showed that of the 30 most frequent words in each class, approximately 1/3 were unique to the class and 2/3 were the same in both. After cleaning and EDA, several different models were built to attempt to tackle classifying passive vs. active revenge in subreddits.\n"
   ]
  },
  {
   "cell_type": "markdown",
   "id": "a594a199",
   "metadata": {},
   "source": [
    "## Background on Subreddits Chosen\n",
    "### r/MaliciousCompliance\n",
    "\n",
    "**Fast Facts:**\n",
    "* Created on Jan 4, 2016\n",
    "* 1.6 million Members\n",
    "* All posts must be a story that must contain some form of malicious compliance. Malicious is interpreted broadly, but posts where people do not comply with rules will be removed. Update posts must link to the previous post on this subreddit and are subject to moderator approval.\n",
    "* Compliance must be intentional.\n",
    "\n",
    "\n",
    "### r/pettyrevenge\n",
    "**Fast Facts:**\n",
    "* Created Nov 1, 2012\n",
    "* 1.1 million Members\n",
    "* Stories should be revenge-based. Karma =/= Revenge Someone has wronged you, but you got your revenge, oh yes, you got your revenge. Reporting someone to the police is not revenge, it is simply just reporting someone to the police.\n",
    "* Stories should be petty. I messed with their toothpaste. I turned their disk upside-down in their XBox. I gasp put shaving cream in their shoes. The more creative the better\n",
    "\n",
    "\n",
    "### r/ProRevenge\n",
    "**Fast Facts:**\n",
    "* Created Nov 14, 2012\n",
    "* 1.1 million Members\n",
    "* Your story should be about getting back at someone who wronged you in generally an interesting and/or funny way. In order for your story to be pro revenge, it should involve you going out of your way and going above and beyond to get revenge. If that isn't the case with your story, it may be better suited for another revenge subreddit\n",
    "* All posts must contain a full revenge story (no requests for ideas or excessive minor updates)\n"
   ]
  },
  {
   "cell_type": "markdown",
   "id": "8d12d9d3",
   "metadata": {},
   "source": [
    "## References\n",
    "1. Data was scraped from Pushshift Reddit API https://github.com/pushshift/api\n",
    "2. https://www.psychologytoday.com/us/blog/tech-support/201707/the-psychology-revenge-and-vengeful-people\n",
    "3. David S. Chester, C. Nathan DeWall, The pleasure of revenge: retaliatory aggression arises from a neural imbalance toward reward, Social Cognitive and Affective Neuroscience, Volume 11, Issue 7, July 2016, Pages 1173–1182, https://doi.org/10.1093/scan/nsv082\n",
    "4. https://en.wikipedia.org/wiki/Malicious_compliance"
   ]
  },
  {
   "cell_type": "markdown",
   "id": "9bf5946e",
   "metadata": {},
   "source": [
    "--- \n",
    "# Part 3 : Data Cleaning\n",
    "\n",
    "--- "
   ]
  },
  {
   "cell_type": "code",
   "execution_count": 1,
   "id": "fe28c77d",
   "metadata": {},
   "outputs": [],
   "source": [
    "import pandas as pd\n",
    "import numpy as np\n",
    "import seaborn as sns\n",
    "import matplotlib.pyplot as plt\n",
    "import requests\n",
    "import datetime as dt\n",
    "from datetime import datetime\n",
    "import time\n",
    "import sys\n",
    "import string\n",
    "import re\n",
    "from bs4 import BeautifulSoup\n",
    "from sklearn.feature_extraction import text\n",
    "from nltk.tokenize import word_tokenize, sent_tokenize\n",
    "from nltk.corpus import stopwords\n",
    "from nltk.stem import WordNetLemmatizer\n",
    "from nltk.stem.porter import PorterStemmer\n",
    "from sklearn.feature_extraction.text import CountVectorizer, TfidfVectorizer\n",
    "from sklearn.model_selection import train_test_split"
   ]
  },
  {
   "cell_type": "code",
   "execution_count": 58,
   "id": "f4f8e6a7",
   "metadata": {},
   "outputs": [],
   "source": [
    "# Read in CSV & create df\n",
    "\n",
    "raw = pd.read_csv('./data/subreddit_data.csv')"
   ]
  },
  {
   "cell_type": "code",
   "execution_count": 3,
   "id": "98879440",
   "metadata": {},
   "outputs": [
    {
     "data": {
      "text/plain": [
       "(26680, 79)"
      ]
     },
     "execution_count": 3,
     "metadata": {},
     "output_type": "execute_result"
    }
   ],
   "source": [
    "raw.shape"
   ]
  },
  {
   "cell_type": "code",
   "execution_count": 4,
   "id": "5037e740",
   "metadata": {},
   "outputs": [
    {
     "data": {
      "text/html": [
       "<div>\n",
       "<style scoped>\n",
       "    .dataframe tbody tr th:only-of-type {\n",
       "        vertical-align: middle;\n",
       "    }\n",
       "\n",
       "    .dataframe tbody tr th {\n",
       "        vertical-align: top;\n",
       "    }\n",
       "\n",
       "    .dataframe thead th {\n",
       "        text-align: right;\n",
       "    }\n",
       "</style>\n",
       "<table border=\"1\" class=\"dataframe\">\n",
       "  <thead>\n",
       "    <tr style=\"text-align: right;\">\n",
       "      <th></th>\n",
       "      <th>all_awardings</th>\n",
       "      <th>allow_live_comments</th>\n",
       "      <th>author</th>\n",
       "      <th>author_flair_css_class</th>\n",
       "      <th>author_flair_richtext</th>\n",
       "      <th>author_flair_text</th>\n",
       "      <th>author_flair_type</th>\n",
       "      <th>author_fullname</th>\n",
       "      <th>author_is_blocked</th>\n",
       "      <th>author_patreon_flair</th>\n",
       "      <th>...</th>\n",
       "      <th>author_flair_background_color</th>\n",
       "      <th>author_flair_text_color</th>\n",
       "      <th>banned_by</th>\n",
       "      <th>edited</th>\n",
       "      <th>gilded</th>\n",
       "      <th>top_awarded_type</th>\n",
       "      <th>author_flair_template_id</th>\n",
       "      <th>distinguished</th>\n",
       "      <th>thumbnail_height</th>\n",
       "      <th>thumbnail_width</th>\n",
       "    </tr>\n",
       "  </thead>\n",
       "  <tbody>\n",
       "    <tr>\n",
       "      <th>0</th>\n",
       "      <td>[]</td>\n",
       "      <td>False</td>\n",
       "      <td>Erahth</td>\n",
       "      <td>NaN</td>\n",
       "      <td>[]</td>\n",
       "      <td>NaN</td>\n",
       "      <td>text</td>\n",
       "      <td>t2_115qx5</td>\n",
       "      <td>False</td>\n",
       "      <td>False</td>\n",
       "      <td>...</td>\n",
       "      <td>NaN</td>\n",
       "      <td>NaN</td>\n",
       "      <td>NaN</td>\n",
       "      <td>NaN</td>\n",
       "      <td>NaN</td>\n",
       "      <td>NaN</td>\n",
       "      <td>NaN</td>\n",
       "      <td>NaN</td>\n",
       "      <td>NaN</td>\n",
       "      <td>NaN</td>\n",
       "    </tr>\n",
       "    <tr>\n",
       "      <th>1</th>\n",
       "      <td>[]</td>\n",
       "      <td>False</td>\n",
       "      <td>MorrisonsLament</td>\n",
       "      <td>NaN</td>\n",
       "      <td>[]</td>\n",
       "      <td>NaN</td>\n",
       "      <td>text</td>\n",
       "      <td>t2_22r3dlgw</td>\n",
       "      <td>False</td>\n",
       "      <td>False</td>\n",
       "      <td>...</td>\n",
       "      <td>NaN</td>\n",
       "      <td>NaN</td>\n",
       "      <td>NaN</td>\n",
       "      <td>NaN</td>\n",
       "      <td>NaN</td>\n",
       "      <td>NaN</td>\n",
       "      <td>NaN</td>\n",
       "      <td>NaN</td>\n",
       "      <td>NaN</td>\n",
       "      <td>NaN</td>\n",
       "    </tr>\n",
       "    <tr>\n",
       "      <th>2</th>\n",
       "      <td>[]</td>\n",
       "      <td>False</td>\n",
       "      <td>infiniteknights</td>\n",
       "      <td>NaN</td>\n",
       "      <td>[]</td>\n",
       "      <td>NaN</td>\n",
       "      <td>text</td>\n",
       "      <td>t2_2whl5ei</td>\n",
       "      <td>False</td>\n",
       "      <td>False</td>\n",
       "      <td>...</td>\n",
       "      <td>NaN</td>\n",
       "      <td>NaN</td>\n",
       "      <td>NaN</td>\n",
       "      <td>NaN</td>\n",
       "      <td>NaN</td>\n",
       "      <td>NaN</td>\n",
       "      <td>NaN</td>\n",
       "      <td>NaN</td>\n",
       "      <td>NaN</td>\n",
       "      <td>NaN</td>\n",
       "    </tr>\n",
       "    <tr>\n",
       "      <th>3</th>\n",
       "      <td>[]</td>\n",
       "      <td>False</td>\n",
       "      <td>SimRayB</td>\n",
       "      <td>NaN</td>\n",
       "      <td>[]</td>\n",
       "      <td>NaN</td>\n",
       "      <td>text</td>\n",
       "      <td>t2_9vd8p2kn</td>\n",
       "      <td>False</td>\n",
       "      <td>False</td>\n",
       "      <td>...</td>\n",
       "      <td>NaN</td>\n",
       "      <td>NaN</td>\n",
       "      <td>NaN</td>\n",
       "      <td>NaN</td>\n",
       "      <td>NaN</td>\n",
       "      <td>NaN</td>\n",
       "      <td>NaN</td>\n",
       "      <td>NaN</td>\n",
       "      <td>NaN</td>\n",
       "      <td>NaN</td>\n",
       "    </tr>\n",
       "    <tr>\n",
       "      <th>4</th>\n",
       "      <td>[]</td>\n",
       "      <td>False</td>\n",
       "      <td>mathzak</td>\n",
       "      <td>NaN</td>\n",
       "      <td>[]</td>\n",
       "      <td>NaN</td>\n",
       "      <td>text</td>\n",
       "      <td>t2_kfje6</td>\n",
       "      <td>False</td>\n",
       "      <td>False</td>\n",
       "      <td>...</td>\n",
       "      <td>NaN</td>\n",
       "      <td>NaN</td>\n",
       "      <td>NaN</td>\n",
       "      <td>NaN</td>\n",
       "      <td>NaN</td>\n",
       "      <td>NaN</td>\n",
       "      <td>NaN</td>\n",
       "      <td>NaN</td>\n",
       "      <td>NaN</td>\n",
       "      <td>NaN</td>\n",
       "    </tr>\n",
       "  </tbody>\n",
       "</table>\n",
       "<p>5 rows × 79 columns</p>\n",
       "</div>"
      ],
      "text/plain": [
       "  all_awardings  allow_live_comments           author author_flair_css_class  \\\n",
       "0            []                False           Erahth                    NaN   \n",
       "1            []                False  MorrisonsLament                    NaN   \n",
       "2            []                False  infiniteknights                    NaN   \n",
       "3            []                False          SimRayB                    NaN   \n",
       "4            []                False          mathzak                    NaN   \n",
       "\n",
       "  author_flair_richtext author_flair_text author_flair_type author_fullname  \\\n",
       "0                    []               NaN              text       t2_115qx5   \n",
       "1                    []               NaN              text     t2_22r3dlgw   \n",
       "2                    []               NaN              text      t2_2whl5ei   \n",
       "3                    []               NaN              text     t2_9vd8p2kn   \n",
       "4                    []               NaN              text        t2_kfje6   \n",
       "\n",
       "  author_is_blocked author_patreon_flair  ... author_flair_background_color  \\\n",
       "0             False                False  ...                           NaN   \n",
       "1             False                False  ...                           NaN   \n",
       "2             False                False  ...                           NaN   \n",
       "3             False                False  ...                           NaN   \n",
       "4             False                False  ...                           NaN   \n",
       "\n",
       "  author_flair_text_color  banned_by  edited  gilded top_awarded_type  \\\n",
       "0                     NaN        NaN     NaN     NaN              NaN   \n",
       "1                     NaN        NaN     NaN     NaN              NaN   \n",
       "2                     NaN        NaN     NaN     NaN              NaN   \n",
       "3                     NaN        NaN     NaN     NaN              NaN   \n",
       "4                     NaN        NaN     NaN     NaN              NaN   \n",
       "\n",
       "  author_flair_template_id distinguished thumbnail_height thumbnail_width  \n",
       "0                      NaN           NaN              NaN             NaN  \n",
       "1                      NaN           NaN              NaN             NaN  \n",
       "2                      NaN           NaN              NaN             NaN  \n",
       "3                      NaN           NaN              NaN             NaN  \n",
       "4                      NaN           NaN              NaN             NaN  \n",
       "\n",
       "[5 rows x 79 columns]"
      ]
     },
     "execution_count": 4,
     "metadata": {},
     "output_type": "execute_result"
    }
   ],
   "source": [
    "raw.head()"
   ]
  },
  {
   "cell_type": "code",
   "execution_count": 5,
   "id": "4d3abc82",
   "metadata": {},
   "outputs": [],
   "source": [
    "# Dropping irrelevant columns\n",
    "raw = raw.drop(columns = ['all_awardings', 'allow_live_comments',\n",
    "       'author_flair_css_class', 'author_flair_richtext', 'author_flair_text',\n",
    "       'author_flair_type', 'author_fullname', 'author_is_blocked',\n",
    "       'author_patreon_flair', 'author_premium', 'awarders', 'can_mod_post',\n",
    "       'contest_mode', 'full_link', 'gildings', 'id',\n",
    "       'is_created_from_ads_ui', 'is_crosspostable', 'is_meta',\n",
    "       'is_original_content', 'is_reddit_media_domain', 'is_robot_indexable', 'link_flair_background_color',\n",
    "       'link_flair_css_class', 'link_flair_richtext', 'link_flair_template_id',\n",
    "       'link_flair_text', 'link_flair_text_color', 'link_flair_type', 'locked',\n",
    "       'media_only', 'no_follow', 'num_crossposts', 'over_18',\n",
    "       'parent_whitelist_status', 'permalink', 'pinned', 'pwls',\n",
    "       'retrieved_on', 'send_replies', 'spoiler',\n",
    "       'stickied', 'subreddit_subscribers',\n",
    "       'subreddit_type', 'thumbnail', 'total_awards_received',\n",
    "       'treatment_tags', 'upvote_ratio', 'url', 'whitelist_status', 'wls',\n",
    "       'removed_by_category', 'crosspost_parent', 'crosspost_parent_list',\n",
    "       'url_overridden_by_dest', 'author_cakeday',\n",
    "       'author_flair_background_color', 'author_flair_text_color', 'banned_by',\n",
    "       'post_hint', 'preview', 'edited', 'gilded', 'top_awarded_type',\n",
    "       'author_flair_template_id', 'distinguished', 'thumbnail_height',\n",
    "       'thumbnail_width','domain', 'is_video', 'subreddit_id'])"
   ]
  },
  {
   "cell_type": "code",
   "execution_count": 6,
   "id": "b93e733d",
   "metadata": {},
   "outputs": [],
   "source": [
    "# Converting and creating a timestamp column from UTC\n",
    "raw['timestamp'] = raw[\"created_utc\"].map(datetime.fromtimestamp)"
   ]
  },
  {
   "cell_type": "code",
   "execution_count": 7,
   "id": "7eebb9dc",
   "metadata": {},
   "outputs": [
    {
     "data": {
      "text/html": [
       "<div>\n",
       "<style scoped>\n",
       "    .dataframe tbody tr th:only-of-type {\n",
       "        vertical-align: middle;\n",
       "    }\n",
       "\n",
       "    .dataframe tbody tr th {\n",
       "        vertical-align: top;\n",
       "    }\n",
       "\n",
       "    .dataframe thead th {\n",
       "        text-align: right;\n",
       "    }\n",
       "</style>\n",
       "<table border=\"1\" class=\"dataframe\">\n",
       "  <thead>\n",
       "    <tr style=\"text-align: right;\">\n",
       "      <th></th>\n",
       "      <th>author</th>\n",
       "      <th>created_utc</th>\n",
       "      <th>is_self</th>\n",
       "      <th>num_comments</th>\n",
       "      <th>score</th>\n",
       "      <th>selftext</th>\n",
       "      <th>subreddit</th>\n",
       "      <th>title</th>\n",
       "      <th>timestamp</th>\n",
       "    </tr>\n",
       "  </thead>\n",
       "  <tbody>\n",
       "    <tr>\n",
       "      <th>0</th>\n",
       "      <td>Erahth</td>\n",
       "      <td>1627798261</td>\n",
       "      <td>True</td>\n",
       "      <td>12</td>\n",
       "      <td>1</td>\n",
       "      <td>So, this just happened. My 3.5yo son is showin...</td>\n",
       "      <td>MaliciousCompliance</td>\n",
       "      <td>One more sip…</td>\n",
       "      <td>2021-08-01 00:11:01</td>\n",
       "    </tr>\n",
       "    <tr>\n",
       "      <th>1</th>\n",
       "      <td>MorrisonsLament</td>\n",
       "      <td>1627798365</td>\n",
       "      <td>True</td>\n",
       "      <td>39</td>\n",
       "      <td>1</td>\n",
       "      <td>Many years ago I was working for a fairly larg...</td>\n",
       "      <td>MaliciousCompliance</td>\n",
       "      <td>\"You can't fire me. But you can make me stop w...</td>\n",
       "      <td>2021-08-01 00:12:45</td>\n",
       "    </tr>\n",
       "    <tr>\n",
       "      <th>2</th>\n",
       "      <td>infiniteknights</td>\n",
       "      <td>1627798884</td>\n",
       "      <td>True</td>\n",
       "      <td>215</td>\n",
       "      <td>1</td>\n",
       "      <td>I've been doing all my shopping online, from g...</td>\n",
       "      <td>MaliciousCompliance</td>\n",
       "      <td>\"Personal responsibility\"? Ok!</td>\n",
       "      <td>2021-08-01 00:21:24</td>\n",
       "    </tr>\n",
       "    <tr>\n",
       "      <th>3</th>\n",
       "      <td>SimRayB</td>\n",
       "      <td>1627800166</td>\n",
       "      <td>True</td>\n",
       "      <td>19</td>\n",
       "      <td>1</td>\n",
       "      <td>According to my Mother, this happened when I w...</td>\n",
       "      <td>MaliciousCompliance</td>\n",
       "      <td>You put all of those in your mouth or you can’...</td>\n",
       "      <td>2021-08-01 00:42:46</td>\n",
       "    </tr>\n",
       "    <tr>\n",
       "      <th>4</th>\n",
       "      <td>mathzak</td>\n",
       "      <td>1627807535</td>\n",
       "      <td>True</td>\n",
       "      <td>0</td>\n",
       "      <td>1</td>\n",
       "      <td>[removed]</td>\n",
       "      <td>MaliciousCompliance</td>\n",
       "      <td>Socially ostracize all people that don’t take ...</td>\n",
       "      <td>2021-08-01 02:45:35</td>\n",
       "    </tr>\n",
       "  </tbody>\n",
       "</table>\n",
       "</div>"
      ],
      "text/plain": [
       "            author  created_utc  is_self  num_comments  score  \\\n",
       "0           Erahth   1627798261     True            12      1   \n",
       "1  MorrisonsLament   1627798365     True            39      1   \n",
       "2  infiniteknights   1627798884     True           215      1   \n",
       "3          SimRayB   1627800166     True            19      1   \n",
       "4          mathzak   1627807535     True             0      1   \n",
       "\n",
       "                                            selftext            subreddit  \\\n",
       "0  So, this just happened. My 3.5yo son is showin...  MaliciousCompliance   \n",
       "1  Many years ago I was working for a fairly larg...  MaliciousCompliance   \n",
       "2  I've been doing all my shopping online, from g...  MaliciousCompliance   \n",
       "3  According to my Mother, this happened when I w...  MaliciousCompliance   \n",
       "4                                          [removed]  MaliciousCompliance   \n",
       "\n",
       "                                               title           timestamp  \n",
       "0                                      One more sip… 2021-08-01 00:11:01  \n",
       "1  \"You can't fire me. But you can make me stop w... 2021-08-01 00:12:45  \n",
       "2                     \"Personal responsibility\"? Ok! 2021-08-01 00:21:24  \n",
       "3  You put all of those in your mouth or you can’... 2021-08-01 00:42:46  \n",
       "4  Socially ostracize all people that don’t take ... 2021-08-01 02:45:35  "
      ]
     },
     "execution_count": 7,
     "metadata": {},
     "output_type": "execute_result"
    }
   ],
   "source": [
    "raw.head()"
   ]
  },
  {
   "cell_type": "code",
   "execution_count": 8,
   "id": "5463f829",
   "metadata": {},
   "outputs": [
    {
     "data": {
      "text/plain": [
       "author            0\n",
       "created_utc       0\n",
       "is_self           0\n",
       "num_comments      0\n",
       "score             0\n",
       "selftext        885\n",
       "subreddit         0\n",
       "title             0\n",
       "timestamp         0\n",
       "dtype: int64"
      ]
     },
     "execution_count": 8,
     "metadata": {},
     "output_type": "execute_result"
    }
   ],
   "source": [
    "raw.isnull().sum()"
   ]
  },
  {
   "cell_type": "code",
   "execution_count": 9,
   "id": "42d00006",
   "metadata": {},
   "outputs": [],
   "source": [
    "# Drop NaNs in selftext\n",
    "raw = raw.dropna()"
   ]
  },
  {
   "cell_type": "code",
   "execution_count": 10,
   "id": "88c1f436",
   "metadata": {},
   "outputs": [
    {
     "data": {
      "text/plain": [
       "(25795, 9)"
      ]
     },
     "execution_count": 10,
     "metadata": {},
     "output_type": "execute_result"
    }
   ],
   "source": [
    "raw.shape"
   ]
  },
  {
   "cell_type": "code",
   "execution_count": 11,
   "id": "4323d598",
   "metadata": {},
   "outputs": [],
   "source": [
    "# Drop posts where text has been removed or deleted\n",
    "raw = raw[raw['selftext']!='[removed]']\n",
    "raw = raw[raw['selftext']!='[deleted]']"
   ]
  },
  {
   "cell_type": "code",
   "execution_count": 12,
   "id": "daa300e1",
   "metadata": {},
   "outputs": [
    {
     "data": {
      "text/plain": [
       "(11189, 9)"
      ]
     },
     "execution_count": 12,
     "metadata": {},
     "output_type": "execute_result"
    }
   ],
   "source": [
    "raw.shape"
   ]
  },
  {
   "cell_type": "code",
   "execution_count": 13,
   "id": "6d23f355",
   "metadata": {},
   "outputs": [
    {
     "data": {
      "text/html": [
       "<div>\n",
       "<style scoped>\n",
       "    .dataframe tbody tr th:only-of-type {\n",
       "        vertical-align: middle;\n",
       "    }\n",
       "\n",
       "    .dataframe tbody tr th {\n",
       "        vertical-align: top;\n",
       "    }\n",
       "\n",
       "    .dataframe thead th {\n",
       "        text-align: right;\n",
       "    }\n",
       "</style>\n",
       "<table border=\"1\" class=\"dataframe\">\n",
       "  <thead>\n",
       "    <tr style=\"text-align: right;\">\n",
       "      <th></th>\n",
       "      <th>author</th>\n",
       "      <th>created_utc</th>\n",
       "      <th>is_self</th>\n",
       "      <th>num_comments</th>\n",
       "      <th>score</th>\n",
       "      <th>selftext</th>\n",
       "      <th>subreddit</th>\n",
       "      <th>title</th>\n",
       "      <th>timestamp</th>\n",
       "    </tr>\n",
       "  </thead>\n",
       "  <tbody>\n",
       "  </tbody>\n",
       "</table>\n",
       "</div>"
      ],
      "text/plain": [
       "Empty DataFrame\n",
       "Columns: [author, created_utc, is_self, num_comments, score, selftext, subreddit, title, timestamp]\n",
       "Index: []"
      ]
     },
     "execution_count": 13,
     "metadata": {},
     "output_type": "execute_result"
    }
   ],
   "source": [
    "# Drop posts by AutoModerator (if you see really high-count words like \"Daily\" \"Discussion\" etc.)\n",
    "#raw = raw.drop(raw[raw['author'] == 'AutoModerator'].index)\n",
    "raw[raw['author'].str.contains('AutoModerator', case = False)]"
   ]
  },
  {
   "cell_type": "code",
   "execution_count": 14,
   "id": "17e90efc",
   "metadata": {},
   "outputs": [
    {
     "data": {
      "text/html": [
       "<div>\n",
       "<style scoped>\n",
       "    .dataframe tbody tr th:only-of-type {\n",
       "        vertical-align: middle;\n",
       "    }\n",
       "\n",
       "    .dataframe tbody tr th {\n",
       "        vertical-align: top;\n",
       "    }\n",
       "\n",
       "    .dataframe thead th {\n",
       "        text-align: right;\n",
       "    }\n",
       "</style>\n",
       "<table border=\"1\" class=\"dataframe\">\n",
       "  <thead>\n",
       "    <tr style=\"text-align: right;\">\n",
       "      <th></th>\n",
       "      <th>author</th>\n",
       "      <th>created_utc</th>\n",
       "      <th>is_self</th>\n",
       "      <th>num_comments</th>\n",
       "      <th>score</th>\n",
       "      <th>selftext</th>\n",
       "      <th>subreddit</th>\n",
       "      <th>title</th>\n",
       "      <th>timestamp</th>\n",
       "      <th>all_text</th>\n",
       "    </tr>\n",
       "  </thead>\n",
       "  <tbody>\n",
       "    <tr>\n",
       "      <th>0</th>\n",
       "      <td>Erahth</td>\n",
       "      <td>1627798261</td>\n",
       "      <td>True</td>\n",
       "      <td>12</td>\n",
       "      <td>1</td>\n",
       "      <td>So, this just happened. My 3.5yo son is showin...</td>\n",
       "      <td>MaliciousCompliance</td>\n",
       "      <td>One more sip…</td>\n",
       "      <td>2021-08-01 00:11:01</td>\n",
       "      <td>One more sip… So, this just happened. My 3.5yo...</td>\n",
       "    </tr>\n",
       "    <tr>\n",
       "      <th>1</th>\n",
       "      <td>MorrisonsLament</td>\n",
       "      <td>1627798365</td>\n",
       "      <td>True</td>\n",
       "      <td>39</td>\n",
       "      <td>1</td>\n",
       "      <td>Many years ago I was working for a fairly larg...</td>\n",
       "      <td>MaliciousCompliance</td>\n",
       "      <td>\"You can't fire me. But you can make me stop w...</td>\n",
       "      <td>2021-08-01 00:12:45</td>\n",
       "      <td>\"You can't fire me. But you can make me stop w...</td>\n",
       "    </tr>\n",
       "    <tr>\n",
       "      <th>2</th>\n",
       "      <td>infiniteknights</td>\n",
       "      <td>1627798884</td>\n",
       "      <td>True</td>\n",
       "      <td>215</td>\n",
       "      <td>1</td>\n",
       "      <td>I've been doing all my shopping online, from g...</td>\n",
       "      <td>MaliciousCompliance</td>\n",
       "      <td>\"Personal responsibility\"? Ok!</td>\n",
       "      <td>2021-08-01 00:21:24</td>\n",
       "      <td>\"Personal responsibility\"? Ok! I've been doing...</td>\n",
       "    </tr>\n",
       "    <tr>\n",
       "      <th>3</th>\n",
       "      <td>SimRayB</td>\n",
       "      <td>1627800166</td>\n",
       "      <td>True</td>\n",
       "      <td>19</td>\n",
       "      <td>1</td>\n",
       "      <td>According to my Mother, this happened when I w...</td>\n",
       "      <td>MaliciousCompliance</td>\n",
       "      <td>You put all of those in your mouth or you can’...</td>\n",
       "      <td>2021-08-01 00:42:46</td>\n",
       "      <td>You put all of those in your mouth or you can’...</td>\n",
       "    </tr>\n",
       "    <tr>\n",
       "      <th>6</th>\n",
       "      <td>CSPhCT</td>\n",
       "      <td>1627819267</td>\n",
       "      <td>True</td>\n",
       "      <td>28</td>\n",
       "      <td>1</td>\n",
       "      <td>Patient comes into my pharmacy. “I’m here for ...</td>\n",
       "      <td>MaliciousCompliance</td>\n",
       "      <td>Patient wants what he wants so I just need to ...</td>\n",
       "      <td>2021-08-01 06:01:07</td>\n",
       "      <td>Patient wants what he wants so I just need to ...</td>\n",
       "    </tr>\n",
       "  </tbody>\n",
       "</table>\n",
       "</div>"
      ],
      "text/plain": [
       "            author  created_utc  is_self  num_comments  score  \\\n",
       "0           Erahth   1627798261     True            12      1   \n",
       "1  MorrisonsLament   1627798365     True            39      1   \n",
       "2  infiniteknights   1627798884     True           215      1   \n",
       "3          SimRayB   1627800166     True            19      1   \n",
       "6           CSPhCT   1627819267     True            28      1   \n",
       "\n",
       "                                            selftext            subreddit  \\\n",
       "0  So, this just happened. My 3.5yo son is showin...  MaliciousCompliance   \n",
       "1  Many years ago I was working for a fairly larg...  MaliciousCompliance   \n",
       "2  I've been doing all my shopping online, from g...  MaliciousCompliance   \n",
       "3  According to my Mother, this happened when I w...  MaliciousCompliance   \n",
       "6  Patient comes into my pharmacy. “I’m here for ...  MaliciousCompliance   \n",
       "\n",
       "                                               title           timestamp  \\\n",
       "0                                      One more sip… 2021-08-01 00:11:01   \n",
       "1  \"You can't fire me. But you can make me stop w... 2021-08-01 00:12:45   \n",
       "2                     \"Personal responsibility\"? Ok! 2021-08-01 00:21:24   \n",
       "3  You put all of those in your mouth or you can’... 2021-08-01 00:42:46   \n",
       "6  Patient wants what he wants so I just need to ... 2021-08-01 06:01:07   \n",
       "\n",
       "                                            all_text  \n",
       "0  One more sip… So, this just happened. My 3.5yo...  \n",
       "1  \"You can't fire me. But you can make me stop w...  \n",
       "2  \"Personal responsibility\"? Ok! I've been doing...  \n",
       "3  You put all of those in your mouth or you can’...  \n",
       "6  Patient wants what he wants so I just need to ...  "
      ]
     },
     "execution_count": 14,
     "metadata": {},
     "output_type": "execute_result"
    }
   ],
   "source": [
    "# Creating a new column with all text combined and not including [removed] selftext rows\n",
    "\n",
    "raw['all_text']=raw['title'] +' '+ raw['selftext']\n",
    "raw.head()"
   ]
  },
  {
   "cell_type": "code",
   "execution_count": 15,
   "id": "d1b8b654",
   "metadata": {},
   "outputs": [
    {
     "data": {
      "text/html": [
       "<div>\n",
       "<style scoped>\n",
       "    .dataframe tbody tr th:only-of-type {\n",
       "        vertical-align: middle;\n",
       "    }\n",
       "\n",
       "    .dataframe tbody tr th {\n",
       "        vertical-align: top;\n",
       "    }\n",
       "\n",
       "    .dataframe thead th {\n",
       "        text-align: right;\n",
       "    }\n",
       "</style>\n",
       "<table border=\"1\" class=\"dataframe\">\n",
       "  <thead>\n",
       "    <tr style=\"text-align: right;\">\n",
       "      <th></th>\n",
       "      <th>author</th>\n",
       "      <th>created_utc</th>\n",
       "      <th>is_self</th>\n",
       "      <th>num_comments</th>\n",
       "      <th>score</th>\n",
       "      <th>selftext</th>\n",
       "      <th>subreddit</th>\n",
       "      <th>title</th>\n",
       "      <th>timestamp</th>\n",
       "      <th>all_text</th>\n",
       "    </tr>\n",
       "  </thead>\n",
       "  <tbody>\n",
       "    <tr>\n",
       "      <th>0</th>\n",
       "      <td>Erahth</td>\n",
       "      <td>1627798261</td>\n",
       "      <td>True</td>\n",
       "      <td>12</td>\n",
       "      <td>1</td>\n",
       "      <td>So, this just happened. My 3.5yo son is showin...</td>\n",
       "      <td>MaliciousCompliance</td>\n",
       "      <td>One more sip…</td>\n",
       "      <td>2021-08-01 00:11:01</td>\n",
       "      <td>One more sip… So, this just happened. My 3.5yo...</td>\n",
       "    </tr>\n",
       "    <tr>\n",
       "      <th>1</th>\n",
       "      <td>MorrisonsLament</td>\n",
       "      <td>1627798365</td>\n",
       "      <td>True</td>\n",
       "      <td>39</td>\n",
       "      <td>1</td>\n",
       "      <td>Many years ago I was working for a fairly larg...</td>\n",
       "      <td>MaliciousCompliance</td>\n",
       "      <td>\"You can't fire me. But you can make me stop w...</td>\n",
       "      <td>2021-08-01 00:12:45</td>\n",
       "      <td>\"You can't fire me. But you can make me stop w...</td>\n",
       "    </tr>\n",
       "    <tr>\n",
       "      <th>2</th>\n",
       "      <td>infiniteknights</td>\n",
       "      <td>1627798884</td>\n",
       "      <td>True</td>\n",
       "      <td>215</td>\n",
       "      <td>1</td>\n",
       "      <td>I've been doing all my shopping online, from g...</td>\n",
       "      <td>MaliciousCompliance</td>\n",
       "      <td>\"Personal responsibility\"? Ok!</td>\n",
       "      <td>2021-08-01 00:21:24</td>\n",
       "      <td>\"Personal responsibility\"? Ok! I've been doing...</td>\n",
       "    </tr>\n",
       "    <tr>\n",
       "      <th>3</th>\n",
       "      <td>SimRayB</td>\n",
       "      <td>1627800166</td>\n",
       "      <td>True</td>\n",
       "      <td>19</td>\n",
       "      <td>1</td>\n",
       "      <td>According to my Mother, this happened when I w...</td>\n",
       "      <td>MaliciousCompliance</td>\n",
       "      <td>You put all of those in your mouth or you can’...</td>\n",
       "      <td>2021-08-01 00:42:46</td>\n",
       "      <td>You put all of those in your mouth or you can’...</td>\n",
       "    </tr>\n",
       "    <tr>\n",
       "      <th>4</th>\n",
       "      <td>CSPhCT</td>\n",
       "      <td>1627819267</td>\n",
       "      <td>True</td>\n",
       "      <td>28</td>\n",
       "      <td>1</td>\n",
       "      <td>Patient comes into my pharmacy. “I’m here for ...</td>\n",
       "      <td>MaliciousCompliance</td>\n",
       "      <td>Patient wants what he wants so I just need to ...</td>\n",
       "      <td>2021-08-01 06:01:07</td>\n",
       "      <td>Patient wants what he wants so I just need to ...</td>\n",
       "    </tr>\n",
       "  </tbody>\n",
       "</table>\n",
       "</div>"
      ],
      "text/plain": [
       "            author  created_utc  is_self  num_comments  score  \\\n",
       "0           Erahth   1627798261     True            12      1   \n",
       "1  MorrisonsLament   1627798365     True            39      1   \n",
       "2  infiniteknights   1627798884     True           215      1   \n",
       "3          SimRayB   1627800166     True            19      1   \n",
       "4           CSPhCT   1627819267     True            28      1   \n",
       "\n",
       "                                            selftext            subreddit  \\\n",
       "0  So, this just happened. My 3.5yo son is showin...  MaliciousCompliance   \n",
       "1  Many years ago I was working for a fairly larg...  MaliciousCompliance   \n",
       "2  I've been doing all my shopping online, from g...  MaliciousCompliance   \n",
       "3  According to my Mother, this happened when I w...  MaliciousCompliance   \n",
       "4  Patient comes into my pharmacy. “I’m here for ...  MaliciousCompliance   \n",
       "\n",
       "                                               title           timestamp  \\\n",
       "0                                      One more sip… 2021-08-01 00:11:01   \n",
       "1  \"You can't fire me. But you can make me stop w... 2021-08-01 00:12:45   \n",
       "2                     \"Personal responsibility\"? Ok! 2021-08-01 00:21:24   \n",
       "3  You put all of those in your mouth or you can’... 2021-08-01 00:42:46   \n",
       "4  Patient wants what he wants so I just need to ... 2021-08-01 06:01:07   \n",
       "\n",
       "                                            all_text  \n",
       "0  One more sip… So, this just happened. My 3.5yo...  \n",
       "1  \"You can't fire me. But you can make me stop w...  \n",
       "2  \"Personal responsibility\"? Ok! I've been doing...  \n",
       "3  You put all of those in your mouth or you can’...  \n",
       "4  Patient wants what he wants so I just need to ...  "
      ]
     },
     "execution_count": 15,
     "metadata": {},
     "output_type": "execute_result"
    }
   ],
   "source": [
    "# Reset index\n",
    "raw.reset_index(inplace = True, drop = True)\n",
    "raw.head()"
   ]
  },
  {
   "cell_type": "code",
   "execution_count": 16,
   "id": "89ecc28f",
   "metadata": {},
   "outputs": [],
   "source": [
    "# REFERENCE: In-class coding challenge\n",
    "\n",
    "def clean_strings(sentences, stopwords = []):\n",
    "    import pandas as pd\n",
    "    import numpy as np\n",
    "    import re\n",
    "    \n",
    "    output = []\n",
    "    \n",
    "    # lowercasing all\n",
    "    sentences = [st.lower() for st in sentences]\n",
    "    stopwords = [st.lower() for st in stopwords]\n",
    "    \n",
    "    # remove URLs before punctuation otherwise we won't be able to find URLs\n",
    "    sentences = [re.sub(r'^https?:\\/\\/.*[\\r\\n]*','', text, flags=re.MULTILINE) for text in sentences]\n",
    "    \n",
    "    #new lines and tabs\n",
    "    [st.replace('\\n', ' ').replace('\\t', ' ') for st in sentences]\n",
    "    \n",
    "    #digits and punctuation\n",
    "    for st in sentences:\n",
    "        new_st = ''.join([char for char in st if char.isalpha() or char ==' '])\n",
    "        \n",
    "        #stopwords\n",
    "        new_st = ' '.join([word for word in new_st.split() if word not in stopwords])\n",
    "        \n",
    "        output.append(new_st)\n",
    "        \n",
    "    return output"
   ]
  },
  {
   "cell_type": "code",
   "execution_count": 17,
   "id": "b1c68367",
   "metadata": {},
   "outputs": [],
   "source": [
    "clean_text=[]\n",
    "\n",
    "for text in raw['all_text']:\n",
    "     # Convert text to words, then append to clean_text.\n",
    "    clean_text.append(clean_strings(text))"
   ]
  },
  {
   "cell_type": "code",
   "execution_count": 18,
   "id": "116d1ce6",
   "metadata": {},
   "outputs": [
    {
     "data": {
      "text/plain": [
       "(11189, 10)"
      ]
     },
     "execution_count": 18,
     "metadata": {},
     "output_type": "execute_result"
    }
   ],
   "source": [
    "raw.shape"
   ]
  },
  {
   "cell_type": "code",
   "execution_count": 19,
   "id": "84745a2a",
   "metadata": {},
   "outputs": [
    {
     "data": {
      "text/plain": [
       "True    11189\n",
       "Name: is_self, dtype: int64"
      ]
     },
     "execution_count": 19,
     "metadata": {},
     "output_type": "execute_result"
    }
   ],
   "source": [
    "# Checking is_self is all true\n",
    "raw['is_self'].value_counts()"
   ]
  },
  {
   "cell_type": "code",
   "execution_count": 20,
   "id": "2f3ff925",
   "metadata": {},
   "outputs": [
    {
     "data": {
      "text/plain": [
       "(11189, 8)"
      ]
     },
     "execution_count": 20,
     "metadata": {},
     "output_type": "execute_result"
    }
   ],
   "source": [
    "# Can drop is_self and also created_utc now that we have a timestamp column\n",
    "raw = raw.drop(columns = ['is_self', 'created_utc'])\n",
    "raw.shape"
   ]
  },
  {
   "cell_type": "code",
   "execution_count": 35,
   "id": "7a375b09",
   "metadata": {},
   "outputs": [],
   "source": [
    "# Remove more reddit markdown/html artifacts I found below (weird characters combinations—often crop up when you vectorize)\n",
    "\n",
    "#raw['all_text'] = [re.sub(r'http\\S+', '', text) for text in raw['all_text']]\n",
    "raw['all_text'] = raw['all_text'].str.replace('x200B','')"
   ]
  },
  {
   "cell_type": "code",
   "execution_count": 36,
   "id": "5440aa48",
   "metadata": {},
   "outputs": [],
   "source": [
    "malicious = raw[raw['subreddit']=='MaliciousCompliance']\n",
    "petty = raw[raw['subreddit']=='pettyrevenge']\n",
    "pro = raw[raw['subreddit']=='ProRevenge']"
   ]
  },
  {
   "cell_type": "code",
   "execution_count": 37,
   "id": "91374b82",
   "metadata": {},
   "outputs": [
    {
     "data": {
      "text/plain": [
       "(5303, 8)"
      ]
     },
     "execution_count": 37,
     "metadata": {},
     "output_type": "execute_result"
    }
   ],
   "source": [
    "malicious.shape"
   ]
  },
  {
   "cell_type": "code",
   "execution_count": 38,
   "id": "c39fe912",
   "metadata": {},
   "outputs": [
    {
     "data": {
      "text/plain": [
       "(3360, 8)"
      ]
     },
     "execution_count": 38,
     "metadata": {},
     "output_type": "execute_result"
    }
   ],
   "source": [
    "petty.shape"
   ]
  },
  {
   "cell_type": "code",
   "execution_count": 39,
   "id": "1db5ef59",
   "metadata": {},
   "outputs": [
    {
     "data": {
      "text/plain": [
       "(2526, 8)"
      ]
     },
     "execution_count": 39,
     "metadata": {},
     "output_type": "execute_result"
    }
   ],
   "source": [
    "pro.shape"
   ]
  },
  {
   "cell_type": "code",
   "execution_count": 55,
   "id": "f10dd7fd",
   "metadata": {},
   "outputs": [
    {
     "data": {
      "text/plain": [
       "MaliciousCompliance    5303\n",
       "pettyrevenge           3360\n",
       "ProRevenge             2526\n",
       "Name: subreddit, dtype: int64"
      ]
     },
     "execution_count": 55,
     "metadata": {},
     "output_type": "execute_result"
    }
   ],
   "source": [
    "# Final amount of submissions per subreddit\n",
    "raw['subreddit'].value_counts()"
   ]
  },
  {
   "cell_type": "code",
   "execution_count": 56,
   "id": "cac0923a",
   "metadata": {},
   "outputs": [],
   "source": [
    "# Save cleaned file\n",
    "raw.to_csv('./data/cleaned_subreddit_data.csv', index=False)"
   ]
  },
  {
   "cell_type": "markdown",
   "id": "3bb8d9e2",
   "metadata": {},
   "source": [
    "## Data Dictionary"
   ]
  }
 ],
 "metadata": {
  "kernelspec": {
   "display_name": "Python 3",
   "language": "python",
   "name": "python3"
  },
  "language_info": {
   "codemirror_mode": {
    "name": "ipython",
    "version": 3
   },
   "file_extension": ".py",
   "mimetype": "text/x-python",
   "name": "python",
   "nbconvert_exporter": "python",
   "pygments_lexer": "ipython3",
   "version": "3.8.8"
  }
 },
 "nbformat": 4,
 "nbformat_minor": 5
}
