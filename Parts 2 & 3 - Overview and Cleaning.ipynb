{
 "cells": [
  {
   "cell_type": "markdown",
   "id": "ab08ed6f",
   "metadata": {},
   "source": [
    "<img src=\"http://imgur.com/1ZcRyrc.png\" style=\"float: left; margin: 20px; height: 55px\">\n",
    "\n",
    "# Project 3: Web APIs & NLP"
   ]
  },
  {
   "cell_type": "markdown",
   "id": "0d0b9932",
   "metadata": {},
   "source": [
    "--- \n",
    "# Part 2: Overview\n",
    "\n",
    "--- \n",
    "\n",
    "## Problem Statement\n",
    "\n",
    "Can we distinguish the difference between active vs. passive revenge in the subreddits r/MaliciousCompliance, r/pettyrevenge, and r/ProRevenge. "
   ]
  },
  {
   "cell_type": "markdown",
   "id": "10b535fd",
   "metadata": {},
   "source": [
    "## Contents\n",
    "- [Background on Subreddits Chosen](#Background-on-Subreddits-Chosen)\n",
    "- [References](#References)\n",
    "- [Data Cleaning](#Part-3-:-Data-Cleaning)"
   ]
  },
  {
   "cell_type": "markdown",
   "id": "8c2a0945",
   "metadata": {},
   "source": [
    "## Overview\n",
    "We will vectorize subreddit submission text scraped from reddit using the pushshift API and create a classification model with this data.\n",
    "\n",
    "The following were removed from the comments: html, hyperlinks, punctuation, words with 2 or fewer letters, whitespace including line returns, non-standard characters (emoji). Duplicate messages were dropped. There were approximately 1200 duplicate moderator bot messages (600 in cats and 600 in dogs). After cleaning, there were approximately 18,000 records total, still split approximately in half by cat and dog classes. Words in the comments were lemmatized and stop words were removed. Preliminary EDA showed that of the 30 most frequent words in each class, approximately 1/3 were unique to the class and 2/3 were the same in both.\n"
   ]
  },
  {
   "cell_type": "markdown",
   "id": "a594a199",
   "metadata": {},
   "source": [
    "## Background on Subreddits Chosen\n",
    "### r/MaliciousCompliance\n",
    "\n",
    "\n",
    "### r/pettyrevenge\n",
    "\n",
    "\n",
    "### r/ProRevenge\n"
   ]
  },
  {
   "cell_type": "markdown",
   "id": "8d12d9d3",
   "metadata": {},
   "source": [
    "## References\n",
    "1. http://jse.amstat.org/v19n3/decock/DataDocumentation.txt\n",
    "2. Pardoe , I. (2008), “Modeling home prices using realtor data”, Journal of Statistics Education Volume 16, Number 2 (2008). http://jse.amstat.org/v16n2/datasets.pardoe.pdf"
   ]
  },
  {
   "cell_type": "markdown",
   "id": "9bf5946e",
   "metadata": {},
   "source": [
    "--- \n",
    "# Part 3 : Data Cleaning\n",
    "\n",
    "--- "
   ]
  },
  {
   "cell_type": "code",
   "execution_count": 106,
   "id": "fe28c77d",
   "metadata": {},
   "outputs": [],
   "source": [
    "import pandas as pd\n",
    "import numpy as np\n",
    "import requests\n",
    "import datetime as dt\n",
    "from datetime import datetime\n",
    "import time\n",
    "import sys\n",
    "import string\n",
    "import re\n",
    "from bs4 import BeautifulSoup\n",
    "from sklearn.feature_extraction import text\n",
    "from nltk.tokenize import word_tokenize, sent_tokenize\n",
    "from nltk.corpus import stopwords\n",
    "from nltk.stem import WordNetLemmatizer\n",
    "from nltk.stem.porter import PorterStemmer"
   ]
  },
  {
   "cell_type": "code",
   "execution_count": 130,
   "id": "f4f8e6a7",
   "metadata": {},
   "outputs": [
    {
     "name": "stderr",
     "output_type": "stream",
     "text": [
      "/Users/emilysiegel/opt/anaconda3/lib/python3.8/site-packages/IPython/core/interactiveshell.py:3165: DtypeWarning: Columns (3,5,8,19,63,64,65,66,67,74,75,76) have mixed types.Specify dtype option on import or set low_memory=False.\n",
      "  has_raised = await self.run_ast_nodes(code_ast.body, cell_name,\n"
     ]
    }
   ],
   "source": [
    "# Read in both CSVs & create dfs\n",
    "\n",
    "raw = pd.read_csv('./data/subreddit_data.csv')"
   ]
  },
  {
   "cell_type": "code",
   "execution_count": 109,
   "id": "98879440",
   "metadata": {},
   "outputs": [
    {
     "data": {
      "text/plain": [
       "(17104, 79)"
      ]
     },
     "execution_count": 109,
     "metadata": {},
     "output_type": "execute_result"
    }
   ],
   "source": [
    "raw.shape"
   ]
  },
  {
   "cell_type": "code",
   "execution_count": 110,
   "id": "5037e740",
   "metadata": {},
   "outputs": [
    {
     "data": {
      "text/html": [
       "<div>\n",
       "<style scoped>\n",
       "    .dataframe tbody tr th:only-of-type {\n",
       "        vertical-align: middle;\n",
       "    }\n",
       "\n",
       "    .dataframe tbody tr th {\n",
       "        vertical-align: top;\n",
       "    }\n",
       "\n",
       "    .dataframe thead th {\n",
       "        text-align: right;\n",
       "    }\n",
       "</style>\n",
       "<table border=\"1\" class=\"dataframe\">\n",
       "  <thead>\n",
       "    <tr style=\"text-align: right;\">\n",
       "      <th></th>\n",
       "      <th>all_awardings</th>\n",
       "      <th>allow_live_comments</th>\n",
       "      <th>author</th>\n",
       "      <th>author_flair_css_class</th>\n",
       "      <th>author_flair_richtext</th>\n",
       "      <th>author_flair_text</th>\n",
       "      <th>author_flair_type</th>\n",
       "      <th>author_fullname</th>\n",
       "      <th>author_is_blocked</th>\n",
       "      <th>author_patreon_flair</th>\n",
       "      <th>...</th>\n",
       "      <th>banned_by</th>\n",
       "      <th>post_hint</th>\n",
       "      <th>preview</th>\n",
       "      <th>edited</th>\n",
       "      <th>gilded</th>\n",
       "      <th>top_awarded_type</th>\n",
       "      <th>author_flair_template_id</th>\n",
       "      <th>distinguished</th>\n",
       "      <th>thumbnail_height</th>\n",
       "      <th>thumbnail_width</th>\n",
       "    </tr>\n",
       "  </thead>\n",
       "  <tbody>\n",
       "    <tr>\n",
       "      <th>0</th>\n",
       "      <td>[]</td>\n",
       "      <td>False</td>\n",
       "      <td>Able_Engine_9515</td>\n",
       "      <td>NaN</td>\n",
       "      <td>[]</td>\n",
       "      <td>NaN</td>\n",
       "      <td>text</td>\n",
       "      <td>t2_a32pwgrv</td>\n",
       "      <td>False</td>\n",
       "      <td>False</td>\n",
       "      <td>...</td>\n",
       "      <td>NaN</td>\n",
       "      <td>NaN</td>\n",
       "      <td>NaN</td>\n",
       "      <td>NaN</td>\n",
       "      <td>NaN</td>\n",
       "      <td>NaN</td>\n",
       "      <td>NaN</td>\n",
       "      <td>NaN</td>\n",
       "      <td>NaN</td>\n",
       "      <td>NaN</td>\n",
       "    </tr>\n",
       "    <tr>\n",
       "      <th>1</th>\n",
       "      <td>[]</td>\n",
       "      <td>False</td>\n",
       "      <td>PurveyorOfSapristi</td>\n",
       "      <td>NaN</td>\n",
       "      <td>[]</td>\n",
       "      <td>NaN</td>\n",
       "      <td>text</td>\n",
       "      <td>t2_vwbcw1c</td>\n",
       "      <td>False</td>\n",
       "      <td>False</td>\n",
       "      <td>...</td>\n",
       "      <td>NaN</td>\n",
       "      <td>NaN</td>\n",
       "      <td>NaN</td>\n",
       "      <td>NaN</td>\n",
       "      <td>NaN</td>\n",
       "      <td>NaN</td>\n",
       "      <td>NaN</td>\n",
       "      <td>NaN</td>\n",
       "      <td>NaN</td>\n",
       "      <td>NaN</td>\n",
       "    </tr>\n",
       "    <tr>\n",
       "      <th>2</th>\n",
       "      <td>[]</td>\n",
       "      <td>False</td>\n",
       "      <td>No-Cartoonist-2079</td>\n",
       "      <td>NaN</td>\n",
       "      <td>[]</td>\n",
       "      <td>NaN</td>\n",
       "      <td>text</td>\n",
       "      <td>t2_5xuf5a6i</td>\n",
       "      <td>False</td>\n",
       "      <td>False</td>\n",
       "      <td>...</td>\n",
       "      <td>NaN</td>\n",
       "      <td>NaN</td>\n",
       "      <td>NaN</td>\n",
       "      <td>NaN</td>\n",
       "      <td>NaN</td>\n",
       "      <td>NaN</td>\n",
       "      <td>NaN</td>\n",
       "      <td>NaN</td>\n",
       "      <td>NaN</td>\n",
       "      <td>NaN</td>\n",
       "    </tr>\n",
       "    <tr>\n",
       "      <th>3</th>\n",
       "      <td>[]</td>\n",
       "      <td>False</td>\n",
       "      <td>BreWanKenobi</td>\n",
       "      <td>NaN</td>\n",
       "      <td>[]</td>\n",
       "      <td>NaN</td>\n",
       "      <td>text</td>\n",
       "      <td>t2_8lpt0vr8</td>\n",
       "      <td>False</td>\n",
       "      <td>False</td>\n",
       "      <td>...</td>\n",
       "      <td>NaN</td>\n",
       "      <td>NaN</td>\n",
       "      <td>NaN</td>\n",
       "      <td>NaN</td>\n",
       "      <td>NaN</td>\n",
       "      <td>NaN</td>\n",
       "      <td>NaN</td>\n",
       "      <td>NaN</td>\n",
       "      <td>NaN</td>\n",
       "      <td>NaN</td>\n",
       "    </tr>\n",
       "    <tr>\n",
       "      <th>4</th>\n",
       "      <td>[]</td>\n",
       "      <td>False</td>\n",
       "      <td>Electronic_Nebula999</td>\n",
       "      <td>NaN</td>\n",
       "      <td>[]</td>\n",
       "      <td>NaN</td>\n",
       "      <td>text</td>\n",
       "      <td>t2_cwtom2ev</td>\n",
       "      <td>False</td>\n",
       "      <td>False</td>\n",
       "      <td>...</td>\n",
       "      <td>NaN</td>\n",
       "      <td>NaN</td>\n",
       "      <td>NaN</td>\n",
       "      <td>NaN</td>\n",
       "      <td>NaN</td>\n",
       "      <td>NaN</td>\n",
       "      <td>NaN</td>\n",
       "      <td>NaN</td>\n",
       "      <td>NaN</td>\n",
       "      <td>NaN</td>\n",
       "    </tr>\n",
       "  </tbody>\n",
       "</table>\n",
       "<p>5 rows × 79 columns</p>\n",
       "</div>"
      ],
      "text/plain": [
       "  all_awardings  allow_live_comments                author  \\\n",
       "0            []                False      Able_Engine_9515   \n",
       "1            []                False    PurveyorOfSapristi   \n",
       "2            []                False    No-Cartoonist-2079   \n",
       "3            []                False          BreWanKenobi   \n",
       "4            []                False  Electronic_Nebula999   \n",
       "\n",
       "  author_flair_css_class author_flair_richtext author_flair_text  \\\n",
       "0                    NaN                    []               NaN   \n",
       "1                    NaN                    []               NaN   \n",
       "2                    NaN                    []               NaN   \n",
       "3                    NaN                    []               NaN   \n",
       "4                    NaN                    []               NaN   \n",
       "\n",
       "  author_flair_type author_fullname author_is_blocked author_patreon_flair  \\\n",
       "0              text     t2_a32pwgrv             False                False   \n",
       "1              text      t2_vwbcw1c             False                False   \n",
       "2              text     t2_5xuf5a6i             False                False   \n",
       "3              text     t2_8lpt0vr8             False                False   \n",
       "4              text     t2_cwtom2ev             False                False   \n",
       "\n",
       "   ... banned_by post_hint  preview  edited  gilded top_awarded_type  \\\n",
       "0  ...       NaN       NaN      NaN     NaN     NaN              NaN   \n",
       "1  ...       NaN       NaN      NaN     NaN     NaN              NaN   \n",
       "2  ...       NaN       NaN      NaN     NaN     NaN              NaN   \n",
       "3  ...       NaN       NaN      NaN     NaN     NaN              NaN   \n",
       "4  ...       NaN       NaN      NaN     NaN     NaN              NaN   \n",
       "\n",
       "  author_flair_template_id distinguished thumbnail_height thumbnail_width  \n",
       "0                      NaN           NaN              NaN             NaN  \n",
       "1                      NaN           NaN              NaN             NaN  \n",
       "2                      NaN           NaN              NaN             NaN  \n",
       "3                      NaN           NaN              NaN             NaN  \n",
       "4                      NaN           NaN              NaN             NaN  \n",
       "\n",
       "[5 rows x 79 columns]"
      ]
     },
     "execution_count": 110,
     "metadata": {},
     "output_type": "execute_result"
    }
   ],
   "source": [
    "raw.head()"
   ]
  },
  {
   "cell_type": "code",
   "execution_count": 131,
   "id": "4d3abc82",
   "metadata": {},
   "outputs": [],
   "source": [
    "# Dropping irrelevant columns\n",
    "raw = raw.drop(columns = ['all_awardings', 'allow_live_comments',\n",
    "       'author_flair_css_class', 'author_flair_richtext', 'author_flair_text',\n",
    "       'author_flair_type', 'author_fullname', 'author_is_blocked',\n",
    "       'author_patreon_flair', 'author_premium', 'awarders', 'can_mod_post',\n",
    "       'contest_mode', 'full_link', 'gildings', 'id',\n",
    "       'is_created_from_ads_ui', 'is_crosspostable', 'is_meta',\n",
    "       'is_original_content', 'is_reddit_media_domain', 'is_robot_indexable', 'link_flair_background_color',\n",
    "       'link_flair_css_class', 'link_flair_richtext', 'link_flair_template_id',\n",
    "       'link_flair_text', 'link_flair_text_color', 'link_flair_type', 'locked',\n",
    "       'media_only', 'no_follow', 'num_crossposts', 'over_18',\n",
    "       'parent_whitelist_status', 'permalink', 'pinned', 'pwls',\n",
    "       'retrieved_on', 'send_replies', 'spoiler',\n",
    "       'stickied', 'subreddit_subscribers',\n",
    "       'subreddit_type', 'thumbnail', 'total_awards_received',\n",
    "       'treatment_tags', 'upvote_ratio', 'url', 'whitelist_status', 'wls',\n",
    "       'removed_by_category', 'crosspost_parent', 'crosspost_parent_list',\n",
    "       'url_overridden_by_dest', 'author_cakeday',\n",
    "       'author_flair_background_color', 'author_flair_text_color', 'banned_by',\n",
    "       'post_hint', 'preview', 'edited', 'gilded', 'top_awarded_type',\n",
    "       'author_flair_template_id', 'distinguished', 'thumbnail_height',\n",
    "       'thumbnail_width','domain', 'is_video', 'subreddit_id'])"
   ]
  },
  {
   "cell_type": "code",
   "execution_count": 132,
   "id": "b93e733d",
   "metadata": {},
   "outputs": [],
   "source": [
    "# Converting and creating a timestamp column from UTC\n",
    "raw['timestamp'] = raw[\"created_utc\"].map(datetime.fromtimestamp)"
   ]
  },
  {
   "cell_type": "code",
   "execution_count": 113,
   "id": "7eebb9dc",
   "metadata": {},
   "outputs": [
    {
     "data": {
      "text/html": [
       "<div>\n",
       "<style scoped>\n",
       "    .dataframe tbody tr th:only-of-type {\n",
       "        vertical-align: middle;\n",
       "    }\n",
       "\n",
       "    .dataframe tbody tr th {\n",
       "        vertical-align: top;\n",
       "    }\n",
       "\n",
       "    .dataframe thead th {\n",
       "        text-align: right;\n",
       "    }\n",
       "</style>\n",
       "<table border=\"1\" class=\"dataframe\">\n",
       "  <thead>\n",
       "    <tr style=\"text-align: right;\">\n",
       "      <th></th>\n",
       "      <th>author</th>\n",
       "      <th>created_utc</th>\n",
       "      <th>is_self</th>\n",
       "      <th>num_comments</th>\n",
       "      <th>score</th>\n",
       "      <th>selftext</th>\n",
       "      <th>subreddit</th>\n",
       "      <th>title</th>\n",
       "      <th>timestamp</th>\n",
       "    </tr>\n",
       "  </thead>\n",
       "  <tbody>\n",
       "    <tr>\n",
       "      <th>0</th>\n",
       "      <td>Able_Engine_9515</td>\n",
       "      <td>1627673154</td>\n",
       "      <td>True</td>\n",
       "      <td>24</td>\n",
       "      <td>1</td>\n",
       "      <td>Like many stories I've read here I'm not entir...</td>\n",
       "      <td>MaliciousCompliance</td>\n",
       "      <td>Jeans are against the dress code now?</td>\n",
       "      <td>2021-07-30 13:25:54</td>\n",
       "    </tr>\n",
       "    <tr>\n",
       "      <th>1</th>\n",
       "      <td>PurveyorOfSapristi</td>\n",
       "      <td>1627674014</td>\n",
       "      <td>True</td>\n",
       "      <td>8</td>\n",
       "      <td>1</td>\n",
       "      <td>When I found myself jobless I took a chance on...</td>\n",
       "      <td>MaliciousCompliance</td>\n",
       "      <td>Ex-Boss asked me for a shoutout due to some of...</td>\n",
       "      <td>2021-07-30 13:40:14</td>\n",
       "    </tr>\n",
       "    <tr>\n",
       "      <th>2</th>\n",
       "      <td>No-Cartoonist-2079</td>\n",
       "      <td>1627674459</td>\n",
       "      <td>True</td>\n",
       "      <td>1</td>\n",
       "      <td>1</td>\n",
       "      <td>After about 100 comments from other subs sayin...</td>\n",
       "      <td>MaliciousCompliance</td>\n",
       "      <td>Make you a sandwich? Ok</td>\n",
       "      <td>2021-07-30 13:47:39</td>\n",
       "    </tr>\n",
       "    <tr>\n",
       "      <th>3</th>\n",
       "      <td>BreWanKenobi</td>\n",
       "      <td>1627674792</td>\n",
       "      <td>True</td>\n",
       "      <td>657</td>\n",
       "      <td>1</td>\n",
       "      <td>While I was putting myself through university ...</td>\n",
       "      <td>MaliciousCompliance</td>\n",
       "      <td>Don’t want this saleswoman? Let me find anothe...</td>\n",
       "      <td>2021-07-30 13:53:12</td>\n",
       "    </tr>\n",
       "    <tr>\n",
       "      <th>4</th>\n",
       "      <td>Electronic_Nebula999</td>\n",
       "      <td>1627676223</td>\n",
       "      <td>True</td>\n",
       "      <td>0</td>\n",
       "      <td>1</td>\n",
       "      <td>[removed]</td>\n",
       "      <td>MaliciousCompliance</td>\n",
       "      <td>You don’t want my help with your workload? Fin...</td>\n",
       "      <td>2021-07-30 14:17:03</td>\n",
       "    </tr>\n",
       "  </tbody>\n",
       "</table>\n",
       "</div>"
      ],
      "text/plain": [
       "                 author  created_utc  is_self  num_comments  score  \\\n",
       "0      Able_Engine_9515   1627673154     True            24      1   \n",
       "1    PurveyorOfSapristi   1627674014     True             8      1   \n",
       "2    No-Cartoonist-2079   1627674459     True             1      1   \n",
       "3          BreWanKenobi   1627674792     True           657      1   \n",
       "4  Electronic_Nebula999   1627676223     True             0      1   \n",
       "\n",
       "                                            selftext            subreddit  \\\n",
       "0  Like many stories I've read here I'm not entir...  MaliciousCompliance   \n",
       "1  When I found myself jobless I took a chance on...  MaliciousCompliance   \n",
       "2  After about 100 comments from other subs sayin...  MaliciousCompliance   \n",
       "3  While I was putting myself through university ...  MaliciousCompliance   \n",
       "4                                          [removed]  MaliciousCompliance   \n",
       "\n",
       "                                               title           timestamp  \n",
       "0              Jeans are against the dress code now? 2021-07-30 13:25:54  \n",
       "1  Ex-Boss asked me for a shoutout due to some of... 2021-07-30 13:40:14  \n",
       "2                            Make you a sandwich? Ok 2021-07-30 13:47:39  \n",
       "3  Don’t want this saleswoman? Let me find anothe... 2021-07-30 13:53:12  \n",
       "4  You don’t want my help with your workload? Fin... 2021-07-30 14:17:03  "
      ]
     },
     "execution_count": 113,
     "metadata": {},
     "output_type": "execute_result"
    }
   ],
   "source": [
    "raw.head()"
   ]
  },
  {
   "cell_type": "code",
   "execution_count": 114,
   "id": "5463f829",
   "metadata": {},
   "outputs": [
    {
     "data": {
      "text/plain": [
       "author            0\n",
       "created_utc       0\n",
       "is_self           0\n",
       "num_comments      0\n",
       "score             0\n",
       "selftext        479\n",
       "subreddit         0\n",
       "title             0\n",
       "timestamp         0\n",
       "dtype: int64"
      ]
     },
     "execution_count": 114,
     "metadata": {},
     "output_type": "execute_result"
    }
   ],
   "source": [
    "raw.isnull().sum()"
   ]
  },
  {
   "cell_type": "code",
   "execution_count": 133,
   "id": "42d00006",
   "metadata": {},
   "outputs": [],
   "source": [
    "# Drop NaNs in selftext\n",
    "raw = raw.dropna()"
   ]
  },
  {
   "cell_type": "code",
   "execution_count": 134,
   "id": "88c1f436",
   "metadata": {},
   "outputs": [
    {
     "data": {
      "text/plain": [
       "(16625, 9)"
      ]
     },
     "execution_count": 134,
     "metadata": {},
     "output_type": "execute_result"
    }
   ],
   "source": [
    "raw.shape"
   ]
  },
  {
   "cell_type": "code",
   "execution_count": 137,
   "id": "4323d598",
   "metadata": {},
   "outputs": [],
   "source": [
    "# Drop posts where text has been removed or deleted\n",
    "raw = raw[raw['selftext']!='[removed]']\n",
    "raw = raw[raw['selftext']!='[deleted]']"
   ]
  },
  {
   "cell_type": "code",
   "execution_count": 141,
   "id": "daa300e1",
   "metadata": {},
   "outputs": [
    {
     "data": {
      "text/plain": [
       "(7047, 10)"
      ]
     },
     "execution_count": 141,
     "metadata": {},
     "output_type": "execute_result"
    }
   ],
   "source": [
    "raw.shape"
   ]
  },
  {
   "cell_type": "code",
   "execution_count": 140,
   "id": "6d23f355",
   "metadata": {},
   "outputs": [],
   "source": [
    "# Drop posts by AutoModerator (if you see really high-count words like \"Daily\" \"Discussion\" etc.\n",
    "raw = raw.drop(raw[raw['author'] == 'AutoModerator'].index)"
   ]
  },
  {
   "cell_type": "code",
   "execution_count": 142,
   "id": "17e90efc",
   "metadata": {},
   "outputs": [
    {
     "data": {
      "text/html": [
       "<div>\n",
       "<style scoped>\n",
       "    .dataframe tbody tr th:only-of-type {\n",
       "        vertical-align: middle;\n",
       "    }\n",
       "\n",
       "    .dataframe tbody tr th {\n",
       "        vertical-align: top;\n",
       "    }\n",
       "\n",
       "    .dataframe thead th {\n",
       "        text-align: right;\n",
       "    }\n",
       "</style>\n",
       "<table border=\"1\" class=\"dataframe\">\n",
       "  <thead>\n",
       "    <tr style=\"text-align: right;\">\n",
       "      <th></th>\n",
       "      <th>author</th>\n",
       "      <th>created_utc</th>\n",
       "      <th>is_self</th>\n",
       "      <th>num_comments</th>\n",
       "      <th>score</th>\n",
       "      <th>selftext</th>\n",
       "      <th>subreddit</th>\n",
       "      <th>title</th>\n",
       "      <th>timestamp</th>\n",
       "      <th>all_text</th>\n",
       "    </tr>\n",
       "  </thead>\n",
       "  <tbody>\n",
       "    <tr>\n",
       "      <th>17091</th>\n",
       "      <td>Prestige_Memes</td>\n",
       "      <td>1596315772</td>\n",
       "      <td>True</td>\n",
       "      <td>14</td>\n",
       "      <td>1</td>\n",
       "      <td>A bit of background; I was physically assaulte...</td>\n",
       "      <td>ProRevenge</td>\n",
       "      <td>I ruined my bully's life.</td>\n",
       "      <td>2020-08-01 15:02:52</td>\n",
       "      <td>I ruined my bully's life. A bit of background;...</td>\n",
       "    </tr>\n",
       "    <tr>\n",
       "      <th>17094</th>\n",
       "      <td>thisismew2king</td>\n",
       "      <td>1596330893</td>\n",
       "      <td>True</td>\n",
       "      <td>8</td>\n",
       "      <td>1</td>\n",
       "      <td>So when I was around 20 (M), I was working in ...</td>\n",
       "      <td>ProRevenge</td>\n",
       "      <td>Fucking the girl who hates me the most as revenge</td>\n",
       "      <td>2020-08-01 19:14:53</td>\n",
       "      <td>Fucking the girl who hates me the most as reve...</td>\n",
       "    </tr>\n",
       "    <tr>\n",
       "      <th>17096</th>\n",
       "      <td>Roonwogsamduff</td>\n",
       "      <td>1596340005</td>\n",
       "      <td>True</td>\n",
       "      <td>47</td>\n",
       "      <td>1</td>\n",
       "      <td>I’ve been thinking about posting this for a wh...</td>\n",
       "      <td>ProRevenge</td>\n",
       "      <td>Landlord doesn't play nice and pays for it</td>\n",
       "      <td>2020-08-01 21:46:45</td>\n",
       "      <td>Landlord doesn't play nice and pays for it I’v...</td>\n",
       "    </tr>\n",
       "    <tr>\n",
       "      <th>17100</th>\n",
       "      <td>EpicWinterWolf</td>\n",
       "      <td>1596360257</td>\n",
       "      <td>True</td>\n",
       "      <td>29</td>\n",
       "      <td>1</td>\n",
       "      <td>So, this happened about over a month back, and...</td>\n",
       "      <td>ProRevenge</td>\n",
       "      <td>Don't mess with my cat. It won't end well for ...</td>\n",
       "      <td>2020-08-02 03:24:17</td>\n",
       "      <td>Don't mess with my cat. It won't end well for ...</td>\n",
       "    </tr>\n",
       "    <tr>\n",
       "      <th>17103</th>\n",
       "      <td>Torsod</td>\n",
       "      <td>1596387491</td>\n",
       "      <td>True</td>\n",
       "      <td>14</td>\n",
       "      <td>1</td>\n",
       "      <td>So about 2 months ago, I had a falling out wit...</td>\n",
       "      <td>ProRevenge</td>\n",
       "      <td>Scam dozens of people out from a MINECRAFT SER...</td>\n",
       "      <td>2020-08-02 10:58:11</td>\n",
       "      <td>Scam dozens of people out from a MINECRAFT SER...</td>\n",
       "    </tr>\n",
       "  </tbody>\n",
       "</table>\n",
       "</div>"
      ],
      "text/plain": [
       "               author  created_utc  is_self  num_comments  score  \\\n",
       "17091  Prestige_Memes   1596315772     True            14      1   \n",
       "17094  thisismew2king   1596330893     True             8      1   \n",
       "17096  Roonwogsamduff   1596340005     True            47      1   \n",
       "17100  EpicWinterWolf   1596360257     True            29      1   \n",
       "17103          Torsod   1596387491     True            14      1   \n",
       "\n",
       "                                                selftext   subreddit  \\\n",
       "17091  A bit of background; I was physically assaulte...  ProRevenge   \n",
       "17094  So when I was around 20 (M), I was working in ...  ProRevenge   \n",
       "17096  I’ve been thinking about posting this for a wh...  ProRevenge   \n",
       "17100  So, this happened about over a month back, and...  ProRevenge   \n",
       "17103  So about 2 months ago, I had a falling out wit...  ProRevenge   \n",
       "\n",
       "                                                   title           timestamp  \\\n",
       "17091                          I ruined my bully's life. 2020-08-01 15:02:52   \n",
       "17094  Fucking the girl who hates me the most as revenge 2020-08-01 19:14:53   \n",
       "17096         Landlord doesn't play nice and pays for it 2020-08-01 21:46:45   \n",
       "17100  Don't mess with my cat. It won't end well for ... 2020-08-02 03:24:17   \n",
       "17103  Scam dozens of people out from a MINECRAFT SER... 2020-08-02 10:58:11   \n",
       "\n",
       "                                                all_text  \n",
       "17091  I ruined my bully's life. A bit of background;...  \n",
       "17094  Fucking the girl who hates me the most as reve...  \n",
       "17096  Landlord doesn't play nice and pays for it I’v...  \n",
       "17100  Don't mess with my cat. It won't end well for ...  \n",
       "17103  Scam dozens of people out from a MINECRAFT SER...  "
      ]
     },
     "execution_count": 142,
     "metadata": {},
     "output_type": "execute_result"
    }
   ],
   "source": [
    "# Creating a new column with all text combined and not including [removed] selftext rows\n",
    "\n",
    "raw['all_text']=raw['title'] +' '+ raw['selftext']\n",
    "raw.tail()"
   ]
  },
  {
   "cell_type": "code",
   "execution_count": 143,
   "id": "89ecc28f",
   "metadata": {},
   "outputs": [],
   "source": [
    "# REFERENCE: In-class coding challenge\n",
    "\n",
    "def clean_strings(sentences, stopwords = []):\n",
    "    import pandas as pd\n",
    "    import numpy as np\n",
    "    import re\n",
    "    \n",
    "    output = []\n",
    "    \n",
    "    # lowercasing all\n",
    "    sentences = [st.lower() for st in sentences]\n",
    "    stopwords = [st.lower() for st in stopwords]\n",
    "    \n",
    "    # remove URLs before punctuation otherwise we won't be able to find URLs\n",
    "    sentences = [re.sub(r'^https?:\\/\\/.*[\\r\\n]*','', text, flags=re.MULTILINE) for text in sentences]\n",
    "    \n",
    "    #new lines and tabs\n",
    "    [st.replace('\\n', ' ').replace('\\t', ' ') for st in sentences]\n",
    "    \n",
    "    #digits and punctuation\n",
    "    for st in sentences:\n",
    "        new_st = ''.join([char for char in st if char.isalpha() or char ==' '])\n",
    "        \n",
    "        #stopwords\n",
    "        new_st = ' '.join([word for word in new_st.split() if word not in stopwords])\n",
    "        \n",
    "        output.append(new_st)\n",
    "        \n",
    "    return output"
   ]
  },
  {
   "cell_type": "code",
   "execution_count": 144,
   "id": "b1c68367",
   "metadata": {},
   "outputs": [],
   "source": [
    "clean_text=[]\n",
    "\n",
    "for text in raw['all_text']:\n",
    "     # Convert text to words, then append to clean_text.\n",
    "    clean_text.append(clean_strings(text))"
   ]
  },
  {
   "cell_type": "code",
   "execution_count": 123,
   "id": "84745a2a",
   "metadata": {},
   "outputs": [
    {
     "data": {
      "text/html": [
       "<div>\n",
       "<style scoped>\n",
       "    .dataframe tbody tr th:only-of-type {\n",
       "        vertical-align: middle;\n",
       "    }\n",
       "\n",
       "    .dataframe tbody tr th {\n",
       "        vertical-align: top;\n",
       "    }\n",
       "\n",
       "    .dataframe thead th {\n",
       "        text-align: right;\n",
       "    }\n",
       "</style>\n",
       "<table border=\"1\" class=\"dataframe\">\n",
       "  <thead>\n",
       "    <tr style=\"text-align: right;\">\n",
       "      <th></th>\n",
       "      <th>author</th>\n",
       "      <th>created_utc</th>\n",
       "      <th>is_self</th>\n",
       "      <th>num_comments</th>\n",
       "      <th>score</th>\n",
       "      <th>selftext</th>\n",
       "      <th>subreddit</th>\n",
       "      <th>title</th>\n",
       "      <th>timestamp</th>\n",
       "      <th>all_text</th>\n",
       "    </tr>\n",
       "  </thead>\n",
       "  <tbody>\n",
       "    <tr>\n",
       "      <th>17091</th>\n",
       "      <td>Prestige_Memes</td>\n",
       "      <td>1596315772</td>\n",
       "      <td>True</td>\n",
       "      <td>14</td>\n",
       "      <td>1</td>\n",
       "      <td>A bit of background; I was physically assaulte...</td>\n",
       "      <td>ProRevenge</td>\n",
       "      <td>I ruined my bully's life.</td>\n",
       "      <td>2020-08-01 15:02:52</td>\n",
       "      <td>I ruined my bully's life. A bit of background;...</td>\n",
       "    </tr>\n",
       "    <tr>\n",
       "      <th>17094</th>\n",
       "      <td>thisismew2king</td>\n",
       "      <td>1596330893</td>\n",
       "      <td>True</td>\n",
       "      <td>8</td>\n",
       "      <td>1</td>\n",
       "      <td>So when I was around 20 (M), I was working in ...</td>\n",
       "      <td>ProRevenge</td>\n",
       "      <td>Fucking the girl who hates me the most as revenge</td>\n",
       "      <td>2020-08-01 19:14:53</td>\n",
       "      <td>Fucking the girl who hates me the most as reve...</td>\n",
       "    </tr>\n",
       "    <tr>\n",
       "      <th>17096</th>\n",
       "      <td>Roonwogsamduff</td>\n",
       "      <td>1596340005</td>\n",
       "      <td>True</td>\n",
       "      <td>47</td>\n",
       "      <td>1</td>\n",
       "      <td>I’ve been thinking about posting this for a wh...</td>\n",
       "      <td>ProRevenge</td>\n",
       "      <td>Landlord doesn't play nice and pays for it</td>\n",
       "      <td>2020-08-01 21:46:45</td>\n",
       "      <td>Landlord doesn't play nice and pays for it I’v...</td>\n",
       "    </tr>\n",
       "    <tr>\n",
       "      <th>17100</th>\n",
       "      <td>EpicWinterWolf</td>\n",
       "      <td>1596360257</td>\n",
       "      <td>True</td>\n",
       "      <td>29</td>\n",
       "      <td>1</td>\n",
       "      <td>So, this happened about over a month back, and...</td>\n",
       "      <td>ProRevenge</td>\n",
       "      <td>Don't mess with my cat. It won't end well for ...</td>\n",
       "      <td>2020-08-02 03:24:17</td>\n",
       "      <td>Don't mess with my cat. It won't end well for ...</td>\n",
       "    </tr>\n",
       "    <tr>\n",
       "      <th>17103</th>\n",
       "      <td>Torsod</td>\n",
       "      <td>1596387491</td>\n",
       "      <td>True</td>\n",
       "      <td>14</td>\n",
       "      <td>1</td>\n",
       "      <td>So about 2 months ago, I had a falling out wit...</td>\n",
       "      <td>ProRevenge</td>\n",
       "      <td>Scam dozens of people out from a MINECRAFT SER...</td>\n",
       "      <td>2020-08-02 10:58:11</td>\n",
       "      <td>Scam dozens of people out from a MINECRAFT SER...</td>\n",
       "    </tr>\n",
       "  </tbody>\n",
       "</table>\n",
       "</div>"
      ],
      "text/plain": [
       "               author  created_utc  is_self  num_comments  score  \\\n",
       "17091  Prestige_Memes   1596315772     True            14      1   \n",
       "17094  thisismew2king   1596330893     True             8      1   \n",
       "17096  Roonwogsamduff   1596340005     True            47      1   \n",
       "17100  EpicWinterWolf   1596360257     True            29      1   \n",
       "17103          Torsod   1596387491     True            14      1   \n",
       "\n",
       "                                                selftext   subreddit  \\\n",
       "17091  A bit of background; I was physically assaulte...  ProRevenge   \n",
       "17094  So when I was around 20 (M), I was working in ...  ProRevenge   \n",
       "17096  I’ve been thinking about posting this for a wh...  ProRevenge   \n",
       "17100  So, this happened about over a month back, and...  ProRevenge   \n",
       "17103  So about 2 months ago, I had a falling out wit...  ProRevenge   \n",
       "\n",
       "                                                   title           timestamp  \\\n",
       "17091                          I ruined my bully's life. 2020-08-01 15:02:52   \n",
       "17094  Fucking the girl who hates me the most as revenge 2020-08-01 19:14:53   \n",
       "17096         Landlord doesn't play nice and pays for it 2020-08-01 21:46:45   \n",
       "17100  Don't mess with my cat. It won't end well for ... 2020-08-02 03:24:17   \n",
       "17103  Scam dozens of people out from a MINECRAFT SER... 2020-08-02 10:58:11   \n",
       "\n",
       "                                                all_text  \n",
       "17091  I ruined my bully's life. A bit of background;...  \n",
       "17094  Fucking the girl who hates me the most as reve...  \n",
       "17096  Landlord doesn't play nice and pays for it I’v...  \n",
       "17100  Don't mess with my cat. It won't end well for ...  \n",
       "17103  Scam dozens of people out from a MINECRAFT SER...  "
      ]
     },
     "execution_count": 123,
     "metadata": {},
     "output_type": "execute_result"
    }
   ],
   "source": [
    "raw.tail()"
   ]
  },
  {
   "cell_type": "code",
   "execution_count": 145,
   "id": "7a375b09",
   "metadata": {},
   "outputs": [],
   "source": [
    "# Reddit markdown/html artifacts (weird characters combinations—often crop up when you vectorize)\n",
    "\n",
    "raw['all_text'] = [re.sub(r'http\\S+', '', text) for text in raw['all_text']]"
   ]
  },
  {
   "cell_type": "code",
   "execution_count": 146,
   "id": "5440aa48",
   "metadata": {},
   "outputs": [],
   "source": [
    "malicious = raw[raw['subreddit']=='MaliciousCompliance']\n",
    "petty = raw[raw['subreddit']=='pettyrevenge']\n",
    "pro = raw[raw['subreddit']=='ProRevenge']"
   ]
  },
  {
   "cell_type": "code",
   "execution_count": 147,
   "id": "91374b82",
   "metadata": {},
   "outputs": [
    {
     "data": {
      "text/plain": [
       "(3595, 10)"
      ]
     },
     "execution_count": 147,
     "metadata": {},
     "output_type": "execute_result"
    }
   ],
   "source": [
    "malicious.shape"
   ]
  },
  {
   "cell_type": "code",
   "execution_count": 148,
   "id": "c39fe912",
   "metadata": {},
   "outputs": [
    {
     "data": {
      "text/plain": [
       "(1911, 10)"
      ]
     },
     "execution_count": 148,
     "metadata": {},
     "output_type": "execute_result"
    }
   ],
   "source": [
    "petty.shape"
   ]
  },
  {
   "cell_type": "code",
   "execution_count": 149,
   "id": "1db5ef59",
   "metadata": {},
   "outputs": [
    {
     "data": {
      "text/plain": [
       "(1541, 10)"
      ]
     },
     "execution_count": 149,
     "metadata": {},
     "output_type": "execute_result"
    }
   ],
   "source": [
    "pro.shape"
   ]
  },
  {
   "cell_type": "code",
   "execution_count": null,
   "id": "ae2dc169",
   "metadata": {},
   "outputs": [],
   "source": [
    "# Remove more stop words\n",
    "\n",
    "my_stops = stopwords.words('english')\n",
    "my_stops.extend(['none','\\n', 'www', 'reddit', 'com', 'comment', 'http'])\n",
    "my_stops = set(my_stops)\n",
    "    \n",
    "\n",
    "meaningful_words = [w for w in words if not w in my_stops]\n",
    "    \n",
    "# lemmatizer the words.\n",
    "lemmatizer = WordNetLemmatizer()\n",
    "tokens_lem = [lemmatizer.lemmatize(i) for i in meaningful_words]\n",
    "    \n",
    "# Join the words back into one string\n",
    "' '.join(tokens_lem)"
   ]
  },
  {
   "cell_type": "code",
   "execution_count": null,
   "id": "96348bf9",
   "metadata": {},
   "outputs": [],
   "source": [
    "def tokenize(column):\n",
    "    raw[column] = [word_tokenize(str(text)) for text in word[column]]\n",
    "    return raw[column]\n",
    "\n",
    "def lemmatize(tokenized_column):\n",
    "    lemmatizer = WordNetLemmatizer()\n",
    "    raw[tokenized_column] = [' '.join([lemmatizer.lemmatize(word) for word in text]) for text in raw[tokenized_column]]\n",
    "    return raw[tokenized_column]\n"
   ]
  },
  {
   "cell_type": "code",
   "execution_count": 1,
   "id": "ad958455",
   "metadata": {},
   "outputs": [
    {
     "ename": "NameError",
     "evalue": "name 'most_common_malicious' is not defined",
     "output_type": "error",
     "traceback": [
      "\u001b[0;31m---------------------------------------------------------------------------\u001b[0m",
      "\u001b[0;31mNameError\u001b[0m                                 Traceback (most recent call last)",
      "\u001b[0;32m<ipython-input-1-ea0120641373>\u001b[0m in \u001b[0;36m<module>\u001b[0;34m\u001b[0m\n\u001b[1;32m      1\u001b[0m \u001b[0;31m# Most Common Words by Subreddit\u001b[0m\u001b[0;34m\u001b[0m\u001b[0;34m\u001b[0m\u001b[0;34m\u001b[0m\u001b[0m\n\u001b[1;32m      2\u001b[0m \u001b[0;34m\u001b[0m\u001b[0m\n\u001b[0;32m----> 3\u001b[0;31m \u001b[0mtables\u001b[0m \u001b[0;34m=\u001b[0m \u001b[0;34m[\u001b[0m\u001b[0mmost_common_malicious\u001b[0m\u001b[0;34m,\u001b[0m\u001b[0mmost_common_petty\u001b[0m\u001b[0;34m,\u001b[0m\u001b[0mmost_common_pro\u001b[0m\u001b[0;34m]\u001b[0m\u001b[0;34m\u001b[0m\u001b[0;34m\u001b[0m\u001b[0m\n\u001b[0m\u001b[1;32m      4\u001b[0m \u001b[0mtitles\u001b[0m \u001b[0;34m=\u001b[0m \u001b[0;34m[\u001b[0m\u001b[0;34m'r/MaliciousCompliance'\u001b[0m\u001b[0;34m,\u001b[0m \u001b[0;34m'r/pettyrevenge'\u001b[0m\u001b[0;34m,\u001b[0m \u001b[0;34m'r/ProRevenge'\u001b[0m\u001b[0;34m]\u001b[0m\u001b[0;34m\u001b[0m\u001b[0;34m\u001b[0m\u001b[0m\n\u001b[1;32m      5\u001b[0m \u001b[0;34m\u001b[0m\u001b[0m\n",
      "\u001b[0;31mNameError\u001b[0m: name 'most_common_malicious' is not defined"
     ]
    }
   ],
   "source": [
    "# Most Common Words by Subreddit\n",
    "\n",
    "tables = [most_common_malicious,most_common_petty,most_common_pro]\n",
    "titles = ['r/MaliciousCompliance', 'r/pettyrevenge', 'r/ProRevenge']\n",
    "\n",
    "fig, ax = plt.subplots(1,3, sharex=True, figsize=(16,8))\n",
    "axs = ax.ravel()\n",
    "fig.suptitle('Top 20 Most Common Words by Subreddit', fontsize=20, y=1.07)\n",
    "for i, ax in enumerate(axs):\n",
    "    plt.setp(ax.get_yticklabels(), fontsize=14)\n",
    "    ax.set_title(titles[i], fontsize=16)\n",
    "    ax.set_xlabel('Word Frequency', fontsize=18)\n",
    "    ax.set_ylabel('Word', fontsize=18)\n",
    "    sns.barplot(tables[i][0:20],tables[i].index.str.title()[0:20], orient='h',ax=ax, ec='k', linewidth=1)\n",
    "fig.tight_layout()"
   ]
  },
  {
   "cell_type": "code",
   "execution_count": null,
   "id": "cac0923a",
   "metadata": {},
   "outputs": [],
   "source": [
    "# Save cleaned file\n",
    "raw.to_csv('../data/cleaned_subreddit_data.csv', index=False)"
   ]
  }
 ],
 "metadata": {
  "kernelspec": {
   "display_name": "Python 3",
   "language": "python",
   "name": "python3"
  },
  "language_info": {
   "codemirror_mode": {
    "name": "ipython",
    "version": 3
   },
   "file_extension": ".py",
   "mimetype": "text/x-python",
   "name": "python",
   "nbconvert_exporter": "python",
   "pygments_lexer": "ipython3",
   "version": "3.8.8"
  }
 },
 "nbformat": 4,
 "nbformat_minor": 5
}
